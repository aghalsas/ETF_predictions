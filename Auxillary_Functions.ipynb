{
 "cells": [
  {
   "cell_type": "markdown",
   "metadata": {},
   "source": [
    "# Auxillary Functions"
   ]
  },
  {
   "cell_type": "code",
   "execution_count": 1,
   "metadata": {},
   "outputs": [],
   "source": [
    "def traintestvalsplit(X,y):\n",
    "    'Take data and perform a train, test valication split linearly not randomly'\n",
    "    size = X.shape[0]\n",
    "    tr_size = round(size*0.6)\n",
    "    val_size = round(size*0.2)\n",
    "    X_train = X.iloc[0:tr_size]\n",
    "    y_train = y.iloc[0:tr_size]\n",
    "    X_val = X.iloc[tr_size:tr_size+val_size]\n",
    "    y_val = y.iloc[tr_size:tr_size+val_size]\n",
    "    X_test = X.iloc[tr_size+val_size:]\n",
    "    y_test = y.iloc[tr_size+val_size:]\n",
    "    return X_train, y_train, X_val, y_val, X_test, y_test"
   ]
  },
  {
   "cell_type": "code",
   "execution_count": 3,
   "metadata": {},
   "outputs": [],
   "source": [
    "def plot_feature_importances(model,n_features=10):\n",
    "    'Plot feature importance for a given model'\n",
    "    n_features = min(n_features,X_train.shape[1])\n",
    "    plt.figure(figsize=(8,8))\n",
    "    plt.barh(range(n_features), np.sort(model.feature_importances_)[::-1][0:n_features], align='center') \n",
    "    plt.yticks(np.arange(n_features), X_train.columns.values[np.argsort(model.feature_importances_)[::-1][0:n_features]]) \n",
    "    plt.xlabel('Feature importance')\n",
    "    plt.ylabel('Feature')\n",
    "    return None"
   ]
  },
  {
   "cell_type": "code",
   "execution_count": null,
   "metadata": {},
   "outputs": [],
   "source": []
  }
 ],
 "metadata": {
  "kernelspec": {
   "display_name": "Python 3",
   "language": "python",
   "name": "python3"
  },
  "language_info": {
   "codemirror_mode": {
    "name": "ipython",
    "version": 3
   },
   "file_extension": ".py",
   "mimetype": "text/x-python",
   "name": "python",
   "nbconvert_exporter": "python",
   "pygments_lexer": "ipython3",
   "version": "3.7.0"
  }
 },
 "nbformat": 4,
 "nbformat_minor": 2
}
