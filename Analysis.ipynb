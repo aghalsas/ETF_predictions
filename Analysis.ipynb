{
 "cells": [
  {
   "cell_type": "code",
   "execution_count": 2,
   "metadata": {},
   "outputs": [],
   "source": [
    "import pandas as pd\n",
    "import numpy as np\n",
    "import matplotlib.pyplot as plt\n",
    "import seaborn as sns\n",
    "import os\n",
    "import datetime\n",
    "import multiprocessing  \n",
    "from multiprocessing import Pool\n",
    "import Classification_Function\n",
    "import Feature_Creation\n",
    "from Feature_Creation import create_features\n",
    "import json\n",
    "import warnings\n",
    "warnings.filterwarnings('ignore')"
   ]
  },
  {
   "cell_type": "code",
   "execution_count": 39,
   "metadata": {},
   "outputs": [],
   "source": [
    "def ETF_stats(etf,instances = 60):\n",
    "    fname = os.path.join(os.path.abspath(os.getcwd()),'data','10_ETF',etf+'.csv')\n",
    "    start = datetime.datetime.now()\n",
    "    print(start,etf)\n",
    "    if __name__ == '__main__':\n",
    "        pool = Pool()\n",
    "        filename = []\n",
    "        for i in range(0,instances):\n",
    "            filename.append([fname,i])\n",
    "        results = pool.starmap(Classification_Function.daily_prediction_analysis, filename)\n",
    "    #    for value, factors in zip(filename, results):\n",
    "    #        print(\"The factors of {} are {}\".format(value, factors))\n",
    "    RF_list= []\n",
    "    Log_list = []\n",
    "    SVM_list = []\n",
    "    XGB_list = []\n",
    "    stack_list = []\n",
    "    for i in range(len(results)):\n",
    "        RF_list.append(results[i][1]['information gain'])\n",
    "        Log_list.append(results[i][2]['information gain'])\n",
    "        SVM_list.append(results[i][3]['information gain'])\n",
    "        XGB_list.append(results[i][4]['information gain'])\n",
    "        stack_list.append(results[i][5]['information gain'])\n",
    "    data = {'RF': RF_list, 'Log': Log_list,'SVM': SVM_list,'XGB': XGB_list,'stack': stack_list}\n",
    "    df= pd.DataFrame.from_dict(data)\n",
    "    df.to_csv(etf+'_data.csv')\n",
    "    with open(etf, 'w') as fout:\n",
    "        json.dump(results, fout)\n",
    "    #data = {'RF': RF_list_random1, 'Log': Log_list_random1,'SVM': SVM_list_random1,'XGB': XGB_list_random1,'stack': stack_list_random1}\n",
    "    #df_random1 = pd.DataFrame.from_dict(data)\n",
    "    #df_random1.to_csv('random1_data.csv')\n",
    "    end = datetime.datetime.now()\n",
    "    print(end-start)"
   ]
  },
  {
   "cell_type": "code",
   "execution_count": 17,
   "metadata": {},
   "outputs": [
    {
     "name": "stdout",
     "output_type": "stream",
     "text": [
      "1:30:21.616919\n"
     ]
    }
   ],
   "source": [
    "ETF_stats('SPY')"
   ]
  },
  {
   "cell_type": "code",
   "execution_count": 26,
   "metadata": {},
   "outputs": [
    {
     "name": "stdout",
     "output_type": "stream",
     "text": [
      "1:33:49.368878\n"
     ]
    }
   ],
   "source": [
    "ETF_stats('random2')"
   ]
  },
  {
   "cell_type": "code",
   "execution_count": 29,
   "metadata": {},
   "outputs": [
    {
     "name": "stdout",
     "output_type": "stream",
     "text": [
      "1:35:05.750995\n"
     ]
    }
   ],
   "source": [
    "ETF_stats('OIH')"
   ]
  },
  {
   "cell_type": "code",
   "execution_count": 33,
   "metadata": {},
   "outputs": [
    {
     "name": "stdout",
     "output_type": "stream",
     "text": [
      "1:27:48.060003\n"
     ]
    }
   ],
   "source": [
    "ETF_stats('random3')"
   ]
  },
  {
   "cell_type": "code",
   "execution_count": 34,
   "metadata": {},
   "outputs": [
    {
     "name": "stdout",
     "output_type": "stream",
     "text": [
      "1:29:16.950972\n"
     ]
    }
   ],
   "source": [
    "ETF_stats('GLD')"
   ]
  },
  {
   "cell_type": "code",
   "execution_count": 44,
   "metadata": {},
   "outputs": [
    {
     "name": "stdout",
     "output_type": "stream",
     "text": [
      "2021-01-15 12:42:32.723491 random5\n",
      "2:09:11.076418\n"
     ]
    }
   ],
   "source": [
    "ETF_stats('random5')"
   ]
  },
  {
   "cell_type": "code",
   "execution_count": 41,
   "metadata": {},
   "outputs": [
    {
     "name": "stdout",
     "output_type": "stream",
     "text": [
      "2021-01-15 11:07:06.016116 TIP\n",
      "1:34:05.226754\n"
     ]
    }
   ],
   "source": [
    "ETF_stats('TIP')"
   ]
  },
  {
   "cell_type": "code",
   "execution_count": 48,
   "metadata": {},
   "outputs": [
    {
     "name": "stdout",
     "output_type": "stream",
     "text": [
      "2021-01-15 15:18:12.915961 TLT\n",
      "1:38:54.093290\n"
     ]
    }
   ],
   "source": [
    "ETF_stats('TLT')"
   ]
  },
  {
   "cell_type": "code",
   "execution_count": 51,
   "metadata": {},
   "outputs": [
    {
     "name": "stdout",
     "output_type": "stream",
     "text": [
      "2021-01-15 17:15:03.239764 FXE\n",
      "1:30:16.746915\n"
     ]
    }
   ],
   "source": [
    "ETF_stats('FXE')"
   ]
  },
  {
   "cell_type": "code",
   "execution_count": 52,
   "metadata": {},
   "outputs": [
    {
     "name": "stdout",
     "output_type": "stream",
     "text": [
      "2021-01-15 18:45:20.102518 EEM\n",
      "1:30:07.625906\n"
     ]
    }
   ],
   "source": [
    "ETF_stats('EEM')"
   ]
  },
  {
   "cell_type": "code",
   "execution_count": 57,
   "metadata": {},
   "outputs": [
    {
     "name": "stdout",
     "output_type": "stream",
     "text": [
      "2021-01-15 21:16:35.788090 IWM\n",
      "1:29:02.642012\n"
     ]
    }
   ],
   "source": [
    "ETF_stats('IWM')"
   ]
  },
  {
   "cell_type": "code",
   "execution_count": 63,
   "metadata": {},
   "outputs": [
    {
     "name": "stdout",
     "output_type": "stream",
     "text": [
      "2021-01-16 16:21:49.171709 LQD\n",
      "1:28:45.933660\n"
     ]
    }
   ],
   "source": [
    "ETF_stats('LQD')"
   ]
  },
  {
   "cell_type": "code",
   "execution_count": 59,
   "metadata": {},
   "outputs": [],
   "source": [
    "df = pd.read_csv('IYR_data.csv')"
   ]
  },
  {
   "cell_type": "code",
   "execution_count": 62,
   "metadata": {},
   "outputs": [
    {
     "data": {
      "text/plain": [
       "<seaborn.axisgrid.FacetGrid at 0x7fb87944f7c0>"
      ]
     },
     "execution_count": 62,
     "metadata": {},
     "output_type": "execute_result"
    },
    {
     "data": {
      "image/png": "[encoded data removed]",
      "text/plain": [
       "<Figure size 417.75x360 with 1 Axes>"
      ]
     },
     "metadata": {
      "needs_background": "light"
     },
     "output_type": "display_data"
    }
   ],
   "source": [
    "sns.displot([df['RF'],df['XGB'],df['Log'],df['SVM']],kde=True)"
   ]
  },
  {
   "cell_type": "code",
   "execution_count": null,
   "metadata": {},
   "outputs": [],
   "source": []
  }
 ],
 "metadata": {
  "kernelspec": {
   "display_name": "Python 3",
   "language": "python",
   "name": "python3"
  },
  "language_info": {
   "codemirror_mode": {
    "name": "ipython",
    "version": 3
   },
   "file_extension": ".py",
   "mimetype": "text/x-python",
   "name": "python",
   "nbconvert_exporter": "python",
   "pygments_lexer": "ipython3",
   "version": "3.8.5"
  }
 },
 "nbformat": 4,
 "nbformat_minor": 4
}
