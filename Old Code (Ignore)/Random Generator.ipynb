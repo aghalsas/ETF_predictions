{
 "cells": [
  {
   "cell_type": "markdown",
   "metadata": {},
   "source": [
    "# Generating a random data set"
   ]
  },
  {
   "cell_type": "code",
   "execution_count": 79,
   "metadata": {},
   "outputs": [],
   "source": [
    "import pandas as pd\n",
    "import numpy as np\n",
    "import matplotlib.pyplot as plt\n",
    "import seaborn as sns\n",
    "import os"
   ]
  },
  {
   "cell_type": "code",
   "execution_count": 80,
   "metadata": {},
   "outputs": [],
   "source": [
    "SPY_base = pd.read_csv(os.path.join(os.path.abspath(os.getcwd()),'data','10_ETF','SPY.csv'))"
   ]
  },
  {
   "cell_type": "code",
   "execution_count": 81,
   "metadata": {},
   "outputs": [
    {
     "data": {
      "text/html": [
       "<div>\n",
       "<style scoped>\n",
       "    .dataframe tbody tr th:only-of-type {\n",
       "        vertical-align: middle;\n",
       "    }\n",
       "\n",
       "    .dataframe tbody tr th {\n",
       "        vertical-align: top;\n",
       "    }\n",
       "\n",
       "    .dataframe thead th {\n",
       "        text-align: right;\n",
       "    }\n",
       "</style>\n",
       "<table border=\"1\" class=\"dataframe\">\n",
       "  <thead>\n",
       "    <tr style=\"text-align: right;\">\n",
       "      <th></th>\n",
       "      <th>Date</th>\n",
       "      <th>Open</th>\n",
       "      <th>High</th>\n",
       "      <th>Low</th>\n",
       "      <th>Close</th>\n",
       "      <th>Adj Close</th>\n",
       "      <th>Volume</th>\n",
       "    </tr>\n",
       "  </thead>\n",
       "  <tbody>\n",
       "    <tr>\n",
       "      <th>0</th>\n",
       "      <td>2014-12-31</td>\n",
       "      <td>207.990005</td>\n",
       "      <td>208.190002</td>\n",
       "      <td>205.389999</td>\n",
       "      <td>205.539993</td>\n",
       "      <td>184.358871</td>\n",
       "      <td>130333800</td>\n",
       "    </tr>\n",
       "    <tr>\n",
       "      <th>1</th>\n",
       "      <td>2015-01-02</td>\n",
       "      <td>206.380005</td>\n",
       "      <td>206.880005</td>\n",
       "      <td>204.179993</td>\n",
       "      <td>205.429993</td>\n",
       "      <td>184.260223</td>\n",
       "      <td>121465900</td>\n",
       "    </tr>\n",
       "    <tr>\n",
       "      <th>2</th>\n",
       "      <td>2015-01-05</td>\n",
       "      <td>204.169998</td>\n",
       "      <td>204.369995</td>\n",
       "      <td>201.350006</td>\n",
       "      <td>201.720001</td>\n",
       "      <td>180.932541</td>\n",
       "      <td>169632600</td>\n",
       "    </tr>\n",
       "    <tr>\n",
       "      <th>3</th>\n",
       "      <td>2015-01-06</td>\n",
       "      <td>202.089996</td>\n",
       "      <td>202.720001</td>\n",
       "      <td>198.860001</td>\n",
       "      <td>199.820007</td>\n",
       "      <td>179.228363</td>\n",
       "      <td>209151400</td>\n",
       "    </tr>\n",
       "    <tr>\n",
       "      <th>4</th>\n",
       "      <td>2015-01-07</td>\n",
       "      <td>201.419998</td>\n",
       "      <td>202.720001</td>\n",
       "      <td>200.880005</td>\n",
       "      <td>202.309998</td>\n",
       "      <td>181.461731</td>\n",
       "      <td>125346700</td>\n",
       "    </tr>\n",
       "  </tbody>\n",
       "</table>\n",
       "</div>"
      ],
      "text/plain": [
       "         Date        Open        High         Low       Close   Adj Close  \\\n",
       "0  2014-12-31  207.990005  208.190002  205.389999  205.539993  184.358871   \n",
       "1  2015-01-02  206.380005  206.880005  204.179993  205.429993  184.260223   \n",
       "2  2015-01-05  204.169998  204.369995  201.350006  201.720001  180.932541   \n",
       "3  2015-01-06  202.089996  202.720001  198.860001  199.820007  179.228363   \n",
       "4  2015-01-07  201.419998  202.720001  200.880005  202.309998  181.461731   \n",
       "\n",
       "      Volume  \n",
       "0  130333800  \n",
       "1  121465900  \n",
       "2  169632600  \n",
       "3  209151400  \n",
       "4  125346700  "
      ]
     },
     "execution_count": 81,
     "metadata": {},
     "output_type": "execute_result"
    }
   ],
   "source": [
    "SPY_base.head()"
   ]
  },
  {
   "cell_type": "code",
   "execution_count": 82,
   "metadata": {},
   "outputs": [],
   "source": [
    "rand_df = pd.DataFrame()"
   ]
  },
  {
   "cell_type": "code",
   "execution_count": 83,
   "metadata": {},
   "outputs": [],
   "source": [
    "rand_df['Date'] = SPY_base['Date']"
   ]
  },
  {
   "cell_type": "code",
   "execution_count": 84,
   "metadata": {},
   "outputs": [],
   "source": [
    "std_dev = ((SPY_base['Adj Close']-SPY_base['Adj Close'].shift(1))/(SPY_base['Adj Close']).mean()).std()"
   ]
  },
  {
   "cell_type": "code",
   "execution_count": 85,
   "metadata": {},
   "outputs": [],
   "source": [
    "std_dev_open_close = ((SPY_base['Close']-SPY_base['Open'])/(SPY_base['Close']).mean()).std()"
   ]
  },
  {
   "cell_type": "code",
   "execution_count": 86,
   "metadata": {},
   "outputs": [],
   "source": [
    "high_close = ((SPY_base['High']-SPY_base['Close'])/(SPY_base['Close']))\n",
    "low_close = ((SPY_base['Close']-SPY_base['Low'])/(SPY_base['Close']))"
   ]
  },
  {
   "cell_type": "code",
   "execution_count": 87,
   "metadata": {},
   "outputs": [],
   "source": [
    "rand_df['Adj Close'] = np.zeros(rand_df.shape[0])"
   ]
  },
  {
   "cell_type": "code",
   "execution_count": 88,
   "metadata": {},
   "outputs": [
    {
     "name": "stderr",
     "output_type": "stream",
     "text": [
      "/Users/akshayghalsasi/opt/anaconda3/lib/python3.8/site-packages/pandas/core/indexing.py:670: SettingWithCopyWarning: \n",
      "A value is trying to be set on a copy of a slice from a DataFrame\n",
      "\n",
      "See the caveats in the documentation: https://pandas.pydata.org/pandas-docs/stable/user_guide/indexing.html#returning-a-view-versus-a-copy\n",
      "  iloc._setitem_with_indexer(indexer, value)\n"
     ]
    }
   ],
   "source": [
    "rand_df['Adj Close'].iloc[0] = 1\n",
    "for i in range(1,rand_df.shape[0]):\n",
    "    rand_df['Adj Close'].iloc[i] = rand_df['Adj Close'].iloc[i-1]*(1+ np.random.normal(0,std_dev))\n",
    "    "
   ]
  },
  {
   "cell_type": "code",
   "execution_count": 89,
   "metadata": {},
   "outputs": [],
   "source": [
    "rand_df['Close']  = rand_df['Adj Close']"
   ]
  },
  {
   "cell_type": "code",
   "execution_count": 90,
   "metadata": {},
   "outputs": [],
   "source": [
    "rand_df['Open'] = rand_df['Close']*(1+np.random.normal(0,std_dev_open_close,rand_df.shape[0]))\n",
    "rand_df['High'] = rand_df['Close']*(1+np.random.choice(high_close,len(high_close)))\n",
    "rand_df['Low'] = rand_df['Close']*(1-np.random.choice(high_close,len(high_close)))\n",
    "rand_df['Volume'] = np.random.choice(SPY_base['Volume'],len(SPY_base['Volume']))"
   ]
  },
  {
   "cell_type": "code",
   "execution_count": 91,
   "metadata": {},
   "outputs": [
    {
     "data": {
      "text/html": [
       "<div>\n",
       "<style scoped>\n",
       "    .dataframe tbody tr th:only-of-type {\n",
       "        vertical-align: middle;\n",
       "    }\n",
       "\n",
       "    .dataframe tbody tr th {\n",
       "        vertical-align: top;\n",
       "    }\n",
       "\n",
       "    .dataframe thead th {\n",
       "        text-align: right;\n",
       "    }\n",
       "</style>\n",
       "<table border=\"1\" class=\"dataframe\">\n",
       "  <thead>\n",
       "    <tr style=\"text-align: right;\">\n",
       "      <th></th>\n",
       "      <th>Date</th>\n",
       "      <th>Adj Close</th>\n",
       "      <th>Close</th>\n",
       "      <th>Open</th>\n",
       "      <th>High</th>\n",
       "      <th>Low</th>\n",
       "      <th>Volume</th>\n",
       "    </tr>\n",
       "  </thead>\n",
       "  <tbody>\n",
       "    <tr>\n",
       "      <th>0</th>\n",
       "      <td>2014-12-31</td>\n",
       "      <td>1.000000</td>\n",
       "      <td>1.000000</td>\n",
       "      <td>0.999397</td>\n",
       "      <td>1.004799</td>\n",
       "      <td>0.997453</td>\n",
       "      <td>50375400</td>\n",
       "    </tr>\n",
       "    <tr>\n",
       "      <th>1</th>\n",
       "      <td>2015-01-02</td>\n",
       "      <td>1.001405</td>\n",
       "      <td>1.001405</td>\n",
       "      <td>0.995914</td>\n",
       "      <td>1.001405</td>\n",
       "      <td>0.998073</td>\n",
       "      <td>109208400</td>\n",
       "    </tr>\n",
       "    <tr>\n",
       "      <th>2</th>\n",
       "      <td>2015-01-05</td>\n",
       "      <td>1.013764</td>\n",
       "      <td>1.013764</td>\n",
       "      <td>1.018296</td>\n",
       "      <td>1.025183</td>\n",
       "      <td>0.996171</td>\n",
       "      <td>163298800</td>\n",
       "    </tr>\n",
       "    <tr>\n",
       "      <th>3</th>\n",
       "      <td>2015-01-06</td>\n",
       "      <td>0.997060</td>\n",
       "      <td>0.997060</td>\n",
       "      <td>1.000607</td>\n",
       "      <td>1.002194</td>\n",
       "      <td>0.987466</td>\n",
       "      <td>57053600</td>\n",
       "    </tr>\n",
       "    <tr>\n",
       "      <th>4</th>\n",
       "      <td>2015-01-07</td>\n",
       "      <td>0.995204</td>\n",
       "      <td>0.995204</td>\n",
       "      <td>0.995752</td>\n",
       "      <td>1.004916</td>\n",
       "      <td>0.977436</td>\n",
       "      <td>179521200</td>\n",
       "    </tr>\n",
       "  </tbody>\n",
       "</table>\n",
       "</div>"
      ],
      "text/plain": [
       "         Date  Adj Close     Close      Open      High       Low     Volume\n",
       "0  2014-12-31   1.000000  1.000000  0.999397  1.004799  0.997453   50375400\n",
       "1  2015-01-02   1.001405  1.001405  0.995914  1.001405  0.998073  109208400\n",
       "2  2015-01-05   1.013764  1.013764  1.018296  1.025183  0.996171  163298800\n",
       "3  2015-01-06   0.997060  0.997060  1.000607  1.002194  0.987466   57053600\n",
       "4  2015-01-07   0.995204  0.995204  0.995752  1.004916  0.977436  179521200"
      ]
     },
     "execution_count": 91,
     "metadata": {},
     "output_type": "execute_result"
    }
   ],
   "source": [
    "rand_df.head()"
   ]
  },
  {
   "cell_type": "code",
   "execution_count": 61,
   "metadata": {},
   "outputs": [
    {
     "data": {
      "text/plain": [
       "'/Users/akshayghalsasi/Dropbox/My Mac (Akshay’s MacBook Pro)/Desktop/Projects/Machine Learning Projects/Flatiron Projects/ETF_predictions/data/10_ETF/SPY.csv'"
      ]
     },
     "execution_count": 61,
     "metadata": {},
     "output_type": "execute_result"
    }
   ],
   "source": [
    "os.path.join(os.path.abspath(os.getcwd()),'data','10_ETF','SPY.csv')"
   ]
  },
  {
   "cell_type": "code",
   "execution_count": 92,
   "metadata": {},
   "outputs": [],
   "source": [
    "rand_df.to_csv(os.path.join(os.path.abspath(os.getcwd()),'data','10_ETF','random5.csv'))"
   ]
  },
  {
   "cell_type": "code",
   "execution_count": 93,
   "metadata": {},
   "outputs": [
    {
     "data": {
      "text/plain": [
       "<AxesSubplot:>"
      ]
     },
     "execution_count": 93,
     "metadata": {},
     "output_type": "execute_result"
    },
    {
     "data": {
      "image/png": "[encoded data removed]",
      "text/plain": [
       "<Figure size 432x288 with 1 Axes>"
      ]
     },
     "metadata": {
      "needs_background": "light"
     },
     "output_type": "display_data"
    }
   ],
   "source": [
    "rand_df['Adj Close'].plot()"
   ]
  },
  {
   "cell_type": "code",
   "execution_count": 177,
   "metadata": {},
   "outputs": [
    {
     "data": {
      "text/html": [
       "<div>\n",
       "<style scoped>\n",
       "    .dataframe tbody tr th:only-of-type {\n",
       "        vertical-align: middle;\n",
       "    }\n",
       "\n",
       "    .dataframe tbody tr th {\n",
       "        vertical-align: top;\n",
       "    }\n",
       "\n",
       "    .dataframe thead th {\n",
       "        text-align: right;\n",
       "    }\n",
       "</style>\n",
       "<table border=\"1\" class=\"dataframe\">\n",
       "  <thead>\n",
       "    <tr style=\"text-align: right;\">\n",
       "      <th></th>\n",
       "      <th>Date</th>\n",
       "      <th>Adj Close</th>\n",
       "      <th>Close</th>\n",
       "      <th>Open</th>\n",
       "      <th>High</th>\n",
       "      <th>Low</th>\n",
       "      <th>Volume</th>\n",
       "    </tr>\n",
       "  </thead>\n",
       "  <tbody>\n",
       "    <tr>\n",
       "      <th>0</th>\n",
       "      <td>2014-12-31</td>\n",
       "      <td>1.000000</td>\n",
       "      <td>1.000000</td>\n",
       "      <td>0.993549</td>\n",
       "      <td>1.002882</td>\n",
       "      <td>0.993785</td>\n",
       "      <td>31995000</td>\n",
       "    </tr>\n",
       "    <tr>\n",
       "      <th>1</th>\n",
       "      <td>2015-01-02</td>\n",
       "      <td>1.004051</td>\n",
       "      <td>1.004051</td>\n",
       "      <td>0.993829</td>\n",
       "      <td>1.009242</td>\n",
       "      <td>1.000775</td>\n",
       "      <td>50550400</td>\n",
       "    </tr>\n",
       "    <tr>\n",
       "      <th>2</th>\n",
       "      <td>2015-01-05</td>\n",
       "      <td>0.998373</td>\n",
       "      <td>0.998373</td>\n",
       "      <td>1.004185</td>\n",
       "      <td>0.999504</td>\n",
       "      <td>0.996362</td>\n",
       "      <td>184513100</td>\n",
       "    </tr>\n",
       "    <tr>\n",
       "      <th>3</th>\n",
       "      <td>2015-01-06</td>\n",
       "      <td>0.999236</td>\n",
       "      <td>0.999236</td>\n",
       "      <td>1.011455</td>\n",
       "      <td>1.010621</td>\n",
       "      <td>0.998825</td>\n",
       "      <td>83524000</td>\n",
       "    </tr>\n",
       "    <tr>\n",
       "      <th>4</th>\n",
       "      <td>2015-01-07</td>\n",
       "      <td>1.004450</td>\n",
       "      <td>1.004450</td>\n",
       "      <td>1.007792</td>\n",
       "      <td>1.021975</td>\n",
       "      <td>1.003484</td>\n",
       "      <td>143798800</td>\n",
       "    </tr>\n",
       "    <tr>\n",
       "      <th>...</th>\n",
       "      <td>...</td>\n",
       "      <td>...</td>\n",
       "      <td>...</td>\n",
       "      <td>...</td>\n",
       "      <td>...</td>\n",
       "      <td>...</td>\n",
       "      <td>...</td>\n",
       "    </tr>\n",
       "    <tr>\n",
       "      <th>1253</th>\n",
       "      <td>2019-12-23</td>\n",
       "      <td>0.859156</td>\n",
       "      <td>0.859156</td>\n",
       "      <td>0.855243</td>\n",
       "      <td>0.860290</td>\n",
       "      <td>0.855438</td>\n",
       "      <td>95482000</td>\n",
       "    </tr>\n",
       "    <tr>\n",
       "      <th>1254</th>\n",
       "      <td>2019-12-24</td>\n",
       "      <td>0.866924</td>\n",
       "      <td>0.866924</td>\n",
       "      <td>0.874948</td>\n",
       "      <td>0.869428</td>\n",
       "      <td>0.840149</td>\n",
       "      <td>88939300</td>\n",
       "    </tr>\n",
       "    <tr>\n",
       "      <th>1255</th>\n",
       "      <td>2019-12-26</td>\n",
       "      <td>0.859933</td>\n",
       "      <td>0.859933</td>\n",
       "      <td>0.854644</td>\n",
       "      <td>0.861416</td>\n",
       "      <td>0.858870</td>\n",
       "      <td>85786800</td>\n",
       "    </tr>\n",
       "    <tr>\n",
       "      <th>1256</th>\n",
       "      <td>2019-12-27</td>\n",
       "      <td>0.853075</td>\n",
       "      <td>0.853075</td>\n",
       "      <td>0.854210</td>\n",
       "      <td>0.854952</td>\n",
       "      <td>0.852059</td>\n",
       "      <td>58191200</td>\n",
       "    </tr>\n",
       "    <tr>\n",
       "      <th>1257</th>\n",
       "      <td>2019-12-30</td>\n",
       "      <td>0.855383</td>\n",
       "      <td>0.855383</td>\n",
       "      <td>0.856172</td>\n",
       "      <td>0.858909</td>\n",
       "      <td>0.855220</td>\n",
       "      <td>117645200</td>\n",
       "    </tr>\n",
       "  </tbody>\n",
       "</table>\n",
       "<p>1258 rows × 7 columns</p>\n",
       "</div>"
      ],
      "text/plain": [
       "            Date  Adj Close     Close      Open      High       Low     Volume\n",
       "0     2014-12-31   1.000000  1.000000  0.993549  1.002882  0.993785   31995000\n",
       "1     2015-01-02   1.004051  1.004051  0.993829  1.009242  1.000775   50550400\n",
       "2     2015-01-05   0.998373  0.998373  1.004185  0.999504  0.996362  184513100\n",
       "3     2015-01-06   0.999236  0.999236  1.011455  1.010621  0.998825   83524000\n",
       "4     2015-01-07   1.004450  1.004450  1.007792  1.021975  1.003484  143798800\n",
       "...          ...        ...       ...       ...       ...       ...        ...\n",
       "1253  2019-12-23   0.859156  0.859156  0.855243  0.860290  0.855438   95482000\n",
       "1254  2019-12-24   0.866924  0.866924  0.874948  0.869428  0.840149   88939300\n",
       "1255  2019-12-26   0.859933  0.859933  0.854644  0.861416  0.858870   85786800\n",
       "1256  2019-12-27   0.853075  0.853075  0.854210  0.854952  0.852059   58191200\n",
       "1257  2019-12-30   0.855383  0.855383  0.856172  0.858909  0.855220  117645200\n",
       "\n",
       "[1258 rows x 7 columns]"
      ]
     },
     "execution_count": 177,
     "metadata": {},
     "output_type": "execute_result"
    }
   ],
   "source": [
    "rand_df"
   ]
  },
  {
   "cell_type": "code",
   "execution_count": null,
   "metadata": {},
   "outputs": [],
   "source": []
  }
 ],
 "metadata": {
  "kernelspec": {
   "display_name": "Python 3",
   "language": "python",
   "name": "python3"
  },
  "language_info": {
   "codemirror_mode": {
    "name": "ipython",
    "version": 3
   },
   "file_extension": ".py",
   "mimetype": "text/x-python",
   "name": "python",
   "nbconvert_exporter": "python",
   "pygments_lexer": "ipython3",
   "version": "3.8.5"
  }
 },
 "nbformat": 4,
 "nbformat_minor": 2
}
