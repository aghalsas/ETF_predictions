{
 "cells": [
  {
   "cell_type": "code",
   "execution_count": 59,
   "metadata": {},
   "outputs": [],
   "source": [
    "import pandas as pd\n",
    "import numpy as np\n",
    "import matplotlib.pyplot as plt\n",
    "import seaborn as sns\n",
    "import os\n",
    "import datetime\n",
    "from sklearn.metrics import precision_score, recall_score, accuracy_score, f1_score\n",
    "import multiprocessing  \n",
    "from multiprocessing import Pool\n",
    "import Reproducing_Liew_Mayster\n",
    "#import Feature_Creation\n",
    "from Reproducing_Liew_Mayster import create_frame\n",
    "from Reproducing_Liew_Mayster import liew_mayster\n",
    "from Reproducing_Liew_Mayster import create_frame_rand\n",
    "import json\n",
    "import warnings\n",
    "warnings.filterwarnings('ignore')"
   ]
  },
  {
   "cell_type": "code",
   "execution_count": 3,
   "metadata": {},
   "outputs": [],
   "source": [
    "def ETF_stats_LW(target_etf,horizon=1,instances = 60):\n",
    "    df = create_frame(target_etf,horizon=horizon)\n",
    "    start = datetime.datetime.now()\n",
    "    print(start,target_etf)\n",
    "    if __name__ == '__main__':\n",
    "        pool = Pool()\n",
    "        etf = []\n",
    "        for i in range(0,instances):\n",
    "            etf.append([df,i])\n",
    "        #print(etf)\n",
    "        results = pool.starmap(Reproducing_Liew_Mayster.liew_mayster, etf)\n",
    "    #    for value, factors in zip(filename, results):\n",
    "    #        print(\"The factors of {} are {}\".format(value, factors))\n",
    "    RF_list= []\n",
    "    Log_list = []\n",
    "    SVM_list = []\n",
    "    XGB_list = []\n",
    "    stack_list = []\n",
    "    for i in range(len(results)):\n",
    "        RF_list.append(results[i][1]['information gain'])\n",
    "        Log_list.append(results[i][2]['information gain'])\n",
    "        SVM_list.append(results[i][3]['information gain'])\n",
    "        XGB_list.append(results[i][4]['information gain'])\n",
    "        stack_list.append(results[i][5]['information gain'])\n",
    "    data = {'RF': RF_list, 'Log': Log_list,'SVM': SVM_list,'XGB': XGB_list,'stack': stack_list}\n",
    "    df= pd.DataFrame.from_dict(data)\n",
    "    oname = os.path.join(os.path.abspath(os.getcwd()),'results','LW',target_etf+'_'+str(horizon)+'.csv')\n",
    "    df.to_csv(oname)\n",
    "    with open(os.path.join(os.path.abspath(os.getcwd()),'results','LW',target_etf+'_'+str(horizon)), 'w') as fout:\n",
    "        json.dump(results, fout)\n",
    "    #data = {'RF': RF_list_random1, 'Log': Log_list_random1,'SVM': SVM_list_random1,'XGB': XGB_list_random1,'stack': stack_list_random1}\n",
    "    #df_random1 = pd.DataFrame.from_dict(data)\n",
    "    #df_random1.to_csv('random1_data.csv')\n",
    "    end = datetime.datetime.now()\n",
    "    print(end-start)"
   ]
  },
  {
   "cell_type": "code",
   "execution_count": 4,
   "metadata": {},
   "outputs": [],
   "source": [
    "def ETF_stats_LW_rand(target_etf,horizon=1,instances = 60):\n",
    "    df = create_frame_rand(target_etf,horizon=horizon)\n",
    "    start = datetime.datetime.now()\n",
    "    print(start,target_etf)\n",
    "    if __name__ == '__main__':\n",
    "        pool = Pool()\n",
    "        etf = []\n",
    "        for i in range(0,instances):\n",
    "            etf.append([df,i])\n",
    "        #print(etf)\n",
    "        results = pool.starmap(Reproducing_Liew_Mayster.liew_mayster, etf)\n",
    "    #    for value, factors in zip(filename, results):\n",
    "    #        print(\"The factors of {} are {}\".format(value, factors))\n",
    "    RF_list= []\n",
    "    Log_list = []\n",
    "    SVM_list = []\n",
    "    XGB_list = []\n",
    "    stack_list = []\n",
    "    for i in range(len(results)):\n",
    "        RF_list.append(results[i][1]['information gain'])\n",
    "        Log_list.append(results[i][2]['information gain'])\n",
    "        SVM_list.append(results[i][3]['information gain'])\n",
    "        XGB_list.append(results[i][4]['information gain'])\n",
    "        stack_list.append(results[i][5]['information gain'])\n",
    "    data = {'RF': RF_list, 'Log': Log_list,'SVM': SVM_list,'XGB': XGB_list,'stack': stack_list}\n",
    "    df= pd.DataFrame.from_dict(data)\n",
    "    oname = os.path.join(os.path.abspath(os.getcwd()),'results','LW',target_etf+'_'+str(horizon)+'.csv')\n",
    "    df.to_csv(oname)\n",
    "    with open(os.path.join(os.path.abspath(os.getcwd()),'results','LW',target_etf+'_'+str(horizon)), 'w') as fout:\n",
    "        json.dump(results, fout)\n",
    "    #data = {'RF': RF_list_random1, 'Log': Log_list_random1,'SVM': SVM_list_random1,'XGB': XGB_list_random1,'stack': stack_list_random1}\n",
    "    #df_random1 = pd.DataFrame.from_dict(data)\n",
    "    #df_random1.to_csv('random1_data.csv')\n",
    "    end = datetime.datetime.now()\n",
    "    print(end-start)"
   ]
  },
  {
   "cell_type": "code",
   "execution_count": 6,
   "metadata": {},
   "outputs": [
    {
     "name": "stdout",
     "output_type": "stream",
     "text": [
      "2021-02-07 15:14:10.565395 SPY\n",
      "1:27:36.346062\n"
     ]
    }
   ],
   "source": [
    "ETF_stats_LW('SPY',horizon=10,instances=60)"
   ]
  },
  {
   "cell_type": "code",
   "execution_count": 4,
   "metadata": {},
   "outputs": [
    {
     "name": "stdout",
     "output_type": "stream",
     "text": [
      "2021-02-07 21:19:50.950405 GLD\n",
      "1:43:27.758054\n"
     ]
    }
   ],
   "source": [
    "ETF_stats_LW('GLD',horizon=10,instances=60)"
   ]
  },
  {
   "cell_type": "code",
   "execution_count": 5,
   "metadata": {},
   "outputs": [
    {
     "name": "stdout",
     "output_type": "stream",
     "text": [
      "2021-02-07 23:03:18.944543 LQD\n",
      "1:27:41.409069\n"
     ]
    }
   ],
   "source": [
    "ETF_stats_LW('LQD',horizon=10,instances=60)"
   ]
  },
  {
   "cell_type": "code",
   "execution_count": 6,
   "metadata": {},
   "outputs": [
    {
     "name": "stdout",
     "output_type": "stream",
     "text": [
      "2021-02-08 00:31:00.536732 TIP\n",
      "1:29:36.540656\n"
     ]
    }
   ],
   "source": [
    "ETF_stats_LW('TIP',horizon=10,instances=60)"
   ]
  },
  {
   "cell_type": "code",
   "execution_count": 7,
   "metadata": {},
   "outputs": [
    {
     "name": "stdout",
     "output_type": "stream",
     "text": [
      "2021-02-08 02:00:37.291959 TLT\n",
      "1:30:25.437327\n"
     ]
    }
   ],
   "source": [
    "ETF_stats_LW('TLT',horizon=10,instances=60)"
   ]
  },
  {
   "cell_type": "code",
   "execution_count": 8,
   "metadata": {},
   "outputs": [
    {
     "name": "stdout",
     "output_type": "stream",
     "text": [
      "2021-02-08 03:31:02.912260 FXE\n",
      "1:32:01.402273\n"
     ]
    }
   ],
   "source": [
    "ETF_stats_LW('FXE',horizon=10,instances=60)"
   ]
  },
  {
   "cell_type": "code",
   "execution_count": 9,
   "metadata": {},
   "outputs": [
    {
     "name": "stdout",
     "output_type": "stream",
     "text": [
      "2021-02-08 05:03:04.501518 EEM\n",
      "1:30:48.311423\n"
     ]
    }
   ],
   "source": [
    "ETF_stats_LW('EEM',horizon=10,instances=60)"
   ]
  },
  {
   "cell_type": "code",
   "execution_count": 10,
   "metadata": {},
   "outputs": [
    {
     "name": "stdout",
     "output_type": "stream",
     "text": [
      "2021-02-08 06:33:53.013332 IWM\n",
      "1:28:59.365990\n"
     ]
    }
   ],
   "source": [
    "ETF_stats_LW('IWM',horizon=10,instances=60)"
   ]
  },
  {
   "cell_type": "code",
   "execution_count": 11,
   "metadata": {},
   "outputs": [
    {
     "name": "stdout",
     "output_type": "stream",
     "text": [
      "2021-02-08 08:02:52.581446 OIH\n",
      "1:31:42.485236\n"
     ]
    }
   ],
   "source": [
    "ETF_stats_LW('OIH',horizon=10,instances=60)"
   ]
  },
  {
   "cell_type": "code",
   "execution_count": 12,
   "metadata": {},
   "outputs": [
    {
     "name": "stdout",
     "output_type": "stream",
     "text": [
      "2021-02-08 09:34:35.252644 IYR\n",
      "1:43:26.691175\n"
     ]
    }
   ],
   "source": [
    "ETF_stats_LW('IYR',horizon=10,instances=60)"
   ]
  },
  {
   "cell_type": "code",
   "execution_count": 5,
   "metadata": {},
   "outputs": [
    {
     "name": "stdout",
     "output_type": "stream",
     "text": [
      "2021-02-09 18:01:16.055496 random1\n",
      "0:27:32.588616\n"
     ]
    }
   ],
   "source": [
    "ETF_stats_LW_rand('random1',horizon=1,instances=60)"
   ]
  },
  {
   "cell_type": "code",
   "execution_count": 6,
   "metadata": {},
   "outputs": [
    {
     "name": "stdout",
     "output_type": "stream",
     "text": [
      "2021-02-09 18:48:27.863307 random2\n",
      "0:28:23.049445\n"
     ]
    }
   ],
   "source": [
    "ETF_stats_LW_rand('random2',horizon=1,instances=60)"
   ]
  },
  {
   "cell_type": "code",
   "execution_count": 7,
   "metadata": {},
   "outputs": [
    {
     "name": "stdout",
     "output_type": "stream",
     "text": [
      "2021-02-09 19:16:51.080545 random3\n",
      "0:26:24.038725\n"
     ]
    }
   ],
   "source": [
    "ETF_stats_LW_rand('random3',horizon=1,instances=60)"
   ]
  },
  {
   "cell_type": "code",
   "execution_count": 8,
   "metadata": {},
   "outputs": [
    {
     "name": "stdout",
     "output_type": "stream",
     "text": [
      "2021-02-09 19:43:15.293430 random4\n",
      "0:27:45.297252\n"
     ]
    }
   ],
   "source": [
    "ETF_stats_LW_rand('random4',horizon=1,instances=60)"
   ]
  },
  {
   "cell_type": "code",
   "execution_count": 9,
   "metadata": {},
   "outputs": [
    {
     "name": "stdout",
     "output_type": "stream",
     "text": [
      "2021-02-09 20:11:00.746116 random5\n",
      "0:26:46.595676\n"
     ]
    }
   ],
   "source": [
    "ETF_stats_LW_rand('random5',horizon=1,instances=60)"
   ]
  },
  {
   "cell_type": "code",
   "execution_count": null,
   "metadata": {},
   "outputs": [],
   "source": []
  }
 ],
 "metadata": {
  "kernelspec": {
   "display_name": "Python 3",
   "language": "python",
   "name": "python3"
  },
  "language_info": {
   "codemirror_mode": {
    "name": "ipython",
    "version": 3
   },
   "file_extension": ".py",
   "mimetype": "text/x-python",
   "name": "python",
   "nbconvert_exporter": "python",
   "pygments_lexer": "ipython3",
   "version": "3.8.5"
  }
 },
 "nbformat": 4,
 "nbformat_minor": 4
}
