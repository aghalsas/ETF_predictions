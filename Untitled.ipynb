{
 "cells": [
  {
   "cell_type": "code",
   "execution_count": 1,
   "metadata": {},
   "outputs": [
    {
     "name": "stdout",
     "output_type": "stream",
     "text": [
      "Processing c:\\users\\akshay\\appdata\\local\\pip\\cache\\wheels\\28\\79\\3c\\08a301b673366fe664fe2853e136eb2acc1bb752045c11c6a1\\yfinance-0.1.54-py2.py3-none-any.whl\n",
      "Collecting requests>=2.20\n",
      "  Using cached requests-2.24.0-py2.py3-none-any.whl (61 kB)\n",
      "Requirement already satisfied: numpy>=1.15 in c:\\users\\akshay\\anaconda3_1\\lib\\site-packages (from yfinance) (1.18.5)\n",
      "Requirement already satisfied: pandas>=0.24 in c:\\users\\akshay\\anaconda3_1\\lib\\site-packages (from yfinance) (1.1.0)\n",
      "Processing c:\\users\\akshay\\appdata\\local\\pip\\cache\\wheels\\ae\\25\\47\\4d68431a7ec1b6c4b5233365934b74c1d4e665bf5f968d363a\\multitasking-0.0.9-py3-none-any.whl\n",
      "Requirement already satisfied: idna<3,>=2.5 in c:\\users\\akshay\\anaconda3_1\\lib\\site-packages (from requests>=2.20->yfinance) (2.7)\n",
      "Requirement already satisfied: urllib3!=1.25.0,!=1.25.1,<1.26,>=1.21.1 in c:\\users\\akshay\\anaconda3_1\\lib\\site-packages (from requests>=2.20->yfinance) (1.23)\n",
      "Requirement already satisfied: chardet<4,>=3.0.2 in c:\\users\\akshay\\anaconda3_1\\lib\\site-packages (from requests>=2.20->yfinance) (3.0.4)\n",
      "Requirement already satisfied: certifi>=2017.4.17 in c:\\users\\akshay\\anaconda3_1\\lib\\site-packages (from requests>=2.20->yfinance) (2018.8.24)\n",
      "Requirement already satisfied: pytz>=2017.2 in c:\\users\\akshay\\anaconda3_1\\lib\\site-packages (from pandas>=0.24->yfinance) (2018.5)\n",
      "Requirement already satisfied: python-dateutil>=2.7.3 in c:\\users\\akshay\\anaconda3_1\\lib\\site-packages (from pandas>=0.24->yfinance) (2.8.1)\n",
      "Requirement already satisfied: six>=1.5 in c:\\users\\akshay\\anaconda3_1\\lib\\site-packages (from python-dateutil>=2.7.3->pandas>=0.24->yfinance) (1.15.0)\n",
      "Installing collected packages: requests, multitasking, yfinance\n",
      "  Attempting uninstall: requests\n",
      "    Found existing installation: requests 2.19.1\n",
      "    Uninstalling requests-2.19.1:\n",
      "      Successfully uninstalled requests-2.19.1\n",
      "Successfully installed multitasking-0.0.9 requests-2.24.0 yfinance-0.1.54\n"
     ]
    },
    {
     "name": "stderr",
     "output_type": "stream",
     "text": [
      "ERROR: kaggle 1.5.0 has requirement urllib3<1.23.0,>=1.15, but you'll have urllib3 1.23 which is incompatible.\n",
      "ERROR: coursera-dl 0.11.4 has requirement attrs==18.1.0, but you'll have attrs 18.2.0 which is incompatible.\n"
     ]
    }
   ],
   "source": [
    "import sys\n",
    "!{sys.executable} -m pip install yfinance"
   ]
  },
  {
   "cell_type": "code",
   "execution_count": 7,
   "metadata": {},
   "outputs": [],
   "source": [
    "import yfinance as yf\n",
    "import pandas as pd\n",
    "import os"
   ]
  },
  {
   "cell_type": "code",
   "execution_count": 4,
   "metadata": {
    "collapsed": true
   },
   "outputs": [
    {
     "name": "stdout",
     "output_type": "stream",
     "text": [
      "[*********************100%***********************]  1 of 1 completed\n"
     ]
    }
   ],
   "source": [
    "data_df = yf.download(\"SPY\", start=\"2014-12-31\", end=\"2019-12-31\")\n",
    "data_df.to_csv(os.pa)\n",
    "\n"
   ]
  },
  {
   "cell_type": "code",
   "execution_count": 6,
   "metadata": {},
   "outputs": [
    {
     "data": {
      "text/plain": [
       "pandas.core.frame.DataFrame"
      ]
     },
     "execution_count": 6,
     "metadata": {},
     "output_type": "execute_result"
    }
   ],
   "source": [
    "type(data_df)"
   ]
  },
  {
   "cell_type": "code",
   "execution_count": 22,
   "metadata": {},
   "outputs": [
    {
     "data": {
      "text/plain": [
       "'C:\\\\Users\\\\Akshay\\\\Flatiron_ML\\\\Capstone Project\\\\ETF_Forecasting\\\\data\\\\spy.csv'"
      ]
     },
     "execution_count": 22,
     "metadata": {},
     "output_type": "execute_result"
    }
   ],
   "source": [
    "os.path.join(os.path.abspath(os.getcwd()),'data','spy'+'.csv')"
   ]
  },
  {
   "cell_type": "code",
   "execution_count": 25,
   "metadata": {},
   "outputs": [],
   "source": [
    "largecap = ['SPY','IVV','VOO']\n",
    "industrial = ['XLI','VIS','ITA']\n",
    "health = ['XLV','VHT','IBB']\n",
    "energy = ['XLE','AMLP','VDE']\n",
    "realestate = ['VNQ','VNQI','SCHH']"
   ]
  },
  {
   "cell_type": "code",
   "execution_count": 37,
   "metadata": {},
   "outputs": [],
   "source": [
    "sectors = [largecap,industrial,health,energy,realestate]\n",
    "sectorname = ['largecap','industrial','health','energy','realestate']"
   ]
  },
  {
   "cell_type": "code",
   "execution_count": 38,
   "metadata": {},
   "outputs": [
    {
     "name": "stdout",
     "output_type": "stream",
     "text": [
      "[*********************100%***********************]  1 of 1 completed\n",
      "[*********************100%***********************]  1 of 1 completed\n",
      "[*********************100%***********************]  1 of 1 completed\n",
      "[*********************100%***********************]  1 of 1 completed\n",
      "[*********************100%***********************]  1 of 1 completed\n",
      "[*********************100%***********************]  1 of 1 completed\n",
      "[*********************100%***********************]  1 of 1 completed\n",
      "[*********************100%***********************]  1 of 1 completed\n",
      "[*********************100%***********************]  1 of 1 completed\n",
      "[*********************100%***********************]  1 of 1 completed\n",
      "[*********************100%***********************]  1 of 1 completed\n",
      "[*********************100%***********************]  1 of 1 completed\n",
      "[*********************100%***********************]  1 of 1 completed\n",
      "[*********************100%***********************]  1 of 1 completed\n",
      "[*********************100%***********************]  1 of 1 completed\n"
     ]
    }
   ],
   "source": [
    "for i,sector in enumerate(sectors):\n",
    "    for etf in sector:\n",
    "        data_df = yf.download(etf, start=\"2014-12-31\", end=\"2019-12-31\")\n",
    "        data_df.to_csv(os.path.join(os.path.abspath(os.getcwd()),'data',sectorname[i],etf+'.csv'))"
   ]
  },
  {
   "cell_type": "code",
   "execution_count": null,
   "metadata": {},
   "outputs": [],
   "source": []
  }
 ],
 "metadata": {
  "kernelspec": {
   "display_name": "Python 3",
   "language": "python",
   "name": "python3"
  },
  "language_info": {
   "codemirror_mode": {
    "name": "ipython",
    "version": 3
   },
   "file_extension": ".py",
   "mimetype": "text/x-python",
   "name": "python",
   "nbconvert_exporter": "python",
   "pygments_lexer": "ipython3",
   "version": "3.7.0"
  }
 },
 "nbformat": 4,
 "nbformat_minor": 2
}
