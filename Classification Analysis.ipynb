{
 "cells": [
  {
   "cell_type": "markdown",
   "metadata": {},
   "source": [
    "# Classifying whether an ETF goes up or down\n",
    "## Here we will use the data of the ETF we are prediciting and not any other data"
   ]
  },
  {
   "cell_type": "markdown",
   "metadata": {},
   "source": [
    "#### Importing required libraries"
   ]
  },
  {
   "cell_type": "code",
   "execution_count": 25,
   "metadata": {},
   "outputs": [],
   "source": [
    "import pandas as pd\n",
    "import numpy as np\n",
    "import matplotlib.pyplot as plt\n",
    "import seaborn as sns\n",
    "import os\n",
    "from xgboost import XGBClassifier\n",
    "from sklearn.model_selection import train_test_split\n",
    "from sklearn.preprocessing import StandardScaler\n",
    "from sklearn.linear_model import LogisticRegression\n",
    "from sklearn.metrics import roc_curve, auc\n",
    "from sklearn.metrics import accuracy_score, confusion_matrix, classification_report\n",
    "from sklearn.tree import DecisionTreeClassifier\n",
    "from sklearn.ensemble import BaggingClassifier, RandomForestClassifier\n",
    "from sklearn.model_selection import GridSearchCV\n",
    "from sklearn.decomposition import PCA\n",
    "from sklearn.metrics import precision_score, recall_score, accuracy_score, f1_score\n",
    "from sklearn import svm\n",
    "from sklearn.model_selection import TimeSeriesSplit\n",
    "import warnings\n",
    "warnings.filterwarnings('ignore')"
   ]
  },
  {
   "cell_type": "code",
   "execution_count": 26,
   "metadata": {},
   "outputs": [],
   "source": [
    "%run Feature_Creation.ipynb\n",
    "%run Auxillary_Functions.ipynb\n",
    "%run Classification_Function.ipynb\n"
   ]
  },
  {
   "cell_type": "markdown",
   "metadata": {},
   "source": [
    "## Importing data"
   ]
  },
  {
   "cell_type": "markdown",
   "metadata": {},
   "source": [
    "#### Importing data and generating features"
   ]
  },
  {
   "cell_type": "code",
   "execution_count": 4,
   "metadata": {},
   "outputs": [
    {
     "data": {
      "text/html": [
       "<div>\n",
       "<style scoped>\n",
       "    .dataframe tbody tr th:only-of-type {\n",
       "        vertical-align: middle;\n",
       "    }\n",
       "\n",
       "    .dataframe tbody tr th {\n",
       "        vertical-align: top;\n",
       "    }\n",
       "\n",
       "    .dataframe thead th {\n",
       "        text-align: right;\n",
       "    }\n",
       "</style>\n",
       "<table border=\"1\" class=\"dataframe\">\n",
       "  <thead>\n",
       "    <tr style=\"text-align: right;\">\n",
       "      <th></th>\n",
       "      <th>Date</th>\n",
       "      <th>Open</th>\n",
       "      <th>High</th>\n",
       "      <th>Low</th>\n",
       "      <th>Close</th>\n",
       "      <th>Adj Close</th>\n",
       "      <th>Volume</th>\n",
       "      <th>Month_1</th>\n",
       "      <th>Month_2</th>\n",
       "      <th>Month_3</th>\n",
       "      <th>...</th>\n",
       "      <th>RSI_overbought</th>\n",
       "      <th>RSI_oversold</th>\n",
       "      <th>prev_hot_streak</th>\n",
       "      <th>prev_cold_streak</th>\n",
       "      <th>current_hot_streak</th>\n",
       "      <th>current_cold_streak</th>\n",
       "      <th>prev_current_hot</th>\n",
       "      <th>prev_current_cold</th>\n",
       "      <th>current_hot_prev_cold</th>\n",
       "      <th>current_cold_prev_hot</th>\n",
       "    </tr>\n",
       "  </thead>\n",
       "  <tbody>\n",
       "    <tr>\n",
       "      <th>0</th>\n",
       "      <td>2015-01-12</td>\n",
       "      <td>204.410004</td>\n",
       "      <td>204.600006</td>\n",
       "      <td>201.919998</td>\n",
       "      <td>202.649994</td>\n",
       "      <td>181.766663</td>\n",
       "      <td>144396100</td>\n",
       "      <td>1</td>\n",
       "      <td>0</td>\n",
       "      <td>0</td>\n",
       "      <td>...</td>\n",
       "      <td>False</td>\n",
       "      <td>False</td>\n",
       "      <td>2.0</td>\n",
       "      <td>3.0</td>\n",
       "      <td>0.0</td>\n",
       "      <td>2.0</td>\n",
       "      <td>2.0</td>\n",
       "      <td>1.0</td>\n",
       "      <td>-3.0</td>\n",
       "      <td>0.0</td>\n",
       "    </tr>\n",
       "    <tr>\n",
       "      <th>1</th>\n",
       "      <td>2015-01-13</td>\n",
       "      <td>204.119995</td>\n",
       "      <td>205.479996</td>\n",
       "      <td>200.509995</td>\n",
       "      <td>202.080002</td>\n",
       "      <td>181.255432</td>\n",
       "      <td>214553300</td>\n",
       "      <td>1</td>\n",
       "      <td>0</td>\n",
       "      <td>0</td>\n",
       "      <td>...</td>\n",
       "      <td>False</td>\n",
       "      <td>False</td>\n",
       "      <td>2.0</td>\n",
       "      <td>3.0</td>\n",
       "      <td>0.0</td>\n",
       "      <td>3.0</td>\n",
       "      <td>2.0</td>\n",
       "      <td>0.0</td>\n",
       "      <td>-3.0</td>\n",
       "      <td>1.0</td>\n",
       "    </tr>\n",
       "    <tr>\n",
       "      <th>2</th>\n",
       "      <td>2015-01-14</td>\n",
       "      <td>199.649994</td>\n",
       "      <td>201.100006</td>\n",
       "      <td>198.570007</td>\n",
       "      <td>200.860001</td>\n",
       "      <td>180.161163</td>\n",
       "      <td>192991100</td>\n",
       "      <td>1</td>\n",
       "      <td>0</td>\n",
       "      <td>0</td>\n",
       "      <td>...</td>\n",
       "      <td>False</td>\n",
       "      <td>False</td>\n",
       "      <td>2.0</td>\n",
       "      <td>3.0</td>\n",
       "      <td>0.0</td>\n",
       "      <td>4.0</td>\n",
       "      <td>2.0</td>\n",
       "      <td>-1.0</td>\n",
       "      <td>-3.0</td>\n",
       "      <td>2.0</td>\n",
       "    </tr>\n",
       "    <tr>\n",
       "      <th>3</th>\n",
       "      <td>2015-01-15</td>\n",
       "      <td>201.630005</td>\n",
       "      <td>202.009995</td>\n",
       "      <td>198.880005</td>\n",
       "      <td>199.020004</td>\n",
       "      <td>178.510773</td>\n",
       "      <td>176613900</td>\n",
       "      <td>1</td>\n",
       "      <td>0</td>\n",
       "      <td>0</td>\n",
       "      <td>...</td>\n",
       "      <td>False</td>\n",
       "      <td>True</td>\n",
       "      <td>2.0</td>\n",
       "      <td>3.0</td>\n",
       "      <td>0.0</td>\n",
       "      <td>5.0</td>\n",
       "      <td>2.0</td>\n",
       "      <td>-2.0</td>\n",
       "      <td>-3.0</td>\n",
       "      <td>3.0</td>\n",
       "    </tr>\n",
       "    <tr>\n",
       "      <th>4</th>\n",
       "      <td>2015-01-16</td>\n",
       "      <td>198.770004</td>\n",
       "      <td>201.820007</td>\n",
       "      <td>198.550003</td>\n",
       "      <td>201.630005</td>\n",
       "      <td>180.851807</td>\n",
       "      <td>211879600</td>\n",
       "      <td>1</td>\n",
       "      <td>0</td>\n",
       "      <td>0</td>\n",
       "      <td>...</td>\n",
       "      <td>False</td>\n",
       "      <td>False</td>\n",
       "      <td>2.0</td>\n",
       "      <td>5.0</td>\n",
       "      <td>1.0</td>\n",
       "      <td>0.0</td>\n",
       "      <td>1.0</td>\n",
       "      <td>5.0</td>\n",
       "      <td>-4.0</td>\n",
       "      <td>-2.0</td>\n",
       "    </tr>\n",
       "  </tbody>\n",
       "</table>\n",
       "<p>5 rows × 51 columns</p>\n",
       "</div>"
      ],
      "text/plain": [
       "        Date        Open        High         Low       Close   Adj Close  \\\n",
       "0 2015-01-12  204.410004  204.600006  201.919998  202.649994  181.766663   \n",
       "1 2015-01-13  204.119995  205.479996  200.509995  202.080002  181.255432   \n",
       "2 2015-01-14  199.649994  201.100006  198.570007  200.860001  180.161163   \n",
       "3 2015-01-15  201.630005  202.009995  198.880005  199.020004  178.510773   \n",
       "4 2015-01-16  198.770004  201.820007  198.550003  201.630005  180.851807   \n",
       "\n",
       "      Volume  Month_1  Month_2  Month_3  ...  RSI_overbought  RSI_oversold  \\\n",
       "0  144396100        1        0        0  ...           False         False   \n",
       "1  214553300        1        0        0  ...           False         False   \n",
       "2  192991100        1        0        0  ...           False         False   \n",
       "3  176613900        1        0        0  ...           False          True   \n",
       "4  211879600        1        0        0  ...           False         False   \n",
       "\n",
       "   prev_hot_streak  prev_cold_streak  current_hot_streak  current_cold_streak  \\\n",
       "0              2.0               3.0                 0.0                  2.0   \n",
       "1              2.0               3.0                 0.0                  3.0   \n",
       "2              2.0               3.0                 0.0                  4.0   \n",
       "3              2.0               3.0                 0.0                  5.0   \n",
       "4              2.0               5.0                 1.0                  0.0   \n",
       "\n",
       "   prev_current_hot  prev_current_cold  current_hot_prev_cold  \\\n",
       "0               2.0                1.0                   -3.0   \n",
       "1               2.0                0.0                   -3.0   \n",
       "2               2.0               -1.0                   -3.0   \n",
       "3               2.0               -2.0                   -3.0   \n",
       "4               1.0                5.0                   -4.0   \n",
       "\n",
       "   current_cold_prev_hot  \n",
       "0                    0.0  \n",
       "1                    1.0  \n",
       "2                    2.0  \n",
       "3                    3.0  \n",
       "4                   -2.0  \n",
       "\n",
       "[5 rows x 51 columns]"
      ]
     },
     "execution_count": 4,
     "metadata": {},
     "output_type": "execute_result"
    }
   ],
   "source": [
    "SPY = pd.read_csv(os.path.join(os.path.abspath(os.getcwd()),'data','largecap','SPY.csv'))\n",
    "\n",
    "SPY_feat = create_features(SPY)\n",
    "\n",
    "SPY_feat.head()"
   ]
  },
  {
   "cell_type": "markdown",
   "metadata": {},
   "source": [
    "#### Normalizing features"
   ]
  },
  {
   "cell_type": "code",
   "execution_count": 5,
   "metadata": {},
   "outputs": [
    {
     "name": "stdout",
     "output_type": "stream",
     "text": [
      "<generator object TimeSeriesSplit.split at 0x7fba3c8f0f20>\n",
      "[  0   1   2   3   4   5   6   7   8   9  10  11  12  13  14  15  16  17\n",
      "  18  19  20  21  22  23  24  25  26  27  28  29  30  31  32  33  34  35\n",
      "  36  37  38  39  40  41  42  43  44  45  46  47  48  49  50  51  52  53\n",
      "  54  55  56  57  58  59  60  61  62  63  64  65  66  67  68  69  70  71\n",
      "  72  73  74  75  76  77  78  79  80  81  82  83  84  85  86  87  88  89\n",
      "  90  91  92  93  94  95  96  97  98  99 100 101 102 103 104 105 106 107\n",
      " 108 109 110 111 112 113 114 115 116 117 118 119 120 121 122 123 124 125\n",
      " 126 127 128 129 130 131 132 133 134 135 136 137 138 139 140 141 142 143\n",
      " 144 145 146 147 148 149 150 151 152 153 154 155 156 157 158 159 160 161\n",
      " 162 163 164 165 166 167 168 169 170 171 172 173 174 175 176 177 178 179\n",
      " 180 181 182 183 184 185 186 187 188 189 190 191 192 193 194 195 196 197\n",
      " 198 199] [200 201 202 203 204 205 206 207 208 209 210 211 212 213 214 215 216 217\n",
      " 218 219 220 221 222 223 224 225 226 227 228 229 230 231 232 233 234 235\n",
      " 236 237 238 239 240 241 242 243 244 245 246 247 248 249 250 251 252 253\n",
      " 254 255 256 257 258 259 260 261 262 263 264 265 266 267 268 269 270 271\n",
      " 272 273 274 275 276 277 278 279 280 281 282 283 284 285 286 287 288 289\n",
      " 290 291 292 293 294 295 296 297 298 299 300 301 302 303 304 305 306 307\n",
      " 308 309 310 311 312 313 314 315 316 317 318 319 320 321 322 323 324 325\n",
      " 326 327 328 329 330 331 332 333 334 335 336 337 338 339 340 341 342 343\n",
      " 344 345 346 347 348 349 350 351 352 353 354 355 356 357 358 359 360 361\n",
      " 362 363 364 365 366 367 368 369 370 371 372 373 374 375 376 377 378 379\n",
      " 380 381 382 383 384 385 386 387 388 389 390 391 392 393 394 395 396 397\n",
      " 398 399]\n",
      "[  0   1   2   3   4   5   6   7   8   9  10  11  12  13  14  15  16  17\n",
      "  18  19  20  21  22  23  24  25  26  27  28  29  30  31  32  33  34  35\n",
      "  36  37  38  39  40  41  42  43  44  45  46  47  48  49  50  51  52  53\n",
      "  54  55  56  57  58  59  60  61  62  63  64  65  66  67  68  69  70  71\n",
      "  72  73  74  75  76  77  78  79  80  81  82  83  84  85  86  87  88  89\n",
      "  90  91  92  93  94  95  96  97  98  99 100 101 102 103 104 105 106 107\n",
      " 108 109 110 111 112 113 114 115 116 117 118 119 120 121 122 123 124 125\n",
      " 126 127 128 129 130 131 132 133 134 135 136 137 138 139 140 141 142 143\n",
      " 144 145 146 147 148 149 150 151 152 153 154 155 156 157 158 159 160 161\n",
      " 162 163 164 165 166 167 168 169 170 171 172 173 174 175 176 177 178 179\n",
      " 180 181 182 183 184 185 186 187 188 189 190 191 192 193 194 195 196 197\n",
      " 198 199 200 201 202 203 204 205 206 207 208 209 210 211 212 213 214 215\n",
      " 216 217 218 219 220 221 222 223 224 225 226 227 228 229 230 231 232 233\n",
      " 234 235 236 237 238 239 240 241 242 243 244 245 246 247 248 249 250 251\n",
      " 252 253 254 255 256 257 258 259 260 261 262 263 264 265 266 267 268 269\n",
      " 270 271 272 273 274 275 276 277 278 279 280 281 282 283 284 285 286 287\n",
      " 288 289 290 291 292 293 294 295 296 297 298 299 300 301 302 303 304 305\n",
      " 306 307 308 309 310 311 312 313 314 315 316 317 318 319 320 321 322 323\n",
      " 324 325 326 327 328 329 330 331 332 333 334 335 336 337 338 339 340 341\n",
      " 342 343 344 345 346 347 348 349 350 351 352 353 354 355 356 357 358 359\n",
      " 360 361 362 363 364 365 366 367 368 369 370 371 372 373 374 375 376 377\n",
      " 378 379 380 381 382 383 384 385 386 387 388 389 390 391 392 393 394 395\n",
      " 396 397 398 399] [400 401 402 403 404 405 406 407 408 409 410 411 412 413 414 415 416 417\n",
      " 418 419 420 421 422 423 424 425 426 427 428 429 430 431 432 433 434 435\n",
      " 436 437 438 439 440 441 442 443 444 445 446 447 448 449 450 451 452 453\n",
      " 454 455 456 457 458 459 460 461 462 463 464 465 466 467 468 469 470 471\n",
      " 472 473 474 475 476 477 478 479 480 481 482 483 484 485 486 487 488 489\n",
      " 490 491 492 493 494 495 496 497 498 499 500 501 502 503 504 505 506 507\n",
      " 508 509 510 511 512 513 514 515 516 517 518 519 520 521 522 523 524 525\n",
      " 526 527 528 529 530 531 532 533 534 535 536 537 538 539 540 541 542 543\n",
      " 544 545 546 547 548 549 550 551 552 553 554 555 556 557 558 559 560 561\n",
      " 562 563 564 565 566 567 568 569 570 571 572 573 574 575 576 577 578 579\n",
      " 580 581 582 583 584 585 586 587 588 589 590 591 592 593 594 595 596 597\n",
      " 598 599]\n",
      "[  0   1   2   3   4   5   6   7   8   9  10  11  12  13  14  15  16  17\n",
      "  18  19  20  21  22  23  24  25  26  27  28  29  30  31  32  33  34  35\n",
      "  36  37  38  39  40  41  42  43  44  45  46  47  48  49  50  51  52  53\n",
      "  54  55  56  57  58  59  60  61  62  63  64  65  66  67  68  69  70  71\n",
      "  72  73  74  75  76  77  78  79  80  81  82  83  84  85  86  87  88  89\n",
      "  90  91  92  93  94  95  96  97  98  99 100 101 102 103 104 105 106 107\n",
      " 108 109 110 111 112 113 114 115 116 117 118 119 120 121 122 123 124 125\n",
      " 126 127 128 129 130 131 132 133 134 135 136 137 138 139 140 141 142 143\n",
      " 144 145 146 147 148 149 150 151 152 153 154 155 156 157 158 159 160 161\n",
      " 162 163 164 165 166 167 168 169 170 171 172 173 174 175 176 177 178 179\n",
      " 180 181 182 183 184 185 186 187 188 189 190 191 192 193 194 195 196 197\n",
      " 198 199 200 201 202 203 204 205 206 207 208 209 210 211 212 213 214 215\n",
      " 216 217 218 219 220 221 222 223 224 225 226 227 228 229 230 231 232 233\n",
      " 234 235 236 237 238 239 240 241 242 243 244 245 246 247 248 249 250 251\n",
      " 252 253 254 255 256 257 258 259 260 261 262 263 264 265 266 267 268 269\n",
      " 270 271 272 273 274 275 276 277 278 279 280 281 282 283 284 285 286 287\n",
      " 288 289 290 291 292 293 294 295 296 297 298 299 300 301 302 303 304 305\n",
      " 306 307 308 309 310 311 312 313 314 315 316 317 318 319 320 321 322 323\n",
      " 324 325 326 327 328 329 330 331 332 333 334 335 336 337 338 339 340 341\n",
      " 342 343 344 345 346 347 348 349 350 351 352 353 354 355 356 357 358 359\n",
      " 360 361 362 363 364 365 366 367 368 369 370 371 372 373 374 375 376 377\n",
      " 378 379 380 381 382 383 384 385 386 387 388 389 390 391 392 393 394 395\n",
      " 396 397 398 399 400 401 402 403 404 405 406 407 408 409 410 411 412 413\n",
      " 414 415 416 417 418 419 420 421 422 423 424 425 426 427 428 429 430 431\n",
      " 432 433 434 435 436 437 438 439 440 441 442 443 444 445 446 447 448 449\n",
      " 450 451 452 453 454 455 456 457 458 459 460 461 462 463 464 465 466 467\n",
      " 468 469 470 471 472 473 474 475 476 477 478 479 480 481 482 483 484 485\n",
      " 486 487 488 489 490 491 492 493 494 495 496 497 498 499 500 501 502 503\n",
      " 504 505 506 507 508 509 510 511 512 513 514 515 516 517 518 519 520 521\n",
      " 522 523 524 525 526 527 528 529 530 531 532 533 534 535 536 537 538 539\n",
      " 540 541 542 543 544 545 546 547 548 549 550 551 552 553 554 555 556 557\n",
      " 558 559 560 561 562 563 564 565 566 567 568 569 570 571 572 573 574 575\n",
      " 576 577 578 579 580 581 582 583 584 585 586 587 588 589 590 591 592 593\n",
      " 594 595 596 597 598 599] [600 601 602 603 604 605 606 607 608 609 610 611 612 613 614 615 616 617\n",
      " 618 619 620 621 622 623 624 625 626 627 628 629 630 631 632 633 634 635\n",
      " 636 637 638 639 640 641 642 643 644 645 646 647 648 649 650 651 652 653\n",
      " 654 655 656 657 658 659 660 661 662 663 664 665 666 667 668 669 670 671\n",
      " 672 673 674 675 676 677 678 679 680 681 682 683 684 685 686 687 688 689\n",
      " 690 691 692 693 694 695 696 697 698 699 700 701 702 703 704 705 706 707\n",
      " 708 709 710 711 712 713 714 715 716 717 718 719 720 721 722 723 724 725\n",
      " 726 727 728 729 730 731 732 733 734 735 736 737 738 739 740 741 742 743\n",
      " 744 745 746 747 748 749 750 751 752 753 754 755 756 757 758 759 760 761\n",
      " 762 763 764 765 766 767 768 769 770 771 772 773 774 775 776 777 778 779\n",
      " 780 781 782 783 784 785 786 787 788 789 790 791 792 793 794 795 796 797\n",
      " 798 799]\n",
      "[  0   1   2   3   4   5   6   7   8   9  10  11  12  13  14  15  16  17\n",
      "  18  19  20  21  22  23  24  25  26  27  28  29  30  31  32  33  34  35\n",
      "  36  37  38  39  40  41  42  43  44  45  46  47  48  49  50  51  52  53\n",
      "  54  55  56  57  58  59  60  61  62  63  64  65  66  67  68  69  70  71\n",
      "  72  73  74  75  76  77  78  79  80  81  82  83  84  85  86  87  88  89\n",
      "  90  91  92  93  94  95  96  97  98  99 100 101 102 103 104 105 106 107\n",
      " 108 109 110 111 112 113 114 115 116 117 118 119 120 121 122 123 124 125\n",
      " 126 127 128 129 130 131 132 133 134 135 136 137 138 139 140 141 142 143\n",
      " 144 145 146 147 148 149 150 151 152 153 154 155 156 157 158 159 160 161\n",
      " 162 163 164 165 166 167 168 169 170 171 172 173 174 175 176 177 178 179\n",
      " 180 181 182 183 184 185 186 187 188 189 190 191 192 193 194 195 196 197\n",
      " 198 199 200 201 202 203 204 205 206 207 208 209 210 211 212 213 214 215\n",
      " 216 217 218 219 220 221 222 223 224 225 226 227 228 229 230 231 232 233\n",
      " 234 235 236 237 238 239 240 241 242 243 244 245 246 247 248 249 250 251\n",
      " 252 253 254 255 256 257 258 259 260 261 262 263 264 265 266 267 268 269\n",
      " 270 271 272 273 274 275 276 277 278 279 280 281 282 283 284 285 286 287\n",
      " 288 289 290 291 292 293 294 295 296 297 298 299 300 301 302 303 304 305\n",
      " 306 307 308 309 310 311 312 313 314 315 316 317 318 319 320 321 322 323\n",
      " 324 325 326 327 328 329 330 331 332 333 334 335 336 337 338 339 340 341\n",
      " 342 343 344 345 346 347 348 349 350 351 352 353 354 355 356 357 358 359\n",
      " 360 361 362 363 364 365 366 367 368 369 370 371 372 373 374 375 376 377\n",
      " 378 379 380 381 382 383 384 385 386 387 388 389 390 391 392 393 394 395\n",
      " 396 397 398 399 400 401 402 403 404 405 406 407 408 409 410 411 412 413\n",
      " 414 415 416 417 418 419 420 421 422 423 424 425 426 427 428 429 430 431\n",
      " 432 433 434 435 436 437 438 439 440 441 442 443 444 445 446 447 448 449\n",
      " 450 451 452 453 454 455 456 457 458 459 460 461 462 463 464 465 466 467\n",
      " 468 469 470 471 472 473 474 475 476 477 478 479 480 481 482 483 484 485\n",
      " 486 487 488 489 490 491 492 493 494 495 496 497 498 499 500 501 502 503\n",
      " 504 505 506 507 508 509 510 511 512 513 514 515 516 517 518 519 520 521\n",
      " 522 523 524 525 526 527 528 529 530 531 532 533 534 535 536 537 538 539\n",
      " 540 541 542 543 544 545 546 547 548 549 550 551 552 553 554 555 556 557\n",
      " 558 559 560 561 562 563 564 565 566 567 568 569 570 571 572 573 574 575\n",
      " 576 577 578 579 580 581 582 583 584 585 586 587 588 589 590 591 592 593\n",
      " 594 595 596 597 598 599 600 601 602 603 604 605 606 607 608 609 610 611\n",
      " 612 613 614 615 616 617 618 619 620 621 622 623 624 625 626 627 628 629\n",
      " 630 631 632 633 634 635 636 637 638 639 640 641 642 643 644 645 646 647\n",
      " 648 649 650 651 652 653 654 655 656 657 658 659 660 661 662 663 664 665\n",
      " 666 667 668 669 670 671 672 673 674 675 676 677 678 679 680 681 682 683\n",
      " 684 685 686 687 688 689 690 691 692 693 694 695 696 697 698 699 700 701\n",
      " 702 703 704 705 706 707 708 709 710 711 712 713 714 715 716 717 718 719\n",
      " 720 721 722 723 724 725 726 727 728 729 730 731 732 733 734 735 736 737\n",
      " 738 739 740 741 742 743 744 745 746 747 748 749 750 751 752 753 754 755\n",
      " 756 757 758 759 760 761 762 763 764 765 766 767 768 769 770 771 772 773\n",
      " 774 775 776 777 778 779 780 781 782 783 784 785 786 787 788 789 790 791\n",
      " 792 793 794 795 796 797 798 799] [800 801 802 803 804 805 806 807 808 809 810 811 812 813 814 815 816 817\n",
      " 818 819 820 821 822 823 824 825 826 827 828 829 830 831 832 833 834 835\n",
      " 836 837 838 839 840 841 842 843 844 845 846 847 848 849 850 851 852 853\n",
      " 854 855 856 857 858 859 860 861 862 863 864 865 866 867 868 869 870 871\n",
      " 872 873 874 875 876 877 878 879 880 881 882 883 884 885 886 887 888 889\n",
      " 890 891 892 893 894 895 896 897 898 899 900 901 902 903 904 905 906 907\n",
      " 908 909 910 911 912 913 914 915 916 917 918 919 920 921 922 923 924 925\n",
      " 926 927 928 929 930 931 932 933 934 935 936 937 938 939 940 941 942 943\n",
      " 944 945 946 947 948 949 950 951 952 953 954 955 956 957 958 959 960 961\n",
      " 962 963 964 965 966 967 968 969 970 971 972 973 974 975 976 977 978 979\n",
      " 980 981 982 983 984 985 986 987 988 989 990 991 992 993 994 995 996 997\n",
      " 998 999]\n"
     ]
    }
   ],
   "source": [
    "y = SPY_feat['target'].astype(int)\n",
    "X = SPY_feat.drop(['Date','Adj Close','High','Low','Close','target'],axis=1)\n",
    "\n",
    "continuous = ['1day_pct', '2day_pct', '3day_pct', '4day_pct', '5day_pct', '7day_pct',\n",
    "              '1day_pct_cs',\n",
    "              'ewma_7', 'ewma_50', 'ewma_200', 'RSI', 'MACD','Volume','day_var','open_close','open_prev_close','high_close']\n",
    "discrete = ['prev_hot_streak','prev_cold_streak', 'current_hot_streak', 'current_cold_streak',\n",
    "            'RSI_overbought','RSI_oversold',\n",
    "            #'7g(50&200)','7l(50&200)','7g50','7g200',\n",
    "            'prev_current_hot', 'prev_current_cold','current_hot_prev_cold','current_cold_prev_hot',\n",
    "            'Month_1', 'Month_2', 'Month_3', 'Month_4', 'Month_5', 'Month_6',\n",
    "            'Month_7', 'Month_8', 'Month_9', 'Month_10', 'Month_11', 'Month_12',\n",
    "            'dayowk_0', 'dayowk_1', 'dayowk_2', 'dayowk_3', 'dayowk_4',\n",
    "           ]\n",
    "scaler = StandardScaler()\n",
    "X_cont = pd.DataFrame(scaler.fit_transform(X[continuous]),columns=continuous)\n",
    "\n",
    "X_disc = X[discrete]\n",
    "\n",
    "X_cont.reset_index(drop=True,inplace=True)\n",
    "\n",
    "X_disc.reset_index(drop=True,inplace=True)\n",
    "\n",
    "X = pd.concat([X_cont,X_disc],axis=1)\n",
    "\n",
    "\n",
    "X_test = X.iloc[1000:]\n",
    "X_train = X.iloc[0:1000]\n",
    "y_test = y.iloc[1000:]\n",
    "y_train = y.iloc[0:1000]\n",
    "\n",
    "tscv = TimeSeriesSplit(n_splits=4)\n",
    "print(tscv.split(X_train))\n",
    "for train, val in tscv.split(X_train):\n",
    "    print(\"%s %s\" % (train, val))"
   ]
  },
  {
   "cell_type": "markdown",
   "metadata": {},
   "source": [
    "# Analysis"
   ]
  },
  {
   "cell_type": "markdown",
   "metadata": {},
   "source": [
    "# SPY"
   ]
  },
  {
   "cell_type": "markdown",
   "metadata": {},
   "source": [
    "### Naive Prediction. Up everyday"
   ]
  },
  {
   "cell_type": "code",
   "execution_count": 6,
   "metadata": {},
   "outputs": [
    {
     "name": "stdout",
     "output_type": "stream",
     "text": [
      "precision score 1.0\n",
      "recall score 0.592\n",
      "accuracy score 0.592\n",
      "f1 score 0.743718592964824\n"
     ]
    }
   ],
   "source": [
    "y_hat_test_naive = np.ones(len(y_test))\n",
    "print('precision score' ,precision_score(y_hat_test_naive,y_test))\n",
    "print('recall score' ,recall_score(y_hat_test_naive,y_test))\n",
    "print('accuracy score' ,accuracy_score(y_hat_test_naive,y_test))\n",
    "print('f1 score' ,f1_score(y_hat_test_naive,y_test))"
   ]
  },
  {
   "cell_type": "markdown",
   "metadata": {},
   "source": [
    "### Random Forests not tuned"
   ]
  },
  {
   "cell_type": "code",
   "execution_count": 7,
   "metadata": {},
   "outputs": [
    {
     "name": "stdout",
     "output_type": "stream",
     "text": [
      "0.488\n"
     ]
    },
    {
     "data": {
      "image/png": "[encoded data removed]",
      "text/plain": [
       "<Figure size 576x576 with 1 Axes>"
      ]
     },
     "metadata": {
      "needs_background": "light"
     },
     "output_type": "display_data"
    }
   ],
   "source": [
    "forest = RandomForestClassifier(n_estimators=3000, max_depth= 10)\n",
    "forest.fit(X_train, y_train)\n",
    "print(forest.score(X_test, y_test))\n",
    "\n",
    "plot_feature_importances(forest,n_features=50)"
   ]
  },
  {
   "cell_type": "code",
   "execution_count": 8,
   "metadata": {},
   "outputs": [
    {
     "name": "stdout",
     "output_type": "stream",
     "text": [
      "precision score 0.40540540540540543\n",
      "recall score 0.6\n",
      "accuracy score 0.488\n",
      "f1 score 0.48387096774193555\n",
      "1    0.592\n",
      "0    0.408\n",
      "Name: target, dtype: float64\n"
     ]
    }
   ],
   "source": [
    "y_hat_test = forest.predict(X_test)\n",
    "print('precision score' ,precision_score(y_hat_test,y_test))\n",
    "print('recall score' ,recall_score(y_hat_test,y_test))\n",
    "print('accuracy score' ,accuracy_score(y_hat_test,y_test))\n",
    "print('f1 score' ,f1_score(y_hat_test,y_test))\n",
    "print(y_test.value_counts()/y_test.value_counts().sum())"
   ]
  },
  {
   "cell_type": "markdown",
   "metadata": {},
   "source": [
    "### Random Forest tuned using GridSearch"
   ]
  },
  {
   "cell_type": "code",
   "execution_count": 26,
   "metadata": {},
   "outputs": [
    {
     "name": "stdout",
     "output_type": "stream",
     "text": [
      "Training Accuracy: 54.38%\n",
      "\n",
      "Optimal Parameters: {'criterion': 'gini', 'max_depth': 3, 'min_samples_leaf': 13, 'min_samples_split': 5, 'n_estimators': 5}\n",
      "{'model': 'RF', 'precision': 0.7094594594594594, 'recall': 0.6140350877192983, 'accuracy': 0.564, 'f1': 0.6583072100313481, 'return': 5.683357690038595}\n"
     ]
    }
   ],
   "source": [
    "rf_clf = RandomForestClassifier()\n",
    "rf_param_grid = {\n",
    "    'n_estimators': [5,7,10,30,50],\n",
    "    'criterion': ['gini', 'entropy'],\n",
    "    'max_depth': [None, 2, 3, 5,10],\n",
    "    'min_samples_split': [5,10,15],\n",
    "    'min_samples_leaf': [3,5,9,13]\n",
    "}\n",
    "rf_grid_search = GridSearchCV(rf_clf, rf_param_grid, cv=tscv)\n",
    "rf_grid_search.fit(X_train, y_train)\n",
    "\n",
    "print(f\"Training Accuracy: {rf_grid_search.best_score_ :.2%}\")\n",
    "print(\"\")\n",
    "print(f\"Optimal Parameters: {rf_grid_search.best_params_}\")\n",
    "best_rf = rf_grid_search.best_params_\n",
    "y_hat_test_RF = rf_grid_search.predict(X_test)\n",
    "RF_dict = {'model':'RF','precision':precision_score(y_hat_test_RF,y_test),'recall':recall_score(y_hat_test_RF,y_test),\n",
    "           'accuracy':accuracy_score(y_hat_test_RF,y_test),'f1':f1_score(y_hat_test_RF,y_test),\n",
    "           'return':np.nansum((np.array(X_test['1day_pct'].shift(-1))*((np.array(y_hat_test_RF)-1/2)*2)))}\n",
    "\n",
    "print(RF_dict)\n",
    "\n",
    "#print(np.nansum((np.array(X_test['1day_pct'].shift(-1))*((np.array(y_hat_test_RF)-1/2)*2))))\n",
    "\n",
    "#print(np.nansum((np.array(X_test['1day_pct'].shift(-1))*(np.array(y_hat_test_naive)))))"
   ]
  },
  {
   "cell_type": "code",
   "execution_count": 27,
   "metadata": {},
   "outputs": [
    {
     "data": {
      "text/plain": [
       "5"
      ]
     },
     "execution_count": 27,
     "metadata": {},
     "output_type": "execute_result"
    }
   ],
   "source": [
    "best_rf['n_estimators']"
   ]
  },
  {
   "cell_type": "code",
   "execution_count": 35,
   "metadata": {},
   "outputs": [
    {
     "data": {
      "text/plain": [
       "RandomForestClassifier(max_depth=3, n_estimators=5)"
      ]
     },
     "execution_count": 35,
     "metadata": {},
     "output_type": "execute_result"
    }
   ],
   "source": [
    "RandomForestClassifier(n_estimators=best_rf['n_estimators'],\n",
    "                       criterion = rf_grid_search.best_params_['criterion'],\n",
    "                      max_depth= rf_grid_search.best_params_['max_depth']).fit(X_train,y_train)"
   ]
  },
  {
   "cell_type": "markdown",
   "metadata": {},
   "source": [
    "### Logistic Regression"
   ]
  },
  {
   "cell_type": "code",
   "execution_count": 15,
   "metadata": {},
   "outputs": [
    {
     "name": "stdout",
     "output_type": "stream",
     "text": [
      "Training Accuracy: 51.62%\n",
      "\n",
      "Optimal Parameters: {'C': 10.0, 'fit_intercept': True, 'penalty': 'l2', 'solver': 'liblinear'}\n"
     ]
    }
   ],
   "source": [
    "logreg_clf = LogisticRegression()\n",
    "logreg_param_grid = {\n",
    "    'fit_intercept': [True,False],\n",
    "    'solver':['liblinear'],\n",
    "    'C': np.logspace(0,4,5),\n",
    "    'penalty': ['l2'],\n",
    "}\n",
    "logreg_grid_search = GridSearchCV(logreg_clf, logreg_param_grid, cv=tscv)\n",
    "logreg_grid_search.fit(X_train, y_train)\n",
    "\n",
    "print(f\"Training Accuracy: {logreg_grid_search.best_score_ :.2%}\")\n",
    "print(\"\")\n",
    "print(f\"Optimal Parameters: {logreg_grid_search.best_params_}\")"
   ]
  },
  {
   "cell_type": "code",
   "execution_count": 16,
   "metadata": {},
   "outputs": [],
   "source": [
    "y_hat_test_log = logreg_grid_search.predict(X_test)\n",
    "logreg_poly_dict = {'model':'SVM_poly','precision':precision_score(y_hat_test_log,y_test),\n",
    "                    'recall':recall_score(y_hat_test_log,y_test),\n",
    "                   'accuracy':accuracy_score(y_hat_test_log,y_test),\n",
    "                    'f1':f1_score(y_hat_test_log,y_test),\n",
    "                   'return':np.nansum((np.array(X_test['1day_pct'].shift(-1))*((np.array(y_hat_test_RF)-1/2)*2)))}"
   ]
  },
  {
   "cell_type": "code",
   "execution_count": 17,
   "metadata": {},
   "outputs": [
    {
     "data": {
      "text/plain": [
       "{'model': 'SVM_poly',\n",
       " 'precision': 0.41216216216216217,\n",
       " 'recall': 0.6161616161616161,\n",
       " 'accuracy': 0.5,\n",
       " 'f1': 0.49392712550607293}"
      ]
     },
     "execution_count": 17,
     "metadata": {},
     "output_type": "execute_result"
    }
   ],
   "source": [
    "logreg_poly_dict"
   ]
  },
  {
   "cell_type": "markdown",
   "metadata": {},
   "source": [
    "## SVM"
   ]
  },
  {
   "cell_type": "code",
   "execution_count": 18,
   "metadata": {},
   "outputs": [
    {
     "data": {
      "text/plain": [
       "SVC(kernel='linear')"
      ]
     },
     "execution_count": 18,
     "metadata": {},
     "output_type": "execute_result"
    }
   ],
   "source": [
    "clf = svm.SVC(kernel='linear')\n",
    "clf.fit(X_train,y_train)"
   ]
  },
  {
   "cell_type": "code",
   "execution_count": 19,
   "metadata": {},
   "outputs": [
    {
     "name": "stdout",
     "output_type": "stream",
     "text": [
      "Training Accuracy: 55.00%\n",
      "\n",
      "Optimal Parameters: {'C': 100.0, 'gamma': 0.0001}\n"
     ]
    }
   ],
   "source": [
    "svm_clf = svm.SVC()\n",
    "C_range = np.array([50., 100., 200., 500.])\n",
    "gamma_range = np.array([0.0001,3*0.0001,0.001,3*0.001])\n",
    "svm_param_grid = dict(gamma=gamma_range, C=C_range)\n",
    "\n",
    "svm_grid_search = GridSearchCV(svm_clf, svm_param_grid, cv=tscv)\n",
    "svm_grid_search.fit(X_train, y_train)\n",
    "\n",
    "print(f\"Training Accuracy: {svm_grid_search.best_score_ :.2%}\")\n",
    "print(\"\")\n",
    "print(f\"Optimal Parameters: {svm_grid_search.best_params_}\")"
   ]
  },
  {
   "cell_type": "code",
   "execution_count": 20,
   "metadata": {},
   "outputs": [],
   "source": [
    "y_hat_test_svm = svm_grid_search.predict(X_test)\n",
    "SVM_dict = {'model':'SVM','precision':precision_score(y_hat_test_svm,y_test),'recall':recall_score(y_hat_test_svm,y_test),\n",
    "           'accuracy':accuracy_score(y_hat_test_svm,y_test),'f1':f1_score(y_hat_test_svm,y_test)}"
   ]
  },
  {
   "cell_type": "code",
   "execution_count": 21,
   "metadata": {},
   "outputs": [
    {
     "data": {
      "text/plain": [
       "{'model': 'SVM',\n",
       " 'precision': 0.8175675675675675,\n",
       " 'recall': 0.5931372549019608,\n",
       " 'accuracy': 0.56,\n",
       " 'f1': 0.6874999999999999}"
      ]
     },
     "execution_count": 21,
     "metadata": {},
     "output_type": "execute_result"
    }
   ],
   "source": [
    "SVM_dict"
   ]
  },
  {
   "cell_type": "code",
   "execution_count": 22,
   "metadata": {},
   "outputs": [
    {
     "name": "stdout",
     "output_type": "stream",
     "text": [
      "Training Accuracy: 55.12%\n",
      "\n",
      "Optimal Parameters: {'coef0': 4.0, 'degree': 4, 'gamma': 0.0001}\n"
     ]
    }
   ],
   "source": [
    "svm_clf_poly = svm.SVC(kernel='poly')\n",
    "r_range =  np.array([0.25,0.5, 1,2,4])\n",
    "gamma_range =  np.array([0.0001,0.001, 0.01,0.1])\n",
    "d_range = np.array([2,3, 4])\n",
    "param_grid = dict(gamma=gamma_range, degree=d_range, coef0=r_range)\n",
    "svm_grid_search_poly = GridSearchCV(svm_clf_poly, param_grid, cv=tscv)\n",
    "svm_grid_search_poly.fit(X_train, y_train)\n",
    "\n",
    "print(f\"Training Accuracy: {svm_grid_search_poly.best_score_ :.2%}\")\n",
    "print(\"\")\n",
    "print(f\"Optimal Parameters: {svm_grid_search_poly.best_params_}\")"
   ]
  },
  {
   "cell_type": "code",
   "execution_count": 23,
   "metadata": {},
   "outputs": [],
   "source": [
    "y_hat_test_svm_poly = svm_grid_search_poly.predict(X_test)\n",
    "SVM_poly_dict = {'model':'SVM_poly','precision':precision_score(y_hat_test_svm_poly,y_test),'recall':recall_score(y_hat_test_svm_poly,y_test),\n",
    "           'accuracy':accuracy_score(y_hat_test_svm_poly,y_test),'f1':f1_score(y_hat_test_svm_poly,y_test)}"
   ]
  },
  {
   "cell_type": "code",
   "execution_count": 24,
   "metadata": {},
   "outputs": [
    {
     "data": {
      "text/plain": [
       "{'model': 'SVM_poly',\n",
       " 'precision': 0.7905405405405406,\n",
       " 'recall': 0.5879396984924623,\n",
       " 'accuracy': 0.548,\n",
       " 'f1': 0.6743515850144092}"
      ]
     },
     "execution_count": 24,
     "metadata": {},
     "output_type": "execute_result"
    }
   ],
   "source": [
    "SVM_poly_dict"
   ]
  },
  {
   "cell_type": "code",
   "execution_count": 25,
   "metadata": {},
   "outputs": [
    {
     "data": {
      "text/plain": [
       "11.120800232893803"
      ]
     },
     "execution_count": 25,
     "metadata": {},
     "output_type": "execute_result"
    }
   ],
   "source": [
    "np.nansum((np.array(X_test['1day_pct'].shift(-1))*((np.array(y_hat_test_svm)-1/2)*2)))"
   ]
  },
  {
   "cell_type": "markdown",
   "metadata": {},
   "source": [
    "## Gradient Boosting Classifier"
   ]
  },
  {
   "cell_type": "code",
   "execution_count": 26,
   "metadata": {},
   "outputs": [],
   "source": [
    "model = XGBClassifier()"
   ]
  },
  {
   "cell_type": "code",
   "execution_count": 27,
   "metadata": {},
   "outputs": [
    {
     "data": {
      "text/plain": [
       "XGBClassifier(base_score=0.5, booster='gbtree', colsample_bylevel=1,\n",
       "              colsample_bynode=1, colsample_bytree=1, gamma=0, gpu_id=-1,\n",
       "              importance_type='gain', interaction_constraints='',\n",
       "              learning_rate=0.300000012, max_delta_step=0, max_depth=6,\n",
       "              min_child_weight=1, missing=nan, monotone_constraints='()',\n",
       "              n_estimators=100, n_jobs=0, num_parallel_tree=1, random_state=0,\n",
       "              reg_alpha=0, reg_lambda=1, scale_pos_weight=1, subsample=1,\n",
       "              tree_method='exact', validate_parameters=1, verbosity=None)"
      ]
     },
     "execution_count": 27,
     "metadata": {},
     "output_type": "execute_result"
    }
   ],
   "source": [
    "model.fit(X_train,y_train)"
   ]
  },
  {
   "cell_type": "code",
   "execution_count": 28,
   "metadata": {},
   "outputs": [
    {
     "data": {
      "text/plain": [
       "0.52"
      ]
     },
     "execution_count": 28,
     "metadata": {},
     "output_type": "execute_result"
    }
   ],
   "source": [
    "model.score(X_test,y_test)"
   ]
  },
  {
   "cell_type": "code",
   "execution_count": 29,
   "metadata": {},
   "outputs": [
    {
     "name": "stdout",
     "output_type": "stream",
     "text": [
      "Fitting 4 folds for each of 400 candidates, totalling 1600 fits\n"
     ]
    },
    {
     "name": "stderr",
     "output_type": "stream",
     "text": [
      "[Parallel(n_jobs=10)]: Using backend LokyBackend with 10 concurrent workers.\n",
      "[Parallel(n_jobs=10)]: Done  30 tasks      | elapsed:    3.1s\n",
      "[Parallel(n_jobs=10)]: Done 180 tasks      | elapsed:    6.0s\n",
      "[Parallel(n_jobs=10)]: Done 430 tasks      | elapsed:   12.3s\n",
      "[Parallel(n_jobs=10)]: Done 840 tasks      | elapsed:   22.3s\n"
     ]
    },
    {
     "name": "stdout",
     "output_type": "stream",
     "text": [
      "Training Accuracy: 53.50%\n",
      "\n",
      "Optimal Parameters: {'learning_rate': 0.03, 'max_depth': 6, 'n_estimators': 50}\n",
      "{'model': 'XGB', 'precision': 0.581081081081081, 'recall': 0.6466165413533834, 'accuracy': 0.564, 'f1': 0.6120996441281138}\n",
      "29.14715184346195\n",
      "19.214327287585224\n"
     ]
    },
    {
     "name": "stderr",
     "output_type": "stream",
     "text": [
      "[Parallel(n_jobs=10)]: Done 1600 out of 1600 | elapsed:   42.6s finished\n"
     ]
    }
   ],
   "source": [
    "estimator = XGBClassifier(\n",
    "    objective= 'binary:logistic',\n",
    "    nthread=2,\n",
    "    seed=42\n",
    ")\n",
    "parameters = {\n",
    "    'max_depth': range (2, 10, 1),\n",
    "    'n_estimators': range(20, 120, 10),\n",
    "    'learning_rate': [0.001,0.003,0.01, 0.03, 0.1]\n",
    "}\n",
    "\n",
    "grid_search = GridSearchCV(\n",
    "    estimator=estimator,\n",
    "    param_grid=parameters,\n",
    "    n_jobs = 10,\n",
    "    cv = tscv,\n",
    "    verbose=True\n",
    ")\n",
    "grid_search.fit(X_train, y_train)\n",
    "print(f\"Training Accuracy: {grid_search.best_score_ :.2%}\")\n",
    "print(\"\")\n",
    "print(f\"Optimal Parameters: {grid_search.best_params_}\")\n",
    "\n",
    "y_hat_test_XGB = grid_search.predict(X_test)\n",
    "XGB_dict = {'model':'XGB','precision':precision_score(y_hat_test_XGB,y_test),'recall':recall_score(y_hat_test_XGB,y_test),\n",
    "           'accuracy':accuracy_score(y_hat_test_XGB,y_test),'f1':f1_score(y_hat_test_XGB,y_test)}\n",
    "\n",
    "print(XGB_dict)\n",
    "\n",
    "print(np.nansum((np.array(X_test['1day_pct'].shift(-1))*((np.array(y_hat_test_XGB)-1/2)*2))))\n",
    "\n",
    "print(np.nansum((np.array(X_test['1day_pct'].shift(-1))*np.ones(len(y_test)))))"
   ]
  },
  {
   "cell_type": "markdown",
   "metadata": {},
   "source": [
    "## Voting"
   ]
  },
  {
   "cell_type": "code",
   "execution_count": 32,
   "metadata": {},
   "outputs": [],
   "source": [
    "voted_y = []\n",
    "for i in range(len(y_test)):\n",
    "    l = np.array([y_hat_test_RF[i],y_hat_test_log[i],y_hat_test_svm[i],y_hat_test_XGB[i]])\n",
    "    counts = np.bincount(l)\n",
    "    voted_y.append(np.argmax(counts))\n",
    "voted_y = np.array(voted_y)\n",
    "voted_dict = {'model':'Stacked','precision':precision_score(voted_y,y_test),'recall':recall_score(voted_y,y_test),\n",
    "           'accuracy':accuracy_score(voted_y,y_test),'f1':f1_score(voted_y,y_test)}"
   ]
  },
  {
   "cell_type": "code",
   "execution_count": 33,
   "metadata": {},
   "outputs": [
    {
     "data": {
      "text/plain": [
       "{'model': 'Stacked',\n",
       " 'precision': 0.5337837837837838,\n",
       " 'recall': 0.5766423357664233,\n",
       " 'accuracy': 0.492,\n",
       " 'f1': 0.5543859649122806}"
      ]
     },
     "execution_count": 33,
     "metadata": {},
     "output_type": "execute_result"
    }
   ],
   "source": [
    "voted_dict"
   ]
  },
  {
   "cell_type": "markdown",
   "metadata": {},
   "source": [
    "## Stacked Ananlysis"
   ]
  },
  {
   "cell_type": "code",
   "execution_count": null,
   "metadata": {},
   "outputs": [],
   "source": []
  },
  {
   "cell_type": "markdown",
   "metadata": {},
   "source": [
    "# Gold Predictions XGB"
   ]
  },
  {
   "cell_type": "code",
   "execution_count": 64,
   "metadata": {},
   "outputs": [
    {
     "ename": "KeyError",
     "evalue": "2",
     "output_type": "error",
     "traceback": [
      "\u001b[0;31m---------------------------------------------------------------------------\u001b[0m",
      "\u001b[0;31mKeyError\u001b[0m                                  Traceback (most recent call last)",
      "\u001b[0;32m~/opt/anaconda3/lib/python3.8/site-packages/pandas/core/indexes/base.py\u001b[0m in \u001b[0;36mget_loc\u001b[0;34m(self, key, method, tolerance)\u001b[0m\n\u001b[1;32m   2894\u001b[0m             \u001b[0;32mtry\u001b[0m\u001b[0;34m:\u001b[0m\u001b[0;34m\u001b[0m\u001b[0;34m\u001b[0m\u001b[0m\n\u001b[0;32m-> 2895\u001b[0;31m                 \u001b[0;32mreturn\u001b[0m \u001b[0mself\u001b[0m\u001b[0;34m.\u001b[0m\u001b[0m_engine\u001b[0m\u001b[0;34m.\u001b[0m\u001b[0mget_loc\u001b[0m\u001b[0;34m(\u001b[0m\u001b[0mcasted_key\u001b[0m\u001b[0;34m)\u001b[0m\u001b[0;34m\u001b[0m\u001b[0;34m\u001b[0m\u001b[0m\n\u001b[0m\u001b[1;32m   2896\u001b[0m             \u001b[0;32mexcept\u001b[0m \u001b[0mKeyError\u001b[0m \u001b[0;32mas\u001b[0m \u001b[0merr\u001b[0m\u001b[0;34m:\u001b[0m\u001b[0;34m\u001b[0m\u001b[0;34m\u001b[0m\u001b[0m\n",
      "\u001b[0;32mpandas/_libs/index.pyx\u001b[0m in \u001b[0;36mpandas._libs.index.IndexEngine.get_loc\u001b[0;34m()\u001b[0m\n",
      "\u001b[0;32mpandas/_libs/index.pyx\u001b[0m in \u001b[0;36mpandas._libs.index.IndexEngine.get_loc\u001b[0;34m()\u001b[0m\n",
      "\u001b[0;32mpandas/_libs/hashtable_class_helper.pxi\u001b[0m in \u001b[0;36mpandas._libs.hashtable.Int64HashTable.get_item\u001b[0;34m()\u001b[0m\n",
      "\u001b[0;32mpandas/_libs/hashtable_class_helper.pxi\u001b[0m in \u001b[0;36mpandas._libs.hashtable.Int64HashTable.get_item\u001b[0;34m()\u001b[0m\n",
      "\u001b[0;31mKeyError\u001b[0m: 2",
      "\nThe above exception was the direct cause of the following exception:\n",
      "\u001b[0;31mKeyError\u001b[0m                                  Traceback (most recent call last)",
      "\u001b[0;32m<ipython-input-64-25ec5b5feb92>\u001b[0m in \u001b[0;36m<module>\u001b[0;34m\u001b[0m\n\u001b[1;32m      1\u001b[0m \u001b[0mGLD\u001b[0m \u001b[0;34m=\u001b[0m \u001b[0mpd\u001b[0m\u001b[0;34m.\u001b[0m\u001b[0mread_csv\u001b[0m\u001b[0;34m(\u001b[0m\u001b[0mos\u001b[0m\u001b[0;34m.\u001b[0m\u001b[0mpath\u001b[0m\u001b[0;34m.\u001b[0m\u001b[0mjoin\u001b[0m\u001b[0;34m(\u001b[0m\u001b[0mos\u001b[0m\u001b[0;34m.\u001b[0m\u001b[0mpath\u001b[0m\u001b[0;34m.\u001b[0m\u001b[0mabspath\u001b[0m\u001b[0;34m(\u001b[0m\u001b[0mos\u001b[0m\u001b[0;34m.\u001b[0m\u001b[0mgetcwd\u001b[0m\u001b[0;34m(\u001b[0m\u001b[0;34m)\u001b[0m\u001b[0;34m)\u001b[0m\u001b[0;34m,\u001b[0m\u001b[0;34m'data'\u001b[0m\u001b[0;34m,\u001b[0m\u001b[0;34m'other'\u001b[0m\u001b[0;34m,\u001b[0m\u001b[0;34m'gold.csv'\u001b[0m\u001b[0;34m)\u001b[0m\u001b[0;34m)\u001b[0m\u001b[0;34m\u001b[0m\u001b[0;34m\u001b[0m\u001b[0m\n\u001b[1;32m      2\u001b[0m \u001b[0;34m\u001b[0m\u001b[0m\n\u001b[0;32m----> 3\u001b[0;31m \u001b[0mGLD_feat\u001b[0m \u001b[0;34m=\u001b[0m \u001b[0mcreate_features\u001b[0m\u001b[0;34m(\u001b[0m\u001b[0mGLD\u001b[0m\u001b[0;34m)\u001b[0m\u001b[0;34m\u001b[0m\u001b[0;34m\u001b[0m\u001b[0m\n\u001b[0m\u001b[1;32m      4\u001b[0m \u001b[0;34m\u001b[0m\u001b[0m\n\u001b[1;32m      5\u001b[0m \u001b[0mGLD_feat\u001b[0m\u001b[0;34m.\u001b[0m\u001b[0mhead\u001b[0m\u001b[0;34m(\u001b[0m\u001b[0;34m)\u001b[0m\u001b[0;34m\u001b[0m\u001b[0;34m\u001b[0m\u001b[0m\n",
      "\u001b[0;32m<ipython-input-60-4861945c750d>\u001b[0m in \u001b[0;36mcreate_features\u001b[0;34m(df, rsi_window, macd_feat)\u001b[0m\n\u001b[1;32m     61\u001b[0m         \u001b[0;32mif\u001b[0m \u001b[0mdf\u001b[0m\u001b[0;34m[\u001b[0m\u001b[0;34m'target'\u001b[0m\u001b[0;34m]\u001b[0m\u001b[0;34m[\u001b[0m\u001b[0mi\u001b[0m\u001b[0;34m]\u001b[0m \u001b[0;34m==\u001b[0m\u001b[0;36m1\u001b[0m\u001b[0;34m:\u001b[0m\u001b[0;34m\u001b[0m\u001b[0;34m\u001b[0m\u001b[0m\n\u001b[1;32m     62\u001b[0m             \u001b[0mf\u001b[0m \u001b[0;34m+=\u001b[0m \u001b[0;36m1\u001b[0m\u001b[0;34m\u001b[0m\u001b[0;34m\u001b[0m\u001b[0m\n\u001b[0;32m---> 63\u001b[0;31m             \u001b[0;32mif\u001b[0m \u001b[0mdf\u001b[0m\u001b[0;34m[\u001b[0m\u001b[0;34m'target'\u001b[0m\u001b[0;34m]\u001b[0m\u001b[0;34m[\u001b[0m\u001b[0mi\u001b[0m\u001b[0;34m+\u001b[0m\u001b[0;36m1\u001b[0m\u001b[0;34m]\u001b[0m \u001b[0;34m==\u001b[0m\u001b[0;36m0\u001b[0m\u001b[0;34m:\u001b[0m\u001b[0;34m\u001b[0m\u001b[0;34m\u001b[0m\u001b[0m\n\u001b[0m\u001b[1;32m     64\u001b[0m                 \u001b[0mdf\u001b[0m\u001b[0;34m[\u001b[0m\u001b[0;34m'prev_hot_streak'\u001b[0m\u001b[0;34m]\u001b[0m\u001b[0;34m[\u001b[0m\u001b[0mi\u001b[0m\u001b[0;34m+\u001b[0m\u001b[0;36m1\u001b[0m\u001b[0;34m]\u001b[0m \u001b[0;34m=\u001b[0m \u001b[0mf\u001b[0m\u001b[0;34m\u001b[0m\u001b[0;34m\u001b[0m\u001b[0m\n\u001b[1;32m     65\u001b[0m                 \u001b[0mf\u001b[0m \u001b[0;34m=\u001b[0m \u001b[0;36m0\u001b[0m\u001b[0;34m\u001b[0m\u001b[0;34m\u001b[0m\u001b[0m\n",
      "\u001b[0;32m~/opt/anaconda3/lib/python3.8/site-packages/pandas/core/series.py\u001b[0m in \u001b[0;36m__getitem__\u001b[0;34m(self, key)\u001b[0m\n\u001b[1;32m    880\u001b[0m \u001b[0;34m\u001b[0m\u001b[0m\n\u001b[1;32m    881\u001b[0m         \u001b[0;32melif\u001b[0m \u001b[0mkey_is_scalar\u001b[0m\u001b[0;34m:\u001b[0m\u001b[0;34m\u001b[0m\u001b[0;34m\u001b[0m\u001b[0m\n\u001b[0;32m--> 882\u001b[0;31m             \u001b[0;32mreturn\u001b[0m \u001b[0mself\u001b[0m\u001b[0;34m.\u001b[0m\u001b[0m_get_value\u001b[0m\u001b[0;34m(\u001b[0m\u001b[0mkey\u001b[0m\u001b[0;34m)\u001b[0m\u001b[0;34m\u001b[0m\u001b[0;34m\u001b[0m\u001b[0m\n\u001b[0m\u001b[1;32m    883\u001b[0m \u001b[0;34m\u001b[0m\u001b[0m\n\u001b[1;32m    884\u001b[0m         \u001b[0;32mif\u001b[0m \u001b[0mis_hashable\u001b[0m\u001b[0;34m(\u001b[0m\u001b[0mkey\u001b[0m\u001b[0;34m)\u001b[0m\u001b[0;34m:\u001b[0m\u001b[0;34m\u001b[0m\u001b[0;34m\u001b[0m\u001b[0m\n",
      "\u001b[0;32m~/opt/anaconda3/lib/python3.8/site-packages/pandas/core/series.py\u001b[0m in \u001b[0;36m_get_value\u001b[0;34m(self, label, takeable)\u001b[0m\n\u001b[1;32m    987\u001b[0m \u001b[0;34m\u001b[0m\u001b[0m\n\u001b[1;32m    988\u001b[0m         \u001b[0;31m# Similar to Index.get_value, but we do not fall back to positional\u001b[0m\u001b[0;34m\u001b[0m\u001b[0;34m\u001b[0m\u001b[0;34m\u001b[0m\u001b[0m\n\u001b[0;32m--> 989\u001b[0;31m         \u001b[0mloc\u001b[0m \u001b[0;34m=\u001b[0m \u001b[0mself\u001b[0m\u001b[0;34m.\u001b[0m\u001b[0mindex\u001b[0m\u001b[0;34m.\u001b[0m\u001b[0mget_loc\u001b[0m\u001b[0;34m(\u001b[0m\u001b[0mlabel\u001b[0m\u001b[0;34m)\u001b[0m\u001b[0;34m\u001b[0m\u001b[0;34m\u001b[0m\u001b[0m\n\u001b[0m\u001b[1;32m    990\u001b[0m         \u001b[0;32mreturn\u001b[0m \u001b[0mself\u001b[0m\u001b[0;34m.\u001b[0m\u001b[0mindex\u001b[0m\u001b[0;34m.\u001b[0m\u001b[0m_get_values_for_loc\u001b[0m\u001b[0;34m(\u001b[0m\u001b[0mself\u001b[0m\u001b[0;34m,\u001b[0m \u001b[0mloc\u001b[0m\u001b[0;34m,\u001b[0m \u001b[0mlabel\u001b[0m\u001b[0;34m)\u001b[0m\u001b[0;34m\u001b[0m\u001b[0;34m\u001b[0m\u001b[0m\n\u001b[1;32m    991\u001b[0m \u001b[0;34m\u001b[0m\u001b[0m\n",
      "\u001b[0;32m~/opt/anaconda3/lib/python3.8/site-packages/pandas/core/indexes/base.py\u001b[0m in \u001b[0;36mget_loc\u001b[0;34m(self, key, method, tolerance)\u001b[0m\n\u001b[1;32m   2895\u001b[0m                 \u001b[0;32mreturn\u001b[0m \u001b[0mself\u001b[0m\u001b[0;34m.\u001b[0m\u001b[0m_engine\u001b[0m\u001b[0;34m.\u001b[0m\u001b[0mget_loc\u001b[0m\u001b[0;34m(\u001b[0m\u001b[0mcasted_key\u001b[0m\u001b[0;34m)\u001b[0m\u001b[0;34m\u001b[0m\u001b[0;34m\u001b[0m\u001b[0m\n\u001b[1;32m   2896\u001b[0m             \u001b[0;32mexcept\u001b[0m \u001b[0mKeyError\u001b[0m \u001b[0;32mas\u001b[0m \u001b[0merr\u001b[0m\u001b[0;34m:\u001b[0m\u001b[0;34m\u001b[0m\u001b[0;34m\u001b[0m\u001b[0m\n\u001b[0;32m-> 2897\u001b[0;31m                 \u001b[0;32mraise\u001b[0m \u001b[0mKeyError\u001b[0m\u001b[0;34m(\u001b[0m\u001b[0mkey\u001b[0m\u001b[0;34m)\u001b[0m \u001b[0;32mfrom\u001b[0m \u001b[0merr\u001b[0m\u001b[0;34m\u001b[0m\u001b[0;34m\u001b[0m\u001b[0m\n\u001b[0m\u001b[1;32m   2898\u001b[0m \u001b[0;34m\u001b[0m\u001b[0m\n\u001b[1;32m   2899\u001b[0m         \u001b[0;32mif\u001b[0m \u001b[0mtolerance\u001b[0m \u001b[0;32mis\u001b[0m \u001b[0;32mnot\u001b[0m \u001b[0;32mNone\u001b[0m\u001b[0;34m:\u001b[0m\u001b[0;34m\u001b[0m\u001b[0;34m\u001b[0m\u001b[0m\n",
      "\u001b[0;31mKeyError\u001b[0m: 2"
     ]
    }
   ],
   "source": [
    "GLD = pd.read_csv(os.path.join(os.path.abspath(os.getcwd()),'data','other','gold.csv'))\n",
    "\n",
    "GLD_feat = create_features(GLD)\n",
    "\n",
    "GLD_feat.head()"
   ]
  },
  {
   "cell_type": "code",
   "execution_count": 29,
   "metadata": {},
   "outputs": [
    {
     "name": "stdout",
     "output_type": "stream",
     "text": [
      "<generator object TimeSeriesSplit.split at 0x00000207A29FB390>\n",
      "[  0   1   2   3   4   5   6   7   8   9  10  11  12  13  14  15  16  17\n",
      "  18  19  20  21  22  23  24  25  26  27  28  29  30  31  32  33  34  35\n",
      "  36  37  38  39  40  41  42  43  44  45  46  47  48  49  50  51  52  53\n",
      "  54  55  56  57  58  59  60  61  62  63  64  65  66  67  68  69  70  71\n",
      "  72  73  74  75  76  77  78  79  80  81  82  83  84  85  86  87  88  89\n",
      "  90  91  92  93  94  95  96  97  98  99 100 101 102 103 104 105 106 107\n",
      " 108 109 110 111 112 113 114 115 116 117 118 119 120 121 122 123 124 125\n",
      " 126 127 128 129 130 131 132 133 134 135 136 137 138 139 140 141 142 143\n",
      " 144 145 146 147 148 149 150 151 152 153 154 155 156 157 158 159 160 161\n",
      " 162 163 164 165 166 167 168 169 170 171 172] [173 174 175 176 177 178 179 180 181 182 183 184 185 186 187 188 189 190\n",
      " 191 192 193 194 195 196 197 198 199 200 201 202 203 204 205 206 207 208\n",
      " 209 210 211 212 213 214 215 216 217 218 219 220 221 222 223 224 225 226\n",
      " 227 228 229 230 231 232 233 234 235 236 237 238 239 240 241 242 243 244\n",
      " 245 246 247 248 249 250 251 252 253 254 255 256 257 258 259 260 261 262\n",
      " 263 264 265 266 267 268 269 270 271 272 273 274 275 276 277 278 279 280\n",
      " 281 282 283 284 285 286 287 288 289 290 291 292 293 294 295 296 297 298\n",
      " 299 300 301 302 303 304 305 306 307 308 309 310 311 312 313 314 315 316\n",
      " 317 318 319 320 321 322 323 324 325 326 327 328 329 330 331 332 333 334\n",
      " 335 336 337 338 339 340 341 342 343 344 345]\n",
      "[  0   1   2   3   4   5   6   7   8   9  10  11  12  13  14  15  16  17\n",
      "  18  19  20  21  22  23  24  25  26  27  28  29  30  31  32  33  34  35\n",
      "  36  37  38  39  40  41  42  43  44  45  46  47  48  49  50  51  52  53\n",
      "  54  55  56  57  58  59  60  61  62  63  64  65  66  67  68  69  70  71\n",
      "  72  73  74  75  76  77  78  79  80  81  82  83  84  85  86  87  88  89\n",
      "  90  91  92  93  94  95  96  97  98  99 100 101 102 103 104 105 106 107\n",
      " 108 109 110 111 112 113 114 115 116 117 118 119 120 121 122 123 124 125\n",
      " 126 127 128 129 130 131 132 133 134 135 136 137 138 139 140 141 142 143\n",
      " 144 145 146 147 148 149 150 151 152 153 154 155 156 157 158 159 160 161\n",
      " 162 163 164 165 166 167 168 169 170 171 172 173 174 175 176 177 178 179\n",
      " 180 181 182 183 184 185 186 187 188 189 190 191 192 193 194 195 196 197\n",
      " 198 199 200 201 202 203 204 205 206 207 208 209 210 211 212 213 214 215\n",
      " 216 217 218 219 220 221 222 223 224 225 226 227 228 229 230 231 232 233\n",
      " 234 235 236 237 238 239 240 241 242 243 244 245 246 247 248 249 250 251\n",
      " 252 253 254 255 256 257 258 259 260 261 262 263 264 265 266 267 268 269\n",
      " 270 271 272 273 274 275 276 277 278 279 280 281 282 283 284 285 286 287\n",
      " 288 289 290 291 292 293 294 295 296 297 298 299 300 301 302 303 304 305\n",
      " 306 307 308 309 310 311 312 313 314 315 316 317 318 319 320 321 322 323\n",
      " 324 325 326 327 328 329 330 331 332 333 334 335 336 337 338 339 340 341\n",
      " 342 343 344 345] [346 347 348 349 350 351 352 353 354 355 356 357 358 359 360 361 362 363\n",
      " 364 365 366 367 368 369 370 371 372 373 374 375 376 377 378 379 380 381\n",
      " 382 383 384 385 386 387 388 389 390 391 392 393 394 395 396 397 398 399\n",
      " 400 401 402 403 404 405 406 407 408 409 410 411 412 413 414 415 416 417\n",
      " 418 419 420 421 422 423 424 425 426 427 428 429 430 431 432 433 434 435\n",
      " 436 437 438 439 440 441 442 443 444 445 446 447 448 449 450 451 452 453\n",
      " 454 455 456 457 458 459 460 461 462 463 464 465 466 467 468 469 470 471\n",
      " 472 473 474 475 476 477 478 479 480 481 482 483 484 485 486 487 488 489\n",
      " 490 491 492 493 494 495 496 497 498 499 500 501 502 503 504 505 506 507\n",
      " 508 509 510 511 512 513 514 515 516 517 518]\n",
      "[  0   1   2   3   4   5   6   7   8   9  10  11  12  13  14  15  16  17\n",
      "  18  19  20  21  22  23  24  25  26  27  28  29  30  31  32  33  34  35\n",
      "  36  37  38  39  40  41  42  43  44  45  46  47  48  49  50  51  52  53\n",
      "  54  55  56  57  58  59  60  61  62  63  64  65  66  67  68  69  70  71\n",
      "  72  73  74  75  76  77  78  79  80  81  82  83  84  85  86  87  88  89\n",
      "  90  91  92  93  94  95  96  97  98  99 100 101 102 103 104 105 106 107\n",
      " 108 109 110 111 112 113 114 115 116 117 118 119 120 121 122 123 124 125\n",
      " 126 127 128 129 130 131 132 133 134 135 136 137 138 139 140 141 142 143\n",
      " 144 145 146 147 148 149 150 151 152 153 154 155 156 157 158 159 160 161\n",
      " 162 163 164 165 166 167 168 169 170 171 172 173 174 175 176 177 178 179\n",
      " 180 181 182 183 184 185 186 187 188 189 190 191 192 193 194 195 196 197\n",
      " 198 199 200 201 202 203 204 205 206 207 208 209 210 211 212 213 214 215\n",
      " 216 217 218 219 220 221 222 223 224 225 226 227 228 229 230 231 232 233\n",
      " 234 235 236 237 238 239 240 241 242 243 244 245 246 247 248 249 250 251\n",
      " 252 253 254 255 256 257 258 259 260 261 262 263 264 265 266 267 268 269\n",
      " 270 271 272 273 274 275 276 277 278 279 280 281 282 283 284 285 286 287\n",
      " 288 289 290 291 292 293 294 295 296 297 298 299 300 301 302 303 304 305\n",
      " 306 307 308 309 310 311 312 313 314 315 316 317 318 319 320 321 322 323\n",
      " 324 325 326 327 328 329 330 331 332 333 334 335 336 337 338 339 340 341\n",
      " 342 343 344 345 346 347 348 349 350 351 352 353 354 355 356 357 358 359\n",
      " 360 361 362 363 364 365 366 367 368 369 370 371 372 373 374 375 376 377\n",
      " 378 379 380 381 382 383 384 385 386 387 388 389 390 391 392 393 394 395\n",
      " 396 397 398 399 400 401 402 403 404 405 406 407 408 409 410 411 412 413\n",
      " 414 415 416 417 418 419 420 421 422 423 424 425 426 427 428 429 430 431\n",
      " 432 433 434 435 436 437 438 439 440 441 442 443 444 445 446 447 448 449\n",
      " 450 451 452 453 454 455 456 457 458 459 460 461 462 463 464 465 466 467\n",
      " 468 469 470 471 472 473 474 475 476 477 478 479 480 481 482 483 484 485\n",
      " 486 487 488 489 490 491 492 493 494 495 496 497 498 499 500 501 502 503\n",
      " 504 505 506 507 508 509 510 511 512 513 514 515 516 517 518] [519 520 521 522 523 524 525 526 527 528 529 530 531 532 533 534 535 536\n",
      " 537 538 539 540 541 542 543 544 545 546 547 548 549 550 551 552 553 554\n",
      " 555 556 557 558 559 560 561 562 563 564 565 566 567 568 569 570 571 572\n",
      " 573 574 575 576 577 578 579 580 581 582 583 584 585 586 587 588 589 590\n",
      " 591 592 593 594 595 596 597 598 599 600 601 602 603 604 605 606 607 608\n",
      " 609 610 611 612 613 614 615 616 617 618 619 620 621 622 623 624 625 626\n",
      " 627 628 629 630 631 632 633 634 635 636 637 638 639 640 641 642 643 644\n",
      " 645 646 647 648 649 650 651 652 653 654 655 656 657 658 659 660 661 662\n",
      " 663 664 665 666 667 668 669 670 671 672 673 674 675 676 677 678 679 680\n",
      " 681 682 683 684 685 686 687 688 689 690 691]\n",
      "[  0   1   2   3   4   5   6   7   8   9  10  11  12  13  14  15  16  17\n",
      "  18  19  20  21  22  23  24  25  26  27  28  29  30  31  32  33  34  35\n",
      "  36  37  38  39  40  41  42  43  44  45  46  47  48  49  50  51  52  53\n",
      "  54  55  56  57  58  59  60  61  62  63  64  65  66  67  68  69  70  71\n",
      "  72  73  74  75  76  77  78  79  80  81  82  83  84  85  86  87  88  89\n",
      "  90  91  92  93  94  95  96  97  98  99 100 101 102 103 104 105 106 107\n",
      " 108 109 110 111 112 113 114 115 116 117 118 119 120 121 122 123 124 125\n",
      " 126 127 128 129 130 131 132 133 134 135 136 137 138 139 140 141 142 143\n",
      " 144 145 146 147 148 149 150 151 152 153 154 155 156 157 158 159 160 161\n",
      " 162 163 164 165 166 167 168 169 170 171 172 173 174 175 176 177 178 179\n",
      " 180 181 182 183 184 185 186 187 188 189 190 191 192 193 194 195 196 197\n",
      " 198 199 200 201 202 203 204 205 206 207 208 209 210 211 212 213 214 215\n",
      " 216 217 218 219 220 221 222 223 224 225 226 227 228 229 230 231 232 233\n",
      " 234 235 236 237 238 239 240 241 242 243 244 245 246 247 248 249 250 251\n",
      " 252 253 254 255 256 257 258 259 260 261 262 263 264 265 266 267 268 269\n",
      " 270 271 272 273 274 275 276 277 278 279 280 281 282 283 284 285 286 287\n",
      " 288 289 290 291 292 293 294 295 296 297 298 299 300 301 302 303 304 305\n",
      " 306 307 308 309 310 311 312 313 314 315 316 317 318 319 320 321 322 323\n",
      " 324 325 326 327 328 329 330 331 332 333 334 335 336 337 338 339 340 341\n",
      " 342 343 344 345 346 347 348 349 350 351 352 353 354 355 356 357 358 359\n",
      " 360 361 362 363 364 365 366 367 368 369 370 371 372 373 374 375 376 377\n",
      " 378 379 380 381 382 383 384 385 386 387 388 389 390 391 392 393 394 395\n",
      " 396 397 398 399 400 401 402 403 404 405 406 407 408 409 410 411 412 413\n",
      " 414 415 416 417 418 419 420 421 422 423 424 425 426 427 428 429 430 431\n",
      " 432 433 434 435 436 437 438 439 440 441 442 443 444 445 446 447 448 449\n",
      " 450 451 452 453 454 455 456 457 458 459 460 461 462 463 464 465 466 467\n",
      " 468 469 470 471 472 473 474 475 476 477 478 479 480 481 482 483 484 485\n",
      " 486 487 488 489 490 491 492 493 494 495 496 497 498 499 500 501 502 503\n",
      " 504 505 506 507 508 509 510 511 512 513 514 515 516 517 518 519 520 521\n",
      " 522 523 524 525 526 527 528 529 530 531 532 533 534 535 536 537 538 539\n",
      " 540 541 542 543 544 545 546 547 548 549 550 551 552 553 554 555 556 557\n",
      " 558 559 560 561 562 563 564 565 566 567 568 569 570 571 572 573 574 575\n",
      " 576 577 578 579 580 581 582 583 584 585 586 587 588 589 590 591 592 593\n",
      " 594 595 596 597 598 599 600 601 602 603 604 605 606 607 608 609 610 611\n",
      " 612 613 614 615 616 617 618 619 620 621 622 623 624 625 626 627 628 629\n",
      " 630 631 632 633 634 635 636 637 638 639 640 641 642 643 644 645 646 647\n",
      " 648 649 650 651 652 653 654 655 656 657 658 659 660 661 662 663 664 665\n",
      " 666 667 668 669 670 671 672 673 674 675 676 677 678 679 680 681 682 683\n",
      " 684 685 686 687 688 689 690 691] [692 693 694 695 696 697 698 699 700 701 702 703 704 705 706 707 708 709\n",
      " 710 711 712 713 714 715 716 717 718 719 720 721 722 723 724 725 726 727\n",
      " 728 729 730 731 732 733 734 735 736 737 738 739 740 741 742 743 744 745\n",
      " 746 747 748 749 750 751 752 753 754 755 756 757 758 759 760 761 762 763\n",
      " 764 765 766 767 768 769 770 771 772 773 774 775 776 777 778 779 780 781\n",
      " 782 783 784 785 786 787 788 789 790 791 792 793 794 795 796 797 798 799\n",
      " 800 801 802 803 804 805 806 807 808 809 810 811 812 813 814 815 816 817\n",
      " 818 819 820 821 822 823 824 825 826 827 828 829 830 831 832 833 834 835\n",
      " 836 837 838 839 840 841 842 843 844 845 846 847 848 849 850 851 852 853\n",
      " 854 855 856 857 858 859 860 861 862 863 864]\n"
     ]
    }
   ],
   "source": [
    "y = GLD_feat['target'].astype(int)\n",
    "X = GLD_feat.drop(['Date','Adj Close','High','Low','Close','target'],axis=1)\n",
    "\n",
    "continuous = ['1day_pct', '2day_pct', '3day_pct', '4day_pct', '5day_pct', '7day_pct',\n",
    "              '1day_pct_cs',\n",
    "              'ewma_7', 'ewma_50', 'ewma_200', 'RSI', 'MACD','Volume','day_var','open_close','open_prev_close','high_close']\n",
    "discrete = ['prev_hot_streak','prev_cold_streak', 'current_hot_streak', 'current_cold_streak',\n",
    "            'RSI_overbought','RSI_oversold',\n",
    "            #'7g(50&200)','7l(50&200)','7g50','7g200',\n",
    "            'prev_current_hot', 'prev_current_cold','current_hot_prev_cold','current_cold_prev_hot',\n",
    "            'Month_1', 'Month_2', 'Month_3', 'Month_4', 'Month_5', 'Month_6',\n",
    "            'Month_7', 'Month_8', 'Month_9', 'Month_10', 'Month_11', 'Month_12',\n",
    "            'dayowk_0', 'dayowk_1', 'dayowk_2', 'dayowk_3', 'dayowk_4',\n",
    "           ]\n",
    "scaler = StandardScaler()\n",
    "X_cont = pd.DataFrame(scaler.fit_transform(X[continuous]),columns=continuous)\n",
    "\n",
    "X_disc = X[discrete]\n",
    "\n",
    "X_cont.reset_index(drop=True,inplace=True)\n",
    "\n",
    "X_disc.reset_index(drop=True,inplace=True)\n",
    "\n",
    "X = pd.concat([X_cont,X_disc],axis=1)\n",
    "\n",
    "train_size = X.shape[0]*4//5\n",
    "X_test = X.iloc[train_size:]\n",
    "X_train = X.iloc[0:train_size]\n",
    "y_test = y.iloc[train_size:]\n",
    "y_train = y.iloc[0:train_size]\n",
    "\n",
    "tscv = TimeSeriesSplit(n_splits=4)\n",
    "print(tscv.split(X_train))\n",
    "for train, val in tscv.split(X_train):\n",
    "    print(\"%s %s\" % (train, val))"
   ]
  },
  {
   "cell_type": "markdown",
   "metadata": {},
   "source": [
    "### Naive Prediction. Trade based on previous day only"
   ]
  },
  {
   "cell_type": "code",
   "execution_count": 30,
   "metadata": {},
   "outputs": [
    {
     "name": "stdout",
     "output_type": "stream",
     "text": [
      "precision score 1.0\n",
      "recall score 0.5529953917050692\n",
      "accuracy score 0.5529953917050692\n",
      "f1 score 0.712166172106825\n"
     ]
    }
   ],
   "source": [
    "y_hat_test_naive = np.ones(len(y_test))\n",
    "print('precision score' ,precision_score(y_hat_test_naive,y_test))\n",
    "print('recall score' ,recall_score(y_hat_test_naive,y_test))\n",
    "print('accuracy score' ,accuracy_score(y_hat_test_naive,y_test))\n",
    "print('f1 score' ,f1_score(y_hat_test_naive,y_test))"
   ]
  },
  {
   "cell_type": "markdown",
   "metadata": {},
   "source": [
    "## Random Forest Grid Search"
   ]
  },
  {
   "cell_type": "code",
   "execution_count": 31,
   "metadata": {},
   "outputs": [
    {
     "name": "stdout",
     "output_type": "stream",
     "text": [
      "Training Accuracy: 63.87%\n",
      "\n",
      "Optimal Parameters: {'criterion': 'entropy', 'max_depth': 12, 'min_samples_leaf': 3, 'min_samples_split': 10, 'n_estimators': 100}\n",
      "{'model': 'RF', 'precision': 0.15, 'recall': 0.6666666666666666, 'accuracy': 0.48847926267281105, 'f1': 0.24489795918367346}\n",
      "-6.2060468006896405\n",
      "12.423081851806517\n"
     ]
    }
   ],
   "source": [
    "rf_clf = RandomForestClassifier()\n",
    "rf_param_grid = {\n",
    "    'n_estimators': [100,200,300],\n",
    "    'criterion': ['gini', 'entropy'],\n",
    "    'max_depth': [None, 2, 3, 5,10,12,15],\n",
    "    'min_samples_split': [5,10,15],\n",
    "    'min_samples_leaf': [2,3,5,9,13]\n",
    "}\n",
    "rf_grid_search = GridSearchCV(rf_clf, rf_param_grid, cv=tscv)\n",
    "rf_grid_search.fit(X_train, y_train)\n",
    "\n",
    "print(f\"Training Accuracy: {rf_grid_search.best_score_ :.2%}\")\n",
    "print(\"\")\n",
    "print(f\"Optimal Parameters: {rf_grid_search.best_params_}\")\n",
    "\n",
    "y_hat_test_RF = rf_grid_search.predict(X_test)\n",
    "RF_dict = {'model':'RF','precision':precision_score(y_hat_test_RF,y_test),'recall':recall_score(y_hat_test_RF,y_test),\n",
    "           'accuracy':accuracy_score(y_hat_test_RF,y_test),'f1':f1_score(y_hat_test_RF,y_test)}\n",
    "\n",
    "print(RF_dict)\n",
    "\n",
    "print(np.nansum((np.array(X_test['1day_pct'].shift(-1))*((np.array(y_hat_test_RF)-1/2)*2))))\n",
    "\n",
    "print(np.nansum((np.array(X_test['1day_pct'].shift(-1))*(np.array(y_hat_test_naive)))))"
   ]
  },
  {
   "cell_type": "markdown",
   "metadata": {},
   "source": [
    "## XGB Classifier"
   ]
  },
  {
   "cell_type": "code",
   "execution_count": 32,
   "metadata": {},
   "outputs": [
    {
     "name": "stdout",
     "output_type": "stream",
     "text": [
      "Fitting 4 folds for each of 400 candidates, totalling 1600 fits\n"
     ]
    },
    {
     "name": "stderr",
     "output_type": "stream",
     "text": [
      "[Parallel(n_jobs=10)]: Done  30 tasks      | elapsed:   20.5s\n",
      "[Parallel(n_jobs=10)]: Done 180 tasks      | elapsed:   33.8s\n",
      "[Parallel(n_jobs=10)]: Done 430 tasks      | elapsed:  1.0min\n",
      "[Parallel(n_jobs=10)]: Done 780 tasks      | elapsed:  1.7min\n",
      "[Parallel(n_jobs=10)]: Done 1230 tasks      | elapsed:  2.7min\n",
      "[Parallel(n_jobs=10)]: Done 1600 out of 1600 | elapsed:  3.6min finished\n"
     ]
    },
    {
     "name": "stdout",
     "output_type": "stream",
     "text": [
      "Training Accuracy: 62.86%\n",
      "\n",
      "Optimal Parameters: {'learning_rate': 0.1, 'max_depth': 8, 'n_estimators': 100}\n",
      "{'model': 'XGB', 'precision': 0.15833333333333333, 'recall': 0.5135135135135135, 'accuracy': 0.45161290322580644, 'f1': 0.24203821656050953}\n",
      "-15.875026897509608\n",
      "12.423081851806517\n"
     ]
    }
   ],
   "source": [
    "estimator = XGBClassifier(\n",
    "    objective= 'binary:logistic',\n",
    "    nthread=2,\n",
    "    seed=42\n",
    ")\n",
    "parameters = {\n",
    "    'max_depth': range (2, 10, 1),\n",
    "    'n_estimators': range(20, 120, 10),\n",
    "    'learning_rate': [0.001,0.003,0.01, 0.03, 0.1]\n",
    "}\n",
    "\n",
    "grid_search = GridSearchCV(\n",
    "    estimator=estimator,\n",
    "    param_grid=parameters,\n",
    "    n_jobs = 10,\n",
    "    cv = tscv,\n",
    "    verbose=True\n",
    ")\n",
    "grid_search.fit(X_train, y_train)\n",
    "print(f\"Training Accuracy: {grid_search.best_score_ :.2%}\")\n",
    "print(\"\")\n",
    "print(f\"Optimal Parameters: {grid_search.best_params_}\")\n",
    "\n",
    "y_hat_test_XGB = grid_search.predict(X_test)\n",
    "XGB_dict = {'model':'XGB','precision':precision_score(y_hat_test_XGB,y_test),'recall':recall_score(y_hat_test_XGB,y_test),\n",
    "           'accuracy':accuracy_score(y_hat_test_XGB,y_test),'f1':f1_score(y_hat_test_XGB,y_test)}\n",
    "\n",
    "print(XGB_dict)\n",
    "\n",
    "print(np.nansum((np.array(X_test['1day_pct'].shift(-1))*((np.array(y_hat_test_XGB)-1/2)*2))))\n",
    "\n",
    "print(np.nansum((np.array(X_test['1day_pct'].shift(-1))*np.ones(len(y_test)))))"
   ]
  },
  {
   "cell_type": "markdown",
   "metadata": {},
   "source": [
    "# Random Predictions"
   ]
  },
  {
   "cell_type": "code",
   "execution_count": 15,
   "metadata": {},
   "outputs": [
    {
     "data": {
      "text/html": [
       "<div>\n",
       "<style scoped>\n",
       "    .dataframe tbody tr th:only-of-type {\n",
       "        vertical-align: middle;\n",
       "    }\n",
       "\n",
       "    .dataframe tbody tr th {\n",
       "        vertical-align: top;\n",
       "    }\n",
       "\n",
       "    .dataframe thead th {\n",
       "        text-align: right;\n",
       "    }\n",
       "</style>\n",
       "<table border=\"1\" class=\"dataframe\">\n",
       "  <thead>\n",
       "    <tr style=\"text-align: right;\">\n",
       "      <th></th>\n",
       "      <th>Date</th>\n",
       "      <th>Adj Close</th>\n",
       "      <th>Close</th>\n",
       "      <th>Open</th>\n",
       "      <th>High</th>\n",
       "      <th>Low</th>\n",
       "      <th>Volume</th>\n",
       "      <th>Month_1</th>\n",
       "      <th>Month_2</th>\n",
       "      <th>Month_3</th>\n",
       "      <th>...</th>\n",
       "      <th>RSI_overbought</th>\n",
       "      <th>RSI_oversold</th>\n",
       "      <th>prev_hot_streak</th>\n",
       "      <th>prev_cold_streak</th>\n",
       "      <th>current_hot_streak</th>\n",
       "      <th>current_cold_streak</th>\n",
       "      <th>prev_current_hot</th>\n",
       "      <th>prev_current_cold</th>\n",
       "      <th>current_hot_prev_cold</th>\n",
       "      <th>current_cold_prev_hot</th>\n",
       "    </tr>\n",
       "  </thead>\n",
       "  <tbody>\n",
       "    <tr>\n",
       "      <th>0</th>\n",
       "      <td>2015-01-12</td>\n",
       "      <td>1.008302</td>\n",
       "      <td>1.008302</td>\n",
       "      <td>1.008415</td>\n",
       "      <td>1.011225</td>\n",
       "      <td>0.996944</td>\n",
       "      <td>105034700</td>\n",
       "      <td>1</td>\n",
       "      <td>0</td>\n",
       "      <td>0</td>\n",
       "      <td>...</td>\n",
       "      <td>False</td>\n",
       "      <td>False</td>\n",
       "      <td>3.0</td>\n",
       "      <td>1.0</td>\n",
       "      <td>1.0</td>\n",
       "      <td>0.0</td>\n",
       "      <td>2.0</td>\n",
       "      <td>1.0</td>\n",
       "      <td>0.0</td>\n",
       "      <td>-3.0</td>\n",
       "    </tr>\n",
       "    <tr>\n",
       "      <th>1</th>\n",
       "      <td>2015-01-13</td>\n",
       "      <td>1.009812</td>\n",
       "      <td>1.009812</td>\n",
       "      <td>0.997478</td>\n",
       "      <td>1.010654</td>\n",
       "      <td>1.008826</td>\n",
       "      <td>36663300</td>\n",
       "      <td>1</td>\n",
       "      <td>0</td>\n",
       "      <td>0</td>\n",
       "      <td>...</td>\n",
       "      <td>False</td>\n",
       "      <td>False</td>\n",
       "      <td>3.0</td>\n",
       "      <td>1.0</td>\n",
       "      <td>2.0</td>\n",
       "      <td>0.0</td>\n",
       "      <td>1.0</td>\n",
       "      <td>1.0</td>\n",
       "      <td>1.0</td>\n",
       "      <td>-3.0</td>\n",
       "    </tr>\n",
       "    <tr>\n",
       "      <th>2</th>\n",
       "      <td>2015-01-14</td>\n",
       "      <td>1.007294</td>\n",
       "      <td>1.007294</td>\n",
       "      <td>0.993860</td>\n",
       "      <td>1.010478</td>\n",
       "      <td>1.005501</td>\n",
       "      <td>93519900</td>\n",
       "      <td>1</td>\n",
       "      <td>0</td>\n",
       "      <td>0</td>\n",
       "      <td>...</td>\n",
       "      <td>False</td>\n",
       "      <td>False</td>\n",
       "      <td>2.0</td>\n",
       "      <td>1.0</td>\n",
       "      <td>0.0</td>\n",
       "      <td>1.0</td>\n",
       "      <td>2.0</td>\n",
       "      <td>0.0</td>\n",
       "      <td>-1.0</td>\n",
       "      <td>-1.0</td>\n",
       "    </tr>\n",
       "    <tr>\n",
       "      <th>3</th>\n",
       "      <td>2015-01-15</td>\n",
       "      <td>1.020514</td>\n",
       "      <td>1.020514</td>\n",
       "      <td>1.028115</td>\n",
       "      <td>1.022974</td>\n",
       "      <td>1.018992</td>\n",
       "      <td>62877600</td>\n",
       "      <td>1</td>\n",
       "      <td>0</td>\n",
       "      <td>0</td>\n",
       "      <td>...</td>\n",
       "      <td>True</td>\n",
       "      <td>False</td>\n",
       "      <td>2.0</td>\n",
       "      <td>1.0</td>\n",
       "      <td>1.0</td>\n",
       "      <td>0.0</td>\n",
       "      <td>1.0</td>\n",
       "      <td>1.0</td>\n",
       "      <td>0.0</td>\n",
       "      <td>-2.0</td>\n",
       "    </tr>\n",
       "    <tr>\n",
       "      <th>4</th>\n",
       "      <td>2015-01-16</td>\n",
       "      <td>1.025327</td>\n",
       "      <td>1.025327</td>\n",
       "      <td>1.037494</td>\n",
       "      <td>1.035990</td>\n",
       "      <td>1.025055</td>\n",
       "      <td>85548900</td>\n",
       "      <td>1</td>\n",
       "      <td>0</td>\n",
       "      <td>0</td>\n",
       "      <td>...</td>\n",
       "      <td>True</td>\n",
       "      <td>False</td>\n",
       "      <td>2.0</td>\n",
       "      <td>1.0</td>\n",
       "      <td>2.0</td>\n",
       "      <td>0.0</td>\n",
       "      <td>0.0</td>\n",
       "      <td>1.0</td>\n",
       "      <td>1.0</td>\n",
       "      <td>-2.0</td>\n",
       "    </tr>\n",
       "  </tbody>\n",
       "</table>\n",
       "<p>5 rows × 51 columns</p>\n",
       "</div>"
      ],
      "text/plain": [
       "        Date  Adj Close     Close      Open      High       Low     Volume  \\\n",
       "0 2015-01-12   1.008302  1.008302  1.008415  1.011225  0.996944  105034700   \n",
       "1 2015-01-13   1.009812  1.009812  0.997478  1.010654  1.008826   36663300   \n",
       "2 2015-01-14   1.007294  1.007294  0.993860  1.010478  1.005501   93519900   \n",
       "3 2015-01-15   1.020514  1.020514  1.028115  1.022974  1.018992   62877600   \n",
       "4 2015-01-16   1.025327  1.025327  1.037494  1.035990  1.025055   85548900   \n",
       "\n",
       "   Month_1  Month_2  Month_3  ...  RSI_overbought  RSI_oversold  \\\n",
       "0        1        0        0  ...           False         False   \n",
       "1        1        0        0  ...           False         False   \n",
       "2        1        0        0  ...           False         False   \n",
       "3        1        0        0  ...            True         False   \n",
       "4        1        0        0  ...            True         False   \n",
       "\n",
       "   prev_hot_streak  prev_cold_streak  current_hot_streak  current_cold_streak  \\\n",
       "0              3.0               1.0                 1.0                  0.0   \n",
       "1              3.0               1.0                 2.0                  0.0   \n",
       "2              2.0               1.0                 0.0                  1.0   \n",
       "3              2.0               1.0                 1.0                  0.0   \n",
       "4              2.0               1.0                 2.0                  0.0   \n",
       "\n",
       "   prev_current_hot  prev_current_cold  current_hot_prev_cold  \\\n",
       "0               2.0                1.0                    0.0   \n",
       "1               1.0                1.0                    1.0   \n",
       "2               2.0                0.0                   -1.0   \n",
       "3               1.0                1.0                    0.0   \n",
       "4               0.0                1.0                    1.0   \n",
       "\n",
       "   current_cold_prev_hot  \n",
       "0                   -3.0  \n",
       "1                   -3.0  \n",
       "2                   -1.0  \n",
       "3                   -2.0  \n",
       "4                   -2.0  \n",
       "\n",
       "[5 rows x 51 columns]"
      ]
     },
     "execution_count": 15,
     "metadata": {},
     "output_type": "execute_result"
    }
   ],
   "source": [
    "RND = pd.read_csv(os.path.join(os.path.abspath(os.getcwd()),'data','largecap','random.csv'))\n",
    "RND.drop('Unnamed: 0',axis=1,inplace=True)\n",
    "#RND.columns\n",
    "RND_feat = create_features(RND)\n",
    "\n",
    "RND_feat.head()"
   ]
  },
  {
   "cell_type": "code",
   "execution_count": 24,
   "metadata": {},
   "outputs": [
    {
     "data": {
      "text/plain": [
       "Index(['Date', 'Adj Close', 'Close', 'Open', 'High', 'Low', 'Volume',\n",
       "       'Month_1', 'Month_2', 'Month_3', 'Month_4', 'Month_5', 'Month_6',\n",
       "       'Month_7', 'Month_8', 'Month_9', 'Month_10', 'Month_11', 'Month_12',\n",
       "       'dayowk_0', 'dayowk_1', 'dayowk_2', 'dayowk_3', 'dayowk_4', '1day_pct',\n",
       "       '2day_pct', '3day_pct', '4day_pct', '5day_pct', '7day_pct',\n",
       "       '1day_pct_cs', 'ewma_7', 'ewma_50', 'ewma_200', 'RSI', 'MACD',\n",
       "       'day_var', 'open_close', 'high_close', 'open_prev_close', 'target',\n",
       "       'RSI_overbought', 'RSI_oversold', 'prev_hot_streak', 'prev_cold_streak',\n",
       "       'current_hot_streak', 'current_cold_streak', 'prev_current_hot',\n",
       "       'prev_current_cold', 'current_hot_prev_cold', 'current_cold_prev_hot'],\n",
       "      dtype='object')"
      ]
     },
     "execution_count": 24,
     "metadata": {},
     "output_type": "execute_result"
    }
   ],
   "source": [
    "RND_feat.columns"
   ]
  },
  {
   "cell_type": "code",
   "execution_count": 25,
   "metadata": {},
   "outputs": [
    {
     "name": "stdout",
     "output_type": "stream",
     "text": [
      "<generator object TimeSeriesSplit.split at 0x0000025A9FC3FED0>\n",
      "[  0   1   2   3   4   5   6   7   8   9  10  11  12  13  14  15  16  17\n",
      "  18  19  20  21  22  23  24  25  26  27  28  29  30  31  32  33  34  35\n",
      "  36  37  38  39  40  41  42  43  44  45  46  47  48  49  50  51  52  53\n",
      "  54  55  56  57  58  59  60  61  62  63  64  65  66  67  68  69  70  71\n",
      "  72  73  74  75  76  77  78  79  80  81  82  83  84  85  86  87  88  89\n",
      "  90  91  92  93  94  95  96  97  98  99 100 101 102 103 104 105 106 107\n",
      " 108 109 110 111 112 113 114 115 116 117 118 119 120 121 122 123 124 125\n",
      " 126 127 128 129 130 131 132 133 134 135 136 137 138 139 140 141 142 143\n",
      " 144 145 146 147 148 149 150 151 152 153 154 155 156 157 158 159 160 161\n",
      " 162 163 164 165 166 167 168 169 170 171 172 173 174 175 176 177 178 179\n",
      " 180 181 182 183 184 185 186 187 188 189 190 191 192 193 194 195 196 197\n",
      " 198 199] [200 201 202 203 204 205 206 207 208 209 210 211 212 213 214 215 216 217\n",
      " 218 219 220 221 222 223 224 225 226 227 228 229 230 231 232 233 234 235\n",
      " 236 237 238 239 240 241 242 243 244 245 246 247 248 249 250 251 252 253\n",
      " 254 255 256 257 258 259 260 261 262 263 264 265 266 267 268 269 270 271\n",
      " 272 273 274 275 276 277 278 279 280 281 282 283 284 285 286 287 288 289\n",
      " 290 291 292 293 294 295 296 297 298 299 300 301 302 303 304 305 306 307\n",
      " 308 309 310 311 312 313 314 315 316 317 318 319 320 321 322 323 324 325\n",
      " 326 327 328 329 330 331 332 333 334 335 336 337 338 339 340 341 342 343\n",
      " 344 345 346 347 348 349 350 351 352 353 354 355 356 357 358 359 360 361\n",
      " 362 363 364 365 366 367 368 369 370 371 372 373 374 375 376 377 378 379\n",
      " 380 381 382 383 384 385 386 387 388 389 390 391 392 393 394 395 396 397\n",
      " 398 399]\n",
      "[  0   1   2   3   4   5   6   7   8   9  10  11  12  13  14  15  16  17\n",
      "  18  19  20  21  22  23  24  25  26  27  28  29  30  31  32  33  34  35\n",
      "  36  37  38  39  40  41  42  43  44  45  46  47  48  49  50  51  52  53\n",
      "  54  55  56  57  58  59  60  61  62  63  64  65  66  67  68  69  70  71\n",
      "  72  73  74  75  76  77  78  79  80  81  82  83  84  85  86  87  88  89\n",
      "  90  91  92  93  94  95  96  97  98  99 100 101 102 103 104 105 106 107\n",
      " 108 109 110 111 112 113 114 115 116 117 118 119 120 121 122 123 124 125\n",
      " 126 127 128 129 130 131 132 133 134 135 136 137 138 139 140 141 142 143\n",
      " 144 145 146 147 148 149 150 151 152 153 154 155 156 157 158 159 160 161\n",
      " 162 163 164 165 166 167 168 169 170 171 172 173 174 175 176 177 178 179\n",
      " 180 181 182 183 184 185 186 187 188 189 190 191 192 193 194 195 196 197\n",
      " 198 199 200 201 202 203 204 205 206 207 208 209 210 211 212 213 214 215\n",
      " 216 217 218 219 220 221 222 223 224 225 226 227 228 229 230 231 232 233\n",
      " 234 235 236 237 238 239 240 241 242 243 244 245 246 247 248 249 250 251\n",
      " 252 253 254 255 256 257 258 259 260 261 262 263 264 265 266 267 268 269\n",
      " 270 271 272 273 274 275 276 277 278 279 280 281 282 283 284 285 286 287\n",
      " 288 289 290 291 292 293 294 295 296 297 298 299 300 301 302 303 304 305\n",
      " 306 307 308 309 310 311 312 313 314 315 316 317 318 319 320 321 322 323\n",
      " 324 325 326 327 328 329 330 331 332 333 334 335 336 337 338 339 340 341\n",
      " 342 343 344 345 346 347 348 349 350 351 352 353 354 355 356 357 358 359\n",
      " 360 361 362 363 364 365 366 367 368 369 370 371 372 373 374 375 376 377\n",
      " 378 379 380 381 382 383 384 385 386 387 388 389 390 391 392 393 394 395\n",
      " 396 397 398 399] [400 401 402 403 404 405 406 407 408 409 410 411 412 413 414 415 416 417\n",
      " 418 419 420 421 422 423 424 425 426 427 428 429 430 431 432 433 434 435\n",
      " 436 437 438 439 440 441 442 443 444 445 446 447 448 449 450 451 452 453\n",
      " 454 455 456 457 458 459 460 461 462 463 464 465 466 467 468 469 470 471\n",
      " 472 473 474 475 476 477 478 479 480 481 482 483 484 485 486 487 488 489\n",
      " 490 491 492 493 494 495 496 497 498 499 500 501 502 503 504 505 506 507\n",
      " 508 509 510 511 512 513 514 515 516 517 518 519 520 521 522 523 524 525\n",
      " 526 527 528 529 530 531 532 533 534 535 536 537 538 539 540 541 542 543\n",
      " 544 545 546 547 548 549 550 551 552 553 554 555 556 557 558 559 560 561\n",
      " 562 563 564 565 566 567 568 569 570 571 572 573 574 575 576 577 578 579\n",
      " 580 581 582 583 584 585 586 587 588 589 590 591 592 593 594 595 596 597\n",
      " 598 599]\n",
      "[  0   1   2   3   4   5   6   7   8   9  10  11  12  13  14  15  16  17\n",
      "  18  19  20  21  22  23  24  25  26  27  28  29  30  31  32  33  34  35\n",
      "  36  37  38  39  40  41  42  43  44  45  46  47  48  49  50  51  52  53\n",
      "  54  55  56  57  58  59  60  61  62  63  64  65  66  67  68  69  70  71\n",
      "  72  73  74  75  76  77  78  79  80  81  82  83  84  85  86  87  88  89\n",
      "  90  91  92  93  94  95  96  97  98  99 100 101 102 103 104 105 106 107\n",
      " 108 109 110 111 112 113 114 115 116 117 118 119 120 121 122 123 124 125\n",
      " 126 127 128 129 130 131 132 133 134 135 136 137 138 139 140 141 142 143\n",
      " 144 145 146 147 148 149 150 151 152 153 154 155 156 157 158 159 160 161\n",
      " 162 163 164 165 166 167 168 169 170 171 172 173 174 175 176 177 178 179\n",
      " 180 181 182 183 184 185 186 187 188 189 190 191 192 193 194 195 196 197\n",
      " 198 199 200 201 202 203 204 205 206 207 208 209 210 211 212 213 214 215\n",
      " 216 217 218 219 220 221 222 223 224 225 226 227 228 229 230 231 232 233\n",
      " 234 235 236 237 238 239 240 241 242 243 244 245 246 247 248 249 250 251\n",
      " 252 253 254 255 256 257 258 259 260 261 262 263 264 265 266 267 268 269\n",
      " 270 271 272 273 274 275 276 277 278 279 280 281 282 283 284 285 286 287\n",
      " 288 289 290 291 292 293 294 295 296 297 298 299 300 301 302 303 304 305\n",
      " 306 307 308 309 310 311 312 313 314 315 316 317 318 319 320 321 322 323\n",
      " 324 325 326 327 328 329 330 331 332 333 334 335 336 337 338 339 340 341\n",
      " 342 343 344 345 346 347 348 349 350 351 352 353 354 355 356 357 358 359\n",
      " 360 361 362 363 364 365 366 367 368 369 370 371 372 373 374 375 376 377\n",
      " 378 379 380 381 382 383 384 385 386 387 388 389 390 391 392 393 394 395\n",
      " 396 397 398 399 400 401 402 403 404 405 406 407 408 409 410 411 412 413\n",
      " 414 415 416 417 418 419 420 421 422 423 424 425 426 427 428 429 430 431\n",
      " 432 433 434 435 436 437 438 439 440 441 442 443 444 445 446 447 448 449\n",
      " 450 451 452 453 454 455 456 457 458 459 460 461 462 463 464 465 466 467\n",
      " 468 469 470 471 472 473 474 475 476 477 478 479 480 481 482 483 484 485\n",
      " 486 487 488 489 490 491 492 493 494 495 496 497 498 499 500 501 502 503\n",
      " 504 505 506 507 508 509 510 511 512 513 514 515 516 517 518 519 520 521\n",
      " 522 523 524 525 526 527 528 529 530 531 532 533 534 535 536 537 538 539\n",
      " 540 541 542 543 544 545 546 547 548 549 550 551 552 553 554 555 556 557\n",
      " 558 559 560 561 562 563 564 565 566 567 568 569 570 571 572 573 574 575\n",
      " 576 577 578 579 580 581 582 583 584 585 586 587 588 589 590 591 592 593\n",
      " 594 595 596 597 598 599] [600 601 602 603 604 605 606 607 608 609 610 611 612 613 614 615 616 617\n",
      " 618 619 620 621 622 623 624 625 626 627 628 629 630 631 632 633 634 635\n",
      " 636 637 638 639 640 641 642 643 644 645 646 647 648 649 650 651 652 653\n",
      " 654 655 656 657 658 659 660 661 662 663 664 665 666 667 668 669 670 671\n",
      " 672 673 674 675 676 677 678 679 680 681 682 683 684 685 686 687 688 689\n",
      " 690 691 692 693 694 695 696 697 698 699 700 701 702 703 704 705 706 707\n",
      " 708 709 710 711 712 713 714 715 716 717 718 719 720 721 722 723 724 725\n",
      " 726 727 728 729 730 731 732 733 734 735 736 737 738 739 740 741 742 743\n",
      " 744 745 746 747 748 749 750 751 752 753 754 755 756 757 758 759 760 761\n",
      " 762 763 764 765 766 767 768 769 770 771 772 773 774 775 776 777 778 779\n",
      " 780 781 782 783 784 785 786 787 788 789 790 791 792 793 794 795 796 797\n",
      " 798 799]\n",
      "[  0   1   2   3   4   5   6   7   8   9  10  11  12  13  14  15  16  17\n",
      "  18  19  20  21  22  23  24  25  26  27  28  29  30  31  32  33  34  35\n",
      "  36  37  38  39  40  41  42  43  44  45  46  47  48  49  50  51  52  53\n",
      "  54  55  56  57  58  59  60  61  62  63  64  65  66  67  68  69  70  71\n",
      "  72  73  74  75  76  77  78  79  80  81  82  83  84  85  86  87  88  89\n",
      "  90  91  92  93  94  95  96  97  98  99 100 101 102 103 104 105 106 107\n",
      " 108 109 110 111 112 113 114 115 116 117 118 119 120 121 122 123 124 125\n",
      " 126 127 128 129 130 131 132 133 134 135 136 137 138 139 140 141 142 143\n",
      " 144 145 146 147 148 149 150 151 152 153 154 155 156 157 158 159 160 161\n",
      " 162 163 164 165 166 167 168 169 170 171 172 173 174 175 176 177 178 179\n",
      " 180 181 182 183 184 185 186 187 188 189 190 191 192 193 194 195 196 197\n",
      " 198 199 200 201 202 203 204 205 206 207 208 209 210 211 212 213 214 215\n",
      " 216 217 218 219 220 221 222 223 224 225 226 227 228 229 230 231 232 233\n",
      " 234 235 236 237 238 239 240 241 242 243 244 245 246 247 248 249 250 251\n",
      " 252 253 254 255 256 257 258 259 260 261 262 263 264 265 266 267 268 269\n",
      " 270 271 272 273 274 275 276 277 278 279 280 281 282 283 284 285 286 287\n",
      " 288 289 290 291 292 293 294 295 296 297 298 299 300 301 302 303 304 305\n",
      " 306 307 308 309 310 311 312 313 314 315 316 317 318 319 320 321 322 323\n",
      " 324 325 326 327 328 329 330 331 332 333 334 335 336 337 338 339 340 341\n",
      " 342 343 344 345 346 347 348 349 350 351 352 353 354 355 356 357 358 359\n",
      " 360 361 362 363 364 365 366 367 368 369 370 371 372 373 374 375 376 377\n",
      " 378 379 380 381 382 383 384 385 386 387 388 389 390 391 392 393 394 395\n",
      " 396 397 398 399 400 401 402 403 404 405 406 407 408 409 410 411 412 413\n",
      " 414 415 416 417 418 419 420 421 422 423 424 425 426 427 428 429 430 431\n",
      " 432 433 434 435 436 437 438 439 440 441 442 443 444 445 446 447 448 449\n",
      " 450 451 452 453 454 455 456 457 458 459 460 461 462 463 464 465 466 467\n",
      " 468 469 470 471 472 473 474 475 476 477 478 479 480 481 482 483 484 485\n",
      " 486 487 488 489 490 491 492 493 494 495 496 497 498 499 500 501 502 503\n",
      " 504 505 506 507 508 509 510 511 512 513 514 515 516 517 518 519 520 521\n",
      " 522 523 524 525 526 527 528 529 530 531 532 533 534 535 536 537 538 539\n",
      " 540 541 542 543 544 545 546 547 548 549 550 551 552 553 554 555 556 557\n",
      " 558 559 560 561 562 563 564 565 566 567 568 569 570 571 572 573 574 575\n",
      " 576 577 578 579 580 581 582 583 584 585 586 587 588 589 590 591 592 593\n",
      " 594 595 596 597 598 599 600 601 602 603 604 605 606 607 608 609 610 611\n",
      " 612 613 614 615 616 617 618 619 620 621 622 623 624 625 626 627 628 629\n",
      " 630 631 632 633 634 635 636 637 638 639 640 641 642 643 644 645 646 647\n",
      " 648 649 650 651 652 653 654 655 656 657 658 659 660 661 662 663 664 665\n",
      " 666 667 668 669 670 671 672 673 674 675 676 677 678 679 680 681 682 683\n",
      " 684 685 686 687 688 689 690 691 692 693 694 695 696 697 698 699 700 701\n",
      " 702 703 704 705 706 707 708 709 710 711 712 713 714 715 716 717 718 719\n",
      " 720 721 722 723 724 725 726 727 728 729 730 731 732 733 734 735 736 737\n",
      " 738 739 740 741 742 743 744 745 746 747 748 749 750 751 752 753 754 755\n",
      " 756 757 758 759 760 761 762 763 764 765 766 767 768 769 770 771 772 773\n",
      " 774 775 776 777 778 779 780 781 782 783 784 785 786 787 788 789 790 791\n",
      " 792 793 794 795 796 797 798 799] [800 801 802 803 804 805 806 807 808 809 810 811 812 813 814 815 816 817\n",
      " 818 819 820 821 822 823 824 825 826 827 828 829 830 831 832 833 834 835\n",
      " 836 837 838 839 840 841 842 843 844 845 846 847 848 849 850 851 852 853\n",
      " 854 855 856 857 858 859 860 861 862 863 864 865 866 867 868 869 870 871\n",
      " 872 873 874 875 876 877 878 879 880 881 882 883 884 885 886 887 888 889\n",
      " 890 891 892 893 894 895 896 897 898 899 900 901 902 903 904 905 906 907\n",
      " 908 909 910 911 912 913 914 915 916 917 918 919 920 921 922 923 924 925\n",
      " 926 927 928 929 930 931 932 933 934 935 936 937 938 939 940 941 942 943\n",
      " 944 945 946 947 948 949 950 951 952 953 954 955 956 957 958 959 960 961\n",
      " 962 963 964 965 966 967 968 969 970 971 972 973 974 975 976 977 978 979\n",
      " 980 981 982 983 984 985 986 987 988 989 990 991 992 993 994 995 996 997\n",
      " 998 999]\n"
     ]
    }
   ],
   "source": [
    "y = RND_feat['target'].astype(int)\n",
    "X = RND_feat.drop(['Date','Adj Close','High','Low','Close','target'],axis=1)\n",
    "\n",
    "continuous = ['1day_pct', '2day_pct', '3day_pct', '4day_pct', '5day_pct', '7day_pct',\n",
    "              '1day_pct_cs',\n",
    "              'ewma_7', 'ewma_50', 'ewma_200', 'RSI', 'MACD','Volume','day_var','open_close','open_prev_close','high_close']\n",
    "discrete = ['prev_hot_streak','prev_cold_streak', 'current_hot_streak', 'current_cold_streak',\n",
    "            'RSI_overbought','RSI_oversold',\n",
    "            #'7g(50&200)','7l(50&200)','7g50','7g200',\n",
    "            'prev_current_hot', 'prev_current_cold','current_hot_prev_cold','current_cold_prev_hot',\n",
    "            'Month_1', 'Month_2', 'Month_3', 'Month_4', 'Month_5', 'Month_6',\n",
    "            'Month_7', 'Month_8', 'Month_9', 'Month_10', 'Month_11', 'Month_12',\n",
    "            'dayowk_0', 'dayowk_1', 'dayowk_2', 'dayowk_3', 'dayowk_4',\n",
    "           ]\n",
    "scaler = StandardScaler()\n",
    "X_cont = pd.DataFrame(scaler.fit_transform(X[continuous]),columns=continuous)\n",
    "\n",
    "X_disc = X[discrete]\n",
    "\n",
    "X_cont.reset_index(drop=True,inplace=True)\n",
    "\n",
    "X_disc.reset_index(drop=True,inplace=True)\n",
    "\n",
    "X = pd.concat([X_cont,X_disc],axis=1)\n",
    "\n",
    "train_size = X.shape[0]*4//5\n",
    "X_test = X.iloc[train_size:]\n",
    "X_train = X.iloc[0:train_size]\n",
    "y_test = y.iloc[train_size:]\n",
    "y_train = y.iloc[0:train_size]\n",
    "\n",
    "tscv = TimeSeriesSplit(n_splits=4)\n",
    "print(tscv.split(X_train))\n",
    "for train, val in tscv.split(X_train):\n",
    "    print(\"%s %s\" % (train, val))"
   ]
  },
  {
   "cell_type": "code",
   "execution_count": 26,
   "metadata": {},
   "outputs": [
    {
     "name": "stdout",
     "output_type": "stream",
     "text": [
      "precision score 1.0\n",
      "recall score 0.472\n",
      "accuracy score 0.472\n",
      "f1 score 0.6413043478260869\n"
     ]
    }
   ],
   "source": [
    "y_hat_test_naive = np.ones(len(y_test))\n",
    "print('precision score' ,precision_score(y_hat_test_naive,y_test))\n",
    "print('recall score' ,recall_score(y_hat_test_naive,y_test))\n",
    "print('accuracy score' ,accuracy_score(y_hat_test_naive,y_test))\n",
    "print('f1 score' ,f1_score(y_hat_test_naive,y_test))"
   ]
  },
  {
   "cell_type": "code",
   "execution_count": 44,
   "metadata": {},
   "outputs": [
    {
     "name": "stdout",
     "output_type": "stream",
     "text": [
      "        Date        Open        High         Low       Close   Adj Close  \\\n",
      "0 2015-01-12  204.410004  204.600006  201.919998  202.649994  181.766663   \n",
      "1 2015-01-13  204.119995  205.479996  200.509995  202.080002  181.255432   \n",
      "2 2015-01-14  199.649994  201.100006  198.570007  200.860001  180.161163   \n",
      "3 2015-01-15  201.630005  202.009995  198.880005  199.020004  178.510773   \n",
      "4 2015-01-16  198.770004  201.820007  198.550003  201.630005  180.851807   \n",
      "\n",
      "      Volume  Month_1  Month_2  Month_3  ...  RSI_overbought  RSI_oversold  \\\n",
      "0  144396100        1        0        0  ...           False         False   \n",
      "1  214553300        1        0        0  ...           False         False   \n",
      "2  192991100        1        0        0  ...           False         False   \n",
      "3  176613900        1        0        0  ...           False          True   \n",
      "4  211879600        1        0        0  ...           False         False   \n",
      "\n",
      "   prev_hot_streak  prev_cold_streak  current_hot_streak  current_cold_streak  \\\n",
      "0              2.0               3.0                 0.0                  2.0   \n",
      "1              2.0               3.0                 0.0                  3.0   \n",
      "2              2.0               3.0                 0.0                  4.0   \n",
      "3              2.0               3.0                 0.0                  5.0   \n",
      "4              2.0               5.0                 1.0                  0.0   \n",
      "\n",
      "   prev_current_hot  prev_current_cold  current_hot_prev_cold  \\\n",
      "0               2.0                1.0                   -3.0   \n",
      "1               2.0                0.0                   -3.0   \n",
      "2               2.0               -1.0                   -3.0   \n",
      "3               2.0               -2.0                   -3.0   \n",
      "4               1.0                5.0                   -4.0   \n",
      "\n",
      "   current_cold_prev_hot  \n",
      "0                    0.0  \n",
      "1                    1.0  \n",
      "2                    2.0  \n",
      "3                    3.0  \n",
      "4                   -2.0  \n",
      "\n",
      "[5 rows x 51 columns]\n",
      "naive return: 19.214327287585224\n",
      "Training Accuracy: 54.63%\n",
      "\n",
      "Optimal Parameters: {'criterion': 'gini', 'max_depth': 2, 'min_samples_leaf': 9, 'min_samples_split': 5, 'n_estimators': 5}\n",
      "{'model': 'RF', 'precision': 0.8175675675675675, 'recall': 0.5931372549019608, 'accuracy': 0.56, 'f1': 0.6874999999999999, 'return': 13.785209547213356}\n",
      "{'model': 'Logistic', 'precision': 0.527027027027027, 'recall': 0.5531914893617021, 'accuracy': 0.468, 'f1': 0.5397923875432526, 'return': -9.329081375106462}\n",
      "{'model': 'SVM_poly', 'precision': 0.7905405405405406, 'recall': 0.5879396984924623, 'accuracy': 0.548, 'f1': 0.6743515850144092, 'return': 8.184370386040785}\n",
      "Fitting 4 folds for each of 400 candidates, totalling 1600 fits\n"
     ]
    },
    {
     "name": "stderr",
     "output_type": "stream",
     "text": [
      "[Parallel(n_jobs=10)]: Using backend LokyBackend with 10 concurrent workers.\n",
      "[Parallel(n_jobs=10)]: Done  30 tasks      | elapsed:    2.6s\n",
      "[Parallel(n_jobs=10)]: Done 180 tasks      | elapsed:    5.7s\n",
      "[Parallel(n_jobs=10)]: Done 430 tasks      | elapsed:   12.3s\n",
      "[Parallel(n_jobs=10)]: Done 780 tasks      | elapsed:   21.3s\n",
      "[Parallel(n_jobs=10)]: Done 1230 tasks      | elapsed:   33.5s\n",
      "[Parallel(n_jobs=10)]: Done 1600 out of 1600 | elapsed:   43.5s finished\n"
     ]
    },
    {
     "name": "stdout",
     "output_type": "stream",
     "text": [
      "Training Accuracy: 53.50%\n",
      "\n",
      "Optimal Parameters: {'learning_rate': 0.03, 'max_depth': 6, 'n_estimators': 50}\n",
      "{'model': 'XGB', 'precision': 0.581081081081081, 'recall': 0.6466165413533834, 'accuracy': 0.564, 'f1': 0.6120996441281138, 'return': 29.14715184346195}\n",
      "{'model': 'stack', 'precision': 0.9797297297297297, 'recall': 0.5918367346938775, 'accuracy': 0.588, 'f1': 0.737913486005089, 'return': 19.867981080548883}\n"
     ]
    },
    {
     "data": {
      "text/plain": [
       "({'model': 'RF',\n",
       "  'precision': 0.8175675675675675,\n",
       "  'recall': 0.5931372549019608,\n",
       "  'accuracy': 0.56,\n",
       "  'f1': 0.6874999999999999,\n",
       "  'return': 13.785209547213356},\n",
       " {'model': 'Logistic',\n",
       "  'precision': 0.527027027027027,\n",
       "  'recall': 0.5531914893617021,\n",
       "  'accuracy': 0.468,\n",
       "  'f1': 0.5397923875432526,\n",
       "  'return': -9.329081375106462},\n",
       " {'model': 'SVM_poly',\n",
       "  'precision': 0.7905405405405406,\n",
       "  'recall': 0.5879396984924623,\n",
       "  'accuracy': 0.548,\n",
       "  'f1': 0.6743515850144092,\n",
       "  'return': 8.184370386040785},\n",
       " {'model': 'XGB',\n",
       "  'precision': 0.581081081081081,\n",
       "  'recall': 0.6466165413533834,\n",
       "  'accuracy': 0.564,\n",
       "  'f1': 0.6120996441281138,\n",
       "  'return': 29.14715184346195},\n",
       " {'model': 'stack',\n",
       "  'precision': 0.9797297297297297,\n",
       "  'recall': 0.5918367346938775,\n",
       "  'accuracy': 0.588,\n",
       "  'f1': 0.737913486005089,\n",
       "  'return': 19.867981080548883})"
      ]
     },
     "execution_count": 44,
     "metadata": {},
     "output_type": "execute_result"
    },
    {
     "data": {
      "image/png": "[encoded data removed]",
      "text/plain": [
       "<Figure size 576x576 with 1 Axes>"
      ]
     },
     "metadata": {
      "needs_background": "light"
     },
     "output_type": "display_data"
    }
   ],
   "source": [
    "fname = os.path.join(os.path.abspath(os.getcwd()),'data','largecap','SPY.csv')\n",
    "daily_prediction_analysis(fname)"
   ]
  },
  {
   "cell_type": "code",
   "execution_count": 45,
   "metadata": {},
   "outputs": [
    {
     "name": "stdout",
     "output_type": "stream",
     "text": [
      "   Unnamed: 0       Date  Adj Close     Close      Open      High       Low  \\\n",
      "0           7 2015-01-12   1.008302  1.008302  1.008415  1.011225  0.996944   \n",
      "1           8 2015-01-13   1.009812  1.009812  0.997478  1.010654  1.008826   \n",
      "2           9 2015-01-14   1.007294  1.007294  0.993860  1.010478  1.005501   \n",
      "3          10 2015-01-15   1.020514  1.020514  1.028115  1.022974  1.018992   \n",
      "4          11 2015-01-16   1.025327  1.025327  1.037494  1.035990  1.025055   \n",
      "\n",
      "      Volume  Month_1  Month_2  ...  RSI_overbought  RSI_oversold  \\\n",
      "0  105034700        1        0  ...           False         False   \n",
      "1   36663300        1        0  ...           False         False   \n",
      "2   93519900        1        0  ...           False         False   \n",
      "3   62877600        1        0  ...            True         False   \n",
      "4   85548900        1        0  ...            True         False   \n",
      "\n",
      "   prev_hot_streak  prev_cold_streak  current_hot_streak  current_cold_streak  \\\n",
      "0              3.0               1.0                 1.0                  0.0   \n",
      "1              3.0               1.0                 2.0                  0.0   \n",
      "2              2.0               1.0                 0.0                  1.0   \n",
      "3              2.0               1.0                 1.0                  0.0   \n",
      "4              2.0               1.0                 2.0                  0.0   \n",
      "\n",
      "   prev_current_hot  prev_current_cold  current_hot_prev_cold  \\\n",
      "0               2.0                1.0                    0.0   \n",
      "1               1.0                1.0                    1.0   \n",
      "2               2.0                0.0                   -1.0   \n",
      "3               1.0                1.0                    0.0   \n",
      "4               0.0                1.0                    1.0   \n",
      "\n",
      "   current_cold_prev_hot  \n",
      "0                   -3.0  \n",
      "1                   -3.0  \n",
      "2                   -1.0  \n",
      "3                   -2.0  \n",
      "4                   -2.0  \n",
      "\n",
      "[5 rows x 52 columns]\n",
      "naive return: -18.552936996375315\n",
      "Training Accuracy: 53.62%\n",
      "\n",
      "Optimal Parameters: {'criterion': 'gini', 'max_depth': None, 'min_samples_leaf': 5, 'min_samples_split': 15, 'n_estimators': 5}\n",
      "{'model': 'RF', 'precision': 0.4406779661016949, 'recall': 0.5148514851485149, 'accuracy': 0.54, 'f1': 0.4748858447488585, 'return': 28.050077643954104}\n",
      "{'model': 'Logistic', 'precision': 0.3898305084745763, 'recall': 0.46464646464646464, 'accuracy': 0.5, 'f1': 0.42396313364055305, 'return': 8.3278360120444}\n",
      "{'model': 'SVM_poly', 'precision': 0.423728813559322, 'recall': 0.43478260869565216, 'accuracy': 0.468, 'f1': 0.42918454935622313, 'return': -19.33803323914678}\n",
      "Fitting 4 folds for each of 400 candidates, totalling 1600 fits\n"
     ]
    },
    {
     "name": "stderr",
     "output_type": "stream",
     "text": [
      "[Parallel(n_jobs=10)]: Using backend LokyBackend with 10 concurrent workers.\n",
      "[Parallel(n_jobs=10)]: Done  30 tasks      | elapsed:    2.4s\n",
      "[Parallel(n_jobs=10)]: Done 290 tasks      | elapsed:    8.2s\n",
      "[Parallel(n_jobs=10)]: Done 790 tasks      | elapsed:   18.8s\n",
      "[Parallel(n_jobs=10)]: Done 1490 tasks      | elapsed:   34.5s\n",
      "[Parallel(n_jobs=10)]: Done 1581 out of 1600 | elapsed:   37.5s remaining:    0.5s\n",
      "[Parallel(n_jobs=10)]: Done 1600 out of 1600 | elapsed:   38.2s finished\n"
     ]
    },
    {
     "name": "stdout",
     "output_type": "stream",
     "text": [
      "Training Accuracy: 52.75%\n",
      "\n",
      "Optimal Parameters: {'learning_rate': 0.01, 'max_depth': 8, 'n_estimators': 70}\n",
      "{'model': 'XGB', 'precision': 0.3559322033898305, 'recall': 0.5, 'accuracy': 0.528, 'f1': 0.4158415841584159, 'return': 4.467850637869371}\n",
      "{'model': 'stack', 'precision': 0.1271186440677966, 'recall': 0.45454545454545453, 'accuracy': 0.516, 'f1': 0.19867549668874174, 'return': -2.310985671937477}\n"
     ]
    },
    {
     "data": {
      "text/plain": [
       "({'model': 'RF',\n",
       "  'precision': 0.4406779661016949,\n",
       "  'recall': 0.5148514851485149,\n",
       "  'accuracy': 0.54,\n",
       "  'f1': 0.4748858447488585,\n",
       "  'return': 28.050077643954104},\n",
       " {'model': 'Logistic',\n",
       "  'precision': 0.3898305084745763,\n",
       "  'recall': 0.46464646464646464,\n",
       "  'accuracy': 0.5,\n",
       "  'f1': 0.42396313364055305,\n",
       "  'return': 8.3278360120444},\n",
       " {'model': 'SVM_poly',\n",
       "  'precision': 0.423728813559322,\n",
       "  'recall': 0.43478260869565216,\n",
       "  'accuracy': 0.468,\n",
       "  'f1': 0.42918454935622313,\n",
       "  'return': -19.33803323914678},\n",
       " {'model': 'XGB',\n",
       "  'precision': 0.3559322033898305,\n",
       "  'recall': 0.5,\n",
       "  'accuracy': 0.528,\n",
       "  'f1': 0.4158415841584159,\n",
       "  'return': 4.467850637869371},\n",
       " {'model': 'stack',\n",
       "  'precision': 0.1271186440677966,\n",
       "  'recall': 0.45454545454545453,\n",
       "  'accuracy': 0.516,\n",
       "  'f1': 0.19867549668874174,\n",
       "  'return': -2.310985671937477})"
      ]
     },
     "execution_count": 45,
     "metadata": {},
     "output_type": "execute_result"
    },
    {
     "data": {
      "image/png": "[encoded data removed]",
      "text/plain": [
       "<Figure size 576x576 with 1 Axes>"
      ]
     },
     "metadata": {
      "needs_background": "light"
     },
     "output_type": "display_data"
    }
   ],
   "source": [
    "fname = os.path.join(os.path.abspath(os.getcwd()),'data','largecap','random.csv')\n",
    "daily_prediction_analysis(fname)"
   ]
  },
  {
   "cell_type": "code",
   "execution_count": 61,
   "metadata": {},
   "outputs": [
    {
     "name": "stdout",
     "output_type": "stream",
     "text": [
      "        Date        Open        High         Low       Close   Adj Close  \\\n",
      "0 2015-01-12  187.460007  187.600006  185.190002  185.839996  166.401184   \n",
      "1 2015-01-13  187.220001  188.410004  183.899994  185.350006  165.962463   \n",
      "2 2015-01-14  183.100006  184.399994  182.110001  184.259995  164.986465   \n",
      "3 2015-01-15  184.880005  185.250000  182.399994  182.539993  163.446381   \n",
      "4 2015-01-16  182.309998  185.080002  182.089996  184.800003  165.470032   \n",
      "\n",
      "    Volume  Month_1  Month_2  Month_3  ...  RSI_overbought  RSI_oversold  \\\n",
      "0  1847500        1        0        0  ...           False         False   \n",
      "1  2158500        1        0        0  ...           False         False   \n",
      "2  5216300        1        0        0  ...           False         False   \n",
      "3  1940700        1        0        0  ...           False          True   \n",
      "4  1472800        1        0        0  ...           False         False   \n",
      "\n",
      "   prev_hot_streak  prev_cold_streak  current_hot_streak  current_cold_streak  \\\n",
      "0              2.0               3.0                 0.0                  2.0   \n",
      "1              2.0               3.0                 0.0                  3.0   \n",
      "2              2.0               3.0                 0.0                  4.0   \n",
      "3              2.0               3.0                 0.0                  5.0   \n",
      "4              2.0               5.0                 1.0                  0.0   \n",
      "\n",
      "   prev_current_hot  prev_current_cold  current_hot_prev_cold  \\\n",
      "0               2.0                1.0                   -3.0   \n",
      "1               2.0                0.0                   -3.0   \n",
      "2               2.0               -1.0                   -3.0   \n",
      "3               2.0               -2.0                   -3.0   \n",
      "4               1.0                5.0                   -4.0   \n",
      "\n",
      "   current_cold_prev_hot  \n",
      "0                    0.0  \n",
      "1                    1.0  \n",
      "2                    2.0  \n",
      "3                    3.0  \n",
      "4                   -2.0  \n",
      "\n",
      "[5 rows x 51 columns]\n",
      "naive return: 19.21686019721581\n",
      "Training Accuracy: 54.12%\n",
      "\n",
      "Optimal Parameters: {'criterion': 'entropy', 'max_depth': 2, 'min_samples_leaf': 5, 'min_samples_split': 15, 'n_estimators': 5}\n",
      "{'model': 'RF', 'precision': 0.9594594594594594, 'recall': 0.5892116182572614, 'accuracy': 0.58, 'f1': 0.7300771208226221, 'return': 17.10449121913554}\n",
      "{'model': 'Logistic', 'precision': 0.5405405405405406, 'recall': 0.5714285714285714, 'accuracy': 0.488, 'f1': 0.5555555555555556, 'return': -0.4646076306175946}\n",
      "{'model': 'SVM_poly', 'precision': 0.8648648648648649, 'recall': 0.5925925925925926, 'accuracy': 0.568, 'f1': 0.7032967032967032, 'return': 13.94595779093425}\n",
      "Fitting 4 folds for each of 400 candidates, totalling 1600 fits\n"
     ]
    },
    {
     "name": "stderr",
     "output_type": "stream",
     "text": [
      "[Parallel(n_jobs=10)]: Using backend LokyBackend with 10 concurrent workers.\n",
      "[Parallel(n_jobs=10)]: Done  40 tasks      | elapsed:    0.6s\n",
      "[Parallel(n_jobs=10)]: Done 340 tasks      | elapsed:    9.6s\n",
      "[Parallel(n_jobs=10)]: Done 840 tasks      | elapsed:   21.8s\n",
      "[Parallel(n_jobs=10)]: Done 1540 tasks      | elapsed:   39.4s\n"
     ]
    },
    {
     "name": "stdout",
     "output_type": "stream",
     "text": [
      "Training Accuracy: 53.38%\n",
      "\n",
      "Optimal Parameters: {'learning_rate': 0.001, 'max_depth': 4, 'n_estimators': 20}\n",
      "{'model': 'XGB', 'precision': 0.8648648648648649, 'recall': 0.5844748858447488, 'accuracy': 0.556, 'f1': 0.6975476839237057, 'return': 13.61405519377871}\n"
     ]
    },
    {
     "name": "stderr",
     "output_type": "stream",
     "text": [
      "[Parallel(n_jobs=10)]: Done 1600 out of 1600 | elapsed:   41.6s finished\n"
     ]
    },
    {
     "data": {
      "text/plain": [
       "({'model': 'RF',\n",
       "  'precision': 0.9594594594594594,\n",
       "  'recall': 0.5892116182572614,\n",
       "  'accuracy': 0.58,\n",
       "  'f1': 0.7300771208226221,\n",
       "  'return': 17.10449121913554},\n",
       " {'model': 'Logistic',\n",
       "  'precision': 0.5405405405405406,\n",
       "  'recall': 0.5714285714285714,\n",
       "  'accuracy': 0.488,\n",
       "  'f1': 0.5555555555555556,\n",
       "  'return': -0.4646076306175946},\n",
       " {'model': 'SVM_poly',\n",
       "  'precision': 0.8648648648648649,\n",
       "  'recall': 0.5925925925925926,\n",
       "  'accuracy': 0.568,\n",
       "  'f1': 0.7032967032967032,\n",
       "  'return': 13.94595779093425},\n",
       " {'model': 'XGB',\n",
       "  'precision': 0.8648648648648649,\n",
       "  'recall': 0.5844748858447488,\n",
       "  'accuracy': 0.556,\n",
       "  'f1': 0.6975476839237057,\n",
       "  'return': 13.61405519377871})"
      ]
     },
     "execution_count": 61,
     "metadata": {},
     "output_type": "execute_result"
    },
    {
     "data": {
      "image/png": "[encoded data removed]",
      "text/plain": [
       "<Figure size 576x576 with 1 Axes>"
      ]
     },
     "metadata": {
      "needs_background": "light"
     },
     "output_type": "display_data"
    }
   ],
   "source": [
    "fname = os.path.join(os.path.abspath(os.getcwd()),'data','largecap','VOO.csv')\n",
    "daily_prediction_analysis(fname)"
   ]
  },
  {
   "cell_type": "code",
   "execution_count": 66,
   "metadata": {},
   "outputs": [
    {
     "name": "stdout",
     "output_type": "stream",
     "text": [
      "        Date        Open        High         Low       Close   Adj Close  \\\n",
      "0 2015-01-12  205.850006  206.029999  203.350006  204.089996  182.042572   \n",
      "1 2015-01-13  205.559998  206.910004  201.949997  203.559998  181.569855   \n",
      "2 2015-01-14  201.050003  202.490005  199.970001  202.330002  180.472702   \n",
      "3 2015-01-15  203.029999  203.419998  200.279999  200.429993  178.777969   \n",
      "4 2015-01-16  200.179993  203.229996  199.949997  203.000000  181.070328   \n",
      "\n",
      "    Volume  Month_1  Month_2  Month_3  ...  RSI_overbought  RSI_oversold  \\\n",
      "0  3501600        1        0        0  ...           False         False   \n",
      "1  8469500        1        0        0  ...           False         False   \n",
      "2  8016900        1        0        0  ...           False         False   \n",
      "3  8726300        1        0        0  ...           False          True   \n",
      "4  4981700        1        0        0  ...           False         False   \n",
      "\n",
      "   prev_hot_streak  prev_cold_streak  current_hot_streak  current_cold_streak  \\\n",
      "0              2.0               3.0                 0.0                  2.0   \n",
      "1              2.0               3.0                 0.0                  3.0   \n",
      "2              2.0               3.0                 0.0                  4.0   \n",
      "3              2.0               3.0                 0.0                  5.0   \n",
      "4              2.0               5.0                 1.0                  0.0   \n",
      "\n",
      "   prev_current_hot  prev_current_cold  current_hot_prev_cold  \\\n",
      "0               2.0                1.0                   -3.0   \n",
      "1               2.0                0.0                   -3.0   \n",
      "2               2.0               -1.0                   -3.0   \n",
      "3               2.0               -2.0                   -3.0   \n",
      "4               1.0                5.0                   -4.0   \n",
      "\n",
      "   current_cold_prev_hot  \n",
      "0                    0.0  \n",
      "1                    1.0  \n",
      "2                    2.0  \n",
      "3                    3.0  \n",
      "4                   -2.0  \n",
      "\n",
      "[5 rows x 51 columns]\n",
      "naive return: 19.21835656910838\n",
      "Training Accuracy: 54.62%\n",
      "\n",
      "Optimal Parameters: {'criterion': 'entropy', 'max_depth': 10, 'min_samples_leaf': 13, 'min_samples_split': 15, 'n_estimators': 10}\n",
      "{'model': 'RF', 'precision': 0.5238095238095238, 'recall': 0.5833333333333334, 'accuracy': 0.5, 'f1': 0.5519713261648745, 'return': 1.9508329944708107}\n",
      "{'model': 'Logistic', 'precision': 0.5782312925170068, 'recall': 0.5704697986577181, 'accuracy': 0.496, 'f1': 0.5743243243243242, 'return': 0.6703980349758716}\n",
      "{'model': 'SVM_poly', 'precision': 0.8231292517006803, 'recall': 0.5960591133004927, 'accuracy': 0.568, 'f1': 0.6914285714285714, 'return': 12.169712449685722}\n",
      "Fitting 4 folds for each of 400 candidates, totalling 1600 fits\n"
     ]
    },
    {
     "name": "stderr",
     "output_type": "stream",
     "text": [
      "[Parallel(n_jobs=10)]: Using backend LokyBackend with 10 concurrent workers.\n",
      "[Parallel(n_jobs=10)]: Done  30 tasks      | elapsed:    2.5s\n",
      "[Parallel(n_jobs=10)]: Done 290 tasks      | elapsed:    9.0s\n",
      "[Parallel(n_jobs=10)]: Done 790 tasks      | elapsed:   21.5s\n",
      "[Parallel(n_jobs=10)]: Done 1490 tasks      | elapsed:   38.4s\n",
      "[Parallel(n_jobs=10)]: Done 1581 out of 1600 | elapsed:   41.4s remaining:    0.5s\n"
     ]
    },
    {
     "name": "stdout",
     "output_type": "stream",
     "text": [
      "Training Accuracy: 52.88%\n",
      "\n",
      "Optimal Parameters: {'learning_rate': 0.1, 'max_depth': 8, 'n_estimators': 60}\n",
      "{'model': 'XGB', 'precision': 0.3673469387755102, 'recall': 0.5934065934065934, 'accuracy': 0.48, 'f1': 0.453781512605042, 'return': -34.654435008411994}\n"
     ]
    },
    {
     "name": "stderr",
     "output_type": "stream",
     "text": [
      "[Parallel(n_jobs=10)]: Done 1600 out of 1600 | elapsed:   42.0s finished\n"
     ]
    },
    {
     "data": {
      "text/plain": [
       "({'model': 'RF',\n",
       "  'precision': 0.5238095238095238,\n",
       "  'recall': 0.5833333333333334,\n",
       "  'accuracy': 0.5,\n",
       "  'f1': 0.5519713261648745,\n",
       "  'return': 1.9508329944708107},\n",
       " {'model': 'Logistic',\n",
       "  'precision': 0.5782312925170068,\n",
       "  'recall': 0.5704697986577181,\n",
       "  'accuracy': 0.496,\n",
       "  'f1': 0.5743243243243242,\n",
       "  'return': 0.6703980349758716},\n",
       " {'model': 'SVM_poly',\n",
       "  'precision': 0.8231292517006803,\n",
       "  'recall': 0.5960591133004927,\n",
       "  'accuracy': 0.568,\n",
       "  'f1': 0.6914285714285714,\n",
       "  'return': 12.169712449685722},\n",
       " {'model': 'XGB',\n",
       "  'precision': 0.3673469387755102,\n",
       "  'recall': 0.5934065934065934,\n",
       "  'accuracy': 0.48,\n",
       "  'f1': 0.453781512605042,\n",
       "  'return': -34.654435008411994})"
      ]
     },
     "execution_count": 66,
     "metadata": {},
     "output_type": "execute_result"
    },
    {
     "data": {
      "image/png": "[encoded data removed]",
      "text/plain": [
       "<Figure size 576x576 with 1 Axes>"
      ]
     },
     "metadata": {
      "needs_background": "light"
     },
     "output_type": "display_data"
    }
   ],
   "source": [
    "fname = os.path.join(os.path.abspath(os.getcwd()),'data','largecap','IVV.csv')\n",
    "daily_prediction_analysis(fname)"
   ]
  },
  {
   "cell_type": "code",
   "execution_count": 67,
   "metadata": {},
   "outputs": [
    {
     "name": "stdout",
     "output_type": "stream",
     "text": [
      "        Date       Open       High        Low      Close  Adj Close    Volume  \\\n",
      "0 2015-01-12  75.389999  75.389999  73.760002  74.160004  59.673450  28940600   \n",
      "1 2015-01-13  74.459999  75.040001  72.879997  73.570000  59.198700  34051400   \n",
      "2 2015-01-14  72.870003  73.910004  71.699997  73.800003  59.383778  52152500   \n",
      "3 2015-01-15  74.669998  74.860001  72.800003  72.860001  58.627396  41346000   \n",
      "4 2015-01-16  73.290001  75.330002  73.230003  75.230003  60.534447  42741900   \n",
      "\n",
      "   Month_1  Month_2  Month_3  ...  RSI_overbought  RSI_oversold  \\\n",
      "0        1        0        0  ...           False          True   \n",
      "1        1        0        0  ...           False          True   \n",
      "2        1        0        0  ...           False          True   \n",
      "3        1        0        0  ...           False          True   \n",
      "4        1        0        0  ...           False         False   \n",
      "\n",
      "   prev_hot_streak  prev_cold_streak  current_hot_streak  current_cold_streak  \\\n",
      "0              2.0               2.0                 0.0                  2.0   \n",
      "1              2.0               2.0                 0.0                  3.0   \n",
      "2              2.0               3.0                 1.0                  0.0   \n",
      "3              1.0               3.0                 0.0                  1.0   \n",
      "4              1.0               1.0                 1.0                  0.0   \n",
      "\n",
      "   prev_current_hot  prev_current_cold  current_hot_prev_cold  \\\n",
      "0               2.0                0.0                   -2.0   \n",
      "1               2.0               -1.0                   -2.0   \n",
      "2               1.0                3.0                   -2.0   \n",
      "3               1.0                2.0                   -3.0   \n",
      "4               0.0                1.0                    0.0   \n",
      "\n",
      "   current_cold_prev_hot  \n",
      "0                    0.0  \n",
      "1                    1.0  \n",
      "2                   -2.0  \n",
      "3                    0.0  \n",
      "4                   -1.0  \n",
      "\n",
      "[5 rows x 51 columns]\n",
      "naive return: 7.2398908881679205\n",
      "Training Accuracy: 55.38%\n",
      "\n",
      "Optimal Parameters: {'criterion': 'gini', 'max_depth': 10, 'min_samples_leaf': 13, 'min_samples_split': 10, 'n_estimators': 10}\n",
      "{'model': 'RF', 'precision': 0.4166666666666667, 'recall': 0.5092592592592593, 'accuracy': 0.48, 'f1': 0.4583333333333333, 'return': -5.424315482963985}\n",
      "{'model': 'Logistic', 'precision': 0.29545454545454547, 'recall': 0.4936708860759494, 'accuracy': 0.468, 'f1': 0.3696682464454977, 'return': -17.108761781699627}\n",
      "{'model': 'SVM_poly', 'precision': 0.3939393939393939, 'recall': 0.5252525252525253, 'accuracy': 0.492, 'f1': 0.45021645021645024, 'return': -0.03706520400860569}\n",
      "Fitting 4 folds for each of 400 candidates, totalling 1600 fits\n"
     ]
    },
    {
     "name": "stderr",
     "output_type": "stream",
     "text": [
      "[Parallel(n_jobs=10)]: Using backend LokyBackend with 10 concurrent workers.\n",
      "[Parallel(n_jobs=10)]: Done  40 tasks      | elapsed:    0.5s\n",
      "[Parallel(n_jobs=10)]: Done 340 tasks      | elapsed:    7.9s\n",
      "[Parallel(n_jobs=10)]: Done 840 tasks      | elapsed:   19.1s\n",
      "[Parallel(n_jobs=10)]: Done 1540 tasks      | elapsed:   37.0s\n"
     ]
    },
    {
     "name": "stdout",
     "output_type": "stream",
     "text": [
      "Training Accuracy: 54.88%\n",
      "\n",
      "Optimal Parameters: {'learning_rate': 0.1, 'max_depth': 4, 'n_estimators': 100}\n",
      "{'model': 'XGB', 'precision': 0.3712121212121212, 'recall': 0.48514851485148514, 'accuracy': 0.46, 'f1': 0.4206008583690987, 'return': -7.900983934725948}\n"
     ]
    },
    {
     "name": "stderr",
     "output_type": "stream",
     "text": [
      "[Parallel(n_jobs=10)]: Done 1600 out of 1600 | elapsed:   39.1s finished\n"
     ]
    },
    {
     "data": {
      "text/plain": [
       "({'model': 'RF',\n",
       "  'precision': 0.4166666666666667,\n",
       "  'recall': 0.5092592592592593,\n",
       "  'accuracy': 0.48,\n",
       "  'f1': 0.4583333333333333,\n",
       "  'return': -5.424315482963985},\n",
       " {'model': 'Logistic',\n",
       "  'precision': 0.29545454545454547,\n",
       "  'recall': 0.4936708860759494,\n",
       "  'accuracy': 0.468,\n",
       "  'f1': 0.3696682464454977,\n",
       "  'return': -17.108761781699627},\n",
       " {'model': 'SVM_poly',\n",
       "  'precision': 0.3939393939393939,\n",
       "  'recall': 0.5252525252525253,\n",
       "  'accuracy': 0.492,\n",
       "  'f1': 0.45021645021645024,\n",
       "  'return': -0.03706520400860569},\n",
       " {'model': 'XGB',\n",
       "  'precision': 0.3712121212121212,\n",
       "  'recall': 0.48514851485148514,\n",
       "  'accuracy': 0.46,\n",
       "  'f1': 0.4206008583690987,\n",
       "  'return': -7.900983934725948})"
      ]
     },
     "execution_count": 67,
     "metadata": {},
     "output_type": "execute_result"
    },
    {
     "data": {
      "image/png": "[encoded data removed]",
      "text/plain": [
       "<Figure size 576x576 with 1 Axes>"
      ]
     },
     "metadata": {
      "needs_background": "light"
     },
     "output_type": "display_data"
    }
   ],
   "source": [
    "fname = os.path.join(os.path.abspath(os.getcwd()),'data','energy','XLE.csv')\n",
    "daily_prediction_analysis(fname)"
   ]
  },
  {
   "cell_type": "code",
   "execution_count": 68,
   "metadata": {},
   "outputs": [
    {
     "name": "stdout",
     "output_type": "stream",
     "text": [
      "        Date       Open       High        Low      Close  Adj Close    Volume  \\\n",
      "0 2015-01-12  70.750000  71.000000  70.050003  70.239998  64.028023  11972100   \n",
      "1 2015-01-13  70.900002  71.290001  69.339996  69.930000  63.745449  14219800   \n",
      "2 2015-01-14  69.260002  70.000000  69.070000  69.820000  63.645199  12548000   \n",
      "3 2015-01-15  70.080002  70.209999  69.029999  69.070000  62.961517  16382800   \n",
      "4 2015-01-16  68.959999  70.500000  68.940002  70.370003  64.146545  13759300   \n",
      "\n",
      "   Month_1  Month_2  Month_3  ...  RSI_overbought  RSI_oversold  \\\n",
      "0        1        0        0  ...            True         False   \n",
      "1        1        0        0  ...           False         False   \n",
      "2        1        0        0  ...           False         False   \n",
      "3        1        0        0  ...           False         False   \n",
      "4        1        0        0  ...           False         False   \n",
      "\n",
      "   prev_hot_streak  prev_cold_streak  current_hot_streak  current_cold_streak  \\\n",
      "0              2.0               1.0                 1.0                  0.0   \n",
      "1              1.0               1.0                 0.0                  1.0   \n",
      "2              1.0               1.0                 0.0                  2.0   \n",
      "3              1.0               1.0                 0.0                  3.0   \n",
      "4              1.0               3.0                 1.0                  0.0   \n",
      "\n",
      "   prev_current_hot  prev_current_cold  current_hot_prev_cold  \\\n",
      "0               1.0                1.0                    0.0   \n",
      "1               1.0                0.0                   -1.0   \n",
      "2               1.0               -1.0                   -1.0   \n",
      "3               1.0               -2.0                   -1.0   \n",
      "4               0.0                3.0                   -2.0   \n",
      "\n",
      "   current_cold_prev_hot  \n",
      "0                   -2.0  \n",
      "1                    0.0  \n",
      "2                    1.0  \n",
      "3                    2.0  \n",
      "4                   -1.0  \n",
      "\n",
      "[5 rows x 51 columns]\n",
      "naive return: 11.813299884642424\n",
      "Training Accuracy: 58.00%\n",
      "\n",
      "Optimal Parameters: {'criterion': 'entropy', 'max_depth': 2, 'min_samples_leaf': 3, 'min_samples_split': 5, 'n_estimators': 7}\n",
      "{'model': 'RF', 'precision': 0.9154929577464789, 'recall': 0.5855855855855856, 'accuracy': 0.584, 'f1': 0.7142857142857143, 'return': 14.991640753141926}\n",
      "{'model': 'Logistic', 'precision': 0.8943661971830986, 'recall': 0.5619469026548672, 'accuracy': 0.544, 'f1': 0.6902173913043479, 'return': 1.6883731865727718}\n",
      "{'model': 'SVM_poly', 'precision': 1.0, 'recall': 0.568, 'accuracy': 0.568, 'f1': 0.7244897959183673, 'return': 11.813299884642424}\n",
      "Fitting 4 folds for each of 400 candidates, totalling 1600 fits\n"
     ]
    },
    {
     "name": "stderr",
     "output_type": "stream",
     "text": [
      "[Parallel(n_jobs=10)]: Using backend LokyBackend with 10 concurrent workers.\n",
      "[Parallel(n_jobs=10)]: Done  40 tasks      | elapsed:    0.5s\n",
      "[Parallel(n_jobs=10)]: Done 340 tasks      | elapsed:    7.5s\n",
      "[Parallel(n_jobs=10)]: Done 840 tasks      | elapsed:   19.0s\n",
      "[Parallel(n_jobs=10)]: Done 1540 tasks      | elapsed:   35.8s\n"
     ]
    },
    {
     "name": "stdout",
     "output_type": "stream",
     "text": [
      "Training Accuracy: 57.12%\n",
      "\n",
      "Optimal Parameters: {'learning_rate': 0.003, 'max_depth': 2, 'n_estimators': 100}\n",
      "{'model': 'XGB', 'precision': 0.9366197183098591, 'recall': 0.5833333333333334, 'accuracy': 0.584, 'f1': 0.7189189189189189, 'return': 14.336860084176013}\n"
     ]
    },
    {
     "name": "stderr",
     "output_type": "stream",
     "text": [
      "[Parallel(n_jobs=10)]: Done 1600 out of 1600 | elapsed:   37.9s finished\n"
     ]
    },
    {
     "data": {
      "text/plain": [
       "({'model': 'RF',\n",
       "  'precision': 0.9154929577464789,\n",
       "  'recall': 0.5855855855855856,\n",
       "  'accuracy': 0.584,\n",
       "  'f1': 0.7142857142857143,\n",
       "  'return': 14.991640753141926},\n",
       " {'model': 'Logistic',\n",
       "  'precision': 0.8943661971830986,\n",
       "  'recall': 0.5619469026548672,\n",
       "  'accuracy': 0.544,\n",
       "  'f1': 0.6902173913043479,\n",
       "  'return': 1.6883731865727718},\n",
       " {'model': 'SVM_poly',\n",
       "  'precision': 1.0,\n",
       "  'recall': 0.568,\n",
       "  'accuracy': 0.568,\n",
       "  'f1': 0.7244897959183673,\n",
       "  'return': 11.813299884642424},\n",
       " {'model': 'XGB',\n",
       "  'precision': 0.9366197183098591,\n",
       "  'recall': 0.5833333333333334,\n",
       "  'accuracy': 0.584,\n",
       "  'f1': 0.7189189189189189,\n",
       "  'return': 14.336860084176013})"
      ]
     },
     "execution_count": 68,
     "metadata": {},
     "output_type": "execute_result"
    },
    {
     "data": {
      "image/png": "[encoded data removed]",
      "text/plain": [
       "<Figure size 576x576 with 1 Axes>"
      ]
     },
     "metadata": {
      "needs_background": "light"
     },
     "output_type": "display_data"
    }
   ],
   "source": [
    "fname = os.path.join(os.path.abspath(os.getcwd()),'data','health','XLV.csv')\n",
    "daily_prediction_analysis(fname)"
   ]
  },
  {
   "cell_type": "code",
   "execution_count": 14,
   "metadata": {},
   "outputs": [
    {
     "name": "stdout",
     "output_type": "stream",
     "text": [
      "        Date        Open        High         Low       Close   Adj Close  \\\n",
      "0 2015-01-12  117.459999  118.709999  117.320000  118.559998  118.559998   \n",
      "1 2015-01-13  118.959999  119.190002  117.870003  118.160004  118.160004   \n",
      "2 2015-01-14  119.080002  119.320000  117.900002  117.970001  117.970001   \n",
      "3 2015-01-15  120.410004  121.699997  120.339996  120.940002  120.940002   \n",
      "4 2015-01-16  121.730003  123.150002  121.709999  122.519997  122.519997   \n",
      "\n",
      "     Volume  Month_1  Month_2  Month_3  ...  RSI_overbought  RSI_oversold  \\\n",
      "0   8318200        1        0        0  ...            True         False   \n",
      "1   7693200        1        0        0  ...            True         False   \n",
      "2   7727400        1        0        0  ...            True         False   \n",
      "3  17692500        1        0        0  ...            True         False   \n",
      "4  14428200        1        0        0  ...            True         False   \n",
      "\n",
      "   prev_hot_streak  prev_cold_streak  current_hot_streak  current_cold_streak  \\\n",
      "0              3.0               3.0                 2.0                  0.0   \n",
      "1              2.0               3.0                 0.0                  1.0   \n",
      "2              2.0               3.0                 0.0                  2.0   \n",
      "3              2.0               2.0                 1.0                  0.0   \n",
      "4              2.0               2.0                 2.0                  0.0   \n",
      "\n",
      "   prev_current_hot  prev_current_cold  current_hot_prev_cold  \\\n",
      "0               1.0                3.0                   -1.0   \n",
      "1               2.0                2.0                   -3.0   \n",
      "2               2.0                1.0                   -3.0   \n",
      "3               1.0                2.0                   -1.0   \n",
      "4               0.0                2.0                    0.0   \n",
      "\n",
      "   current_cold_prev_hot  \n",
      "0                   -3.0  \n",
      "1                   -1.0  \n",
      "2                    0.0  \n",
      "3                   -2.0  \n",
      "4                   -2.0  \n",
      "\n",
      "[5 rows x 51 columns]\n",
      "here\n",
      "naive return: -15.908782405937544\n",
      "Training Accuracy: 50.60%\n",
      "\n",
      "Optimal Parameters: {'criterion': 'entropy', 'max_depth': None, 'min_samples_leaf': 5, 'min_samples_split': 5, 'n_estimators': 100}\n",
      "{'model': 'RF', 'precision': 0.5538461538461539, 'recall': 0.5333333333333333, 'accuracy': 0.516, 'f1': 0.5433962264150943, 'return': 3.8708217458592653}\n",
      "{'model': 'Logistic', 'precision': 0.5846153846153846, 'recall': 0.5588235294117647, 'accuracy': 0.544, 'f1': 0.5714285714285715, 'return': 45.06371395545608}\n",
      "{'model': 'SVM_poly', 'precision': 0.823076923076923, 'recall': 0.535, 'accuracy': 0.536, 'f1': 0.6484848484848486, 'return': 10.625251167163063}\n",
      "Fitting 5 folds for each of 400 candidates, totalling 2000 fits\n"
     ]
    },
    {
     "name": "stderr",
     "output_type": "stream",
     "text": [
      "[Parallel(n_jobs=10)]: Using backend LokyBackend with 10 concurrent workers.\n",
      "[Parallel(n_jobs=10)]: Done  40 tasks      | elapsed:    0.7s\n",
      "[Parallel(n_jobs=10)]: Done 340 tasks      | elapsed:   11.7s\n",
      "[Parallel(n_jobs=10)]: Done 600 tasks      | elapsed:   19.9s\n",
      "[Parallel(n_jobs=10)]: Done 950 tasks      | elapsed:   33.0s\n",
      "[Parallel(n_jobs=10)]: Done 1400 tasks      | elapsed:   50.1s\n",
      "[Parallel(n_jobs=10)]: Done 1950 tasks      | elapsed:  1.2min\n",
      "[Parallel(n_jobs=10)]: Done 2000 out of 2000 | elapsed:  1.3min finished\n"
     ]
    },
    {
     "name": "stdout",
     "output_type": "stream",
     "text": [
      "Training Accuracy: 54.10%\n",
      "\n",
      "Optimal Parameters: {'learning_rate': 0.001, 'max_depth': 7, 'n_estimators': 50}\n",
      "{'model': 'XGB', 'precision': 0.6692307692307692, 'recall': 0.5087719298245614, 'accuracy': 0.492, 'f1': 0.5780730897009966, 'return': 10.914556063929005}\n",
      "{'model': 'stack', 'precision': 0.9461538461538461, 'recall': 0.5168067226890757, 'accuracy': 0.512, 'f1': 0.6684782608695652, 'return': -9.459003882101202}\n"
     ]
    },
    {
     "data": {
      "text/plain": [
       "({'model': 'RF',\n",
       "  'precision': 0.5538461538461539,\n",
       "  'recall': 0.5333333333333333,\n",
       "  'accuracy': 0.516,\n",
       "  'f1': 0.5433962264150943,\n",
       "  'return': 3.8708217458592653},\n",
       " {'model': 'Logistic',\n",
       "  'precision': 0.5846153846153846,\n",
       "  'recall': 0.5588235294117647,\n",
       "  'accuracy': 0.544,\n",
       "  'f1': 0.5714285714285715,\n",
       "  'return': 45.06371395545608},\n",
       " {'model': 'SVM_poly',\n",
       "  'precision': 0.823076923076923,\n",
       "  'recall': 0.535,\n",
       "  'accuracy': 0.536,\n",
       "  'f1': 0.6484848484848486,\n",
       "  'return': 10.625251167163063},\n",
       " {'model': 'XGB',\n",
       "  'precision': 0.6692307692307692,\n",
       "  'recall': 0.5087719298245614,\n",
       "  'accuracy': 0.492,\n",
       "  'f1': 0.5780730897009966,\n",
       "  'return': 10.914556063929005},\n",
       " {'model': 'stack',\n",
       "  'precision': 0.9461538461538461,\n",
       "  'recall': 0.5168067226890757,\n",
       "  'accuracy': 0.512,\n",
       "  'f1': 0.6684782608695652,\n",
       "  'return': -9.459003882101202})"
      ]
     },
     "execution_count": 14,
     "metadata": {},
     "output_type": "execute_result"
    }
   ],
   "source": [
    "fname = os.path.join(os.path.abspath(os.getcwd()),'data','10_ETF','GLD.csv')\n",
    "daily_prediction_analysis(fname)"
   ]
  },
  {
   "cell_type": "code",
   "execution_count": 15,
   "metadata": {},
   "outputs": [
    {
     "name": "stdout",
     "output_type": "stream",
     "text": [
      "   Unnamed: 0       Date  Adj Close     Close      Open      High       Low  \\\n",
      "0           7 2015-01-12   0.991195  0.991195  1.000550  0.994688  0.985314   \n",
      "1           8 2015-01-13   0.995615  0.995615  1.000200  0.999193  0.992750   \n",
      "2           9 2015-01-14   0.999490  0.999490  1.001010  1.001477  0.997761   \n",
      "3          10 2015-01-15   1.005221  1.005221  1.011141  1.020030  1.000606   \n",
      "4          11 2015-01-16   1.018237  1.018237  1.018951  1.018803  1.001674   \n",
      "\n",
      "      Volume  Month_1  Month_2  ...  RSI_overbought  RSI_oversold  \\\n",
      "0  101275600        1        0  ...           False         False   \n",
      "1   61903800        1        0  ...           False         False   \n",
      "2   86265800        1        0  ...           False         False   \n",
      "3   65838700        1        0  ...           False         False   \n",
      "4  162401500        1        0  ...           False         False   \n",
      "\n",
      "   prev_hot_streak  prev_cold_streak  current_hot_streak  current_cold_streak  \\\n",
      "0              3.0               3.0                 0.0                  2.0   \n",
      "1              3.0               2.0                 1.0                  0.0   \n",
      "2              3.0               2.0                 2.0                  0.0   \n",
      "3              3.0               2.0                 3.0                  0.0   \n",
      "4              3.0               2.0                 4.0                  0.0   \n",
      "\n",
      "   prev_current_hot  prev_current_cold  current_hot_prev_cold  \\\n",
      "0               3.0                1.0                   -3.0   \n",
      "1               2.0                2.0                   -1.0   \n",
      "2               1.0                2.0                    0.0   \n",
      "3               0.0                2.0                    1.0   \n",
      "4              -1.0                2.0                    2.0   \n",
      "\n",
      "   current_cold_prev_hot  \n",
      "0                   -1.0  \n",
      "1                   -3.0  \n",
      "2                   -3.0  \n",
      "3                   -3.0  \n",
      "4                   -3.0  \n",
      "\n",
      "[5 rows x 52 columns]\n",
      "here\n",
      "naive return: 2.2716294840055884\n",
      "Training Accuracy: 53.40%\n",
      "\n",
      "Optimal Parameters: {'criterion': 'gini', 'max_depth': 10, 'min_samples_leaf': 3, 'min_samples_split': 15, 'n_estimators': 100}\n",
      "{'model': 'RF', 'precision': 0.5939849624060151, 'recall': 0.512987012987013, 'accuracy': 0.484, 'f1': 0.5505226480836237, 'return': -1.3042007420066941}\n",
      "{'model': 'Logistic', 'precision': 0.5413533834586466, 'recall': 0.5454545454545454, 'accuracy': 0.516, 'f1': 0.5433962264150943, 'return': 3.4088335572279136}\n",
      "{'model': 'SVM_poly', 'precision': 0.5263157894736842, 'recall': 0.48951048951048953, 'accuracy': 0.456, 'f1': 0.5072463768115942, 'return': 14.793546088379149}\n",
      "Fitting 5 folds for each of 400 candidates, totalling 2000 fits\n"
     ]
    },
    {
     "name": "stderr",
     "output_type": "stream",
     "text": [
      "[Parallel(n_jobs=10)]: Using backend LokyBackend with 10 concurrent workers.\n",
      "[Parallel(n_jobs=10)]: Done  40 tasks      | elapsed:    0.8s\n",
      "[Parallel(n_jobs=10)]: Done 338 tasks      | elapsed:   12.4s\n",
      "[Parallel(n_jobs=10)]: Done 590 tasks      | elapsed:   21.9s\n",
      "[Parallel(n_jobs=10)]: Done 940 tasks      | elapsed:   36.3s\n",
      "[Parallel(n_jobs=10)]: Done 1390 tasks      | elapsed:   53.9s\n",
      "[Parallel(n_jobs=10)]: Done 1940 tasks      | elapsed:  1.3min\n",
      "[Parallel(n_jobs=10)]: Done 2000 out of 2000 | elapsed:  1.3min finished\n"
     ]
    },
    {
     "name": "stdout",
     "output_type": "stream",
     "text": [
      "Training Accuracy: 54.30%\n",
      "\n",
      "Optimal Parameters: {'learning_rate': 0.1, 'max_depth': 8, 'n_estimators': 100}\n",
      "{'model': 'XGB', 'precision': 0.5037593984962406, 'recall': 0.536, 'accuracy': 0.504, 'f1': 0.5193798449612403, 'return': -6.325186316147557}\n",
      "{'model': 'stack', 'precision': 0.6766917293233082, 'recall': 0.5357142857142857, 'accuracy': 0.516, 'f1': 0.5980066445182725, 'return': -7.94637603753763}\n"
     ]
    },
    {
     "data": {
      "text/plain": [
       "({'model': 'RF',\n",
       "  'precision': 0.5939849624060151,\n",
       "  'recall': 0.512987012987013,\n",
       "  'accuracy': 0.484,\n",
       "  'f1': 0.5505226480836237,\n",
       "  'return': -1.3042007420066941},\n",
       " {'model': 'Logistic',\n",
       "  'precision': 0.5413533834586466,\n",
       "  'recall': 0.5454545454545454,\n",
       "  'accuracy': 0.516,\n",
       "  'f1': 0.5433962264150943,\n",
       "  'return': 3.4088335572279136},\n",
       " {'model': 'SVM_poly',\n",
       "  'precision': 0.5263157894736842,\n",
       "  'recall': 0.48951048951048953,\n",
       "  'accuracy': 0.456,\n",
       "  'f1': 0.5072463768115942,\n",
       "  'return': 14.793546088379149},\n",
       " {'model': 'XGB',\n",
       "  'precision': 0.5037593984962406,\n",
       "  'recall': 0.536,\n",
       "  'accuracy': 0.504,\n",
       "  'f1': 0.5193798449612403,\n",
       "  'return': -6.325186316147557},\n",
       " {'model': 'stack',\n",
       "  'precision': 0.6766917293233082,\n",
       "  'recall': 0.5357142857142857,\n",
       "  'accuracy': 0.516,\n",
       "  'f1': 0.5980066445182725,\n",
       "  'return': -7.94637603753763})"
      ]
     },
     "execution_count": 15,
     "metadata": {},
     "output_type": "execute_result"
    }
   ],
   "source": [
    "fname = os.path.join(os.path.abspath(os.getcwd()),'data','10_ETF','random1.csv')\n",
    "daily_prediction_analysis(fname)"
   ]
  },
  {
   "cell_type": "code",
   "execution_count": 16,
   "metadata": {},
   "outputs": [
    {
     "name": "stdout",
     "output_type": "stream",
     "text": [
      "   Unnamed: 0       Date  Adj Close     Close      Open      High       Low  \\\n",
      "0           7 2015-01-12   1.000883  1.000883  0.996297  1.007041  1.000831   \n",
      "1           8 2015-01-13   1.000305  1.000305  1.001973  1.001205  0.996635   \n",
      "2           9 2015-01-14   1.000858  1.000858  0.996747  1.001598  0.990011   \n",
      "3          10 2015-01-15   0.994789  0.994789  0.995467  0.998964  0.988048   \n",
      "4          11 2015-01-16   1.004490  1.004490  0.996246  1.012518  1.003691   \n",
      "\n",
      "     Volume  Month_1  Month_2  ...  RSI_overbought  RSI_oversold  \\\n",
      "0  97307400        1        0  ...           False         False   \n",
      "1  60067000        1        0  ...           False         False   \n",
      "2  58892500        1        0  ...           False         False   \n",
      "3  81503900        1        0  ...           False         False   \n",
      "4  64211200        1        0  ...           False         False   \n",
      "\n",
      "   prev_hot_streak  prev_cold_streak  current_hot_streak  current_cold_streak  \\\n",
      "0              1.0               3.0                 1.0                  0.0   \n",
      "1              1.0               3.0                 0.0                  1.0   \n",
      "2              1.0               1.0                 1.0                  0.0   \n",
      "3              1.0               1.0                 0.0                  1.0   \n",
      "4              1.0               1.0                 1.0                  0.0   \n",
      "\n",
      "   prev_current_hot  prev_current_cold  current_hot_prev_cold  \\\n",
      "0               0.0                3.0                   -2.0   \n",
      "1               1.0                2.0                   -3.0   \n",
      "2               0.0                1.0                    0.0   \n",
      "3               1.0                0.0                   -1.0   \n",
      "4               0.0                1.0                    0.0   \n",
      "\n",
      "   current_cold_prev_hot  \n",
      "0                   -1.0  \n",
      "1                    0.0  \n",
      "2                   -1.0  \n",
      "3                    0.0  \n",
      "4                   -1.0  \n",
      "\n",
      "[5 rows x 52 columns]\n",
      "here\n",
      "naive return: 7.78053317874085\n",
      "Training Accuracy: 53.20%\n",
      "\n",
      "Optimal Parameters: {'criterion': 'entropy', 'max_depth': 3, 'min_samples_leaf': 5, 'min_samples_split': 5, 'n_estimators': 100}\n",
      "{'model': 'RF', 'precision': 0.552, 'recall': 0.5227272727272727, 'accuracy': 0.524, 'f1': 0.5369649805447471, 'return': -5.200343430283722}\n",
      "{'model': 'Logistic', 'precision': 0.52, 'recall': 0.5241935483870968, 'accuracy': 0.524, 'f1': 0.5220883534136547, 'return': 8.127272995157957}\n",
      "{'model': 'SVM_poly', 'precision': 0.88, 'recall': 0.4954954954954955, 'accuracy': 0.492, 'f1': 0.6340057636887608, 'return': 15.883007274135629}\n",
      "Fitting 5 folds for each of 400 candidates, totalling 2000 fits\n"
     ]
    },
    {
     "name": "stderr",
     "output_type": "stream",
     "text": [
      "[Parallel(n_jobs=10)]: Using backend LokyBackend with 10 concurrent workers.\n",
      "[Parallel(n_jobs=10)]: Done  40 tasks      | elapsed:    0.7s\n",
      "[Parallel(n_jobs=10)]: Done 340 tasks      | elapsed:   11.7s\n",
      "[Parallel(n_jobs=10)]: Done 600 tasks      | elapsed:   20.0s\n",
      "[Parallel(n_jobs=10)]: Done 950 tasks      | elapsed:   33.9s\n",
      "[Parallel(n_jobs=10)]: Done 1400 tasks      | elapsed:   51.3s\n",
      "[Parallel(n_jobs=10)]: Done 1950 tasks      | elapsed:  1.2min\n",
      "[Parallel(n_jobs=10)]: Done 2000 out of 2000 | elapsed:  1.3min finished\n"
     ]
    },
    {
     "name": "stdout",
     "output_type": "stream",
     "text": [
      "Training Accuracy: 55.00%\n",
      "\n",
      "Optimal Parameters: {'learning_rate': 0.01, 'max_depth': 6, 'n_estimators': 110}\n",
      "{'model': 'XGB', 'precision': 0.496, 'recall': 0.512396694214876, 'accuracy': 0.512, 'f1': 0.5040650406504064, 'return': 8.395649334171173}\n",
      "{'model': 'stack', 'precision': 0.624, 'recall': 0.4936708860759494, 'accuracy': 0.492, 'f1': 0.5512367491166077, 'return': 1.6176108938911433}\n"
     ]
    },
    {
     "data": {
      "text/plain": [
       "({'model': 'RF',\n",
       "  'precision': 0.552,\n",
       "  'recall': 0.5227272727272727,\n",
       "  'accuracy': 0.524,\n",
       "  'f1': 0.5369649805447471,\n",
       "  'return': -5.200343430283722},\n",
       " {'model': 'Logistic',\n",
       "  'precision': 0.52,\n",
       "  'recall': 0.5241935483870968,\n",
       "  'accuracy': 0.524,\n",
       "  'f1': 0.5220883534136547,\n",
       "  'return': 8.127272995157957},\n",
       " {'model': 'SVM_poly',\n",
       "  'precision': 0.88,\n",
       "  'recall': 0.4954954954954955,\n",
       "  'accuracy': 0.492,\n",
       "  'f1': 0.6340057636887608,\n",
       "  'return': 15.883007274135629},\n",
       " {'model': 'XGB',\n",
       "  'precision': 0.496,\n",
       "  'recall': 0.512396694214876,\n",
       "  'accuracy': 0.512,\n",
       "  'f1': 0.5040650406504064,\n",
       "  'return': 8.395649334171173},\n",
       " {'model': 'stack',\n",
       "  'precision': 0.624,\n",
       "  'recall': 0.4936708860759494,\n",
       "  'accuracy': 0.492,\n",
       "  'f1': 0.5512367491166077,\n",
       "  'return': 1.6176108938911433})"
      ]
     },
     "execution_count": 16,
     "metadata": {},
     "output_type": "execute_result"
    }
   ],
   "source": [
    "fname = os.path.join(os.path.abspath(os.getcwd()),'data','10_ETF','random2.csv')\n",
    "daily_prediction_analysis(fname)"
   ]
  },
  {
   "cell_type": "code",
   "execution_count": 17,
   "metadata": {},
   "outputs": [
    {
     "name": "stdout",
     "output_type": "stream",
     "text": [
      "   Unnamed: 0       Date  Adj Close     Close      Open      High       Low  \\\n",
      "0           7 2015-01-12   1.003139  1.003139  0.989520  1.004266  0.995814   \n",
      "1           8 2015-01-13   1.018927  1.018927  1.023671  1.039766  1.016016   \n",
      "2           9 2015-01-14   1.006923  1.006923  0.996372  1.007353  1.004622   \n",
      "3          10 2015-01-15   0.998862  0.998862  1.002532  1.016135  0.996185   \n",
      "4          11 2015-01-16   0.994704  0.994704  0.990677  0.994799  0.993024   \n",
      "\n",
      "      Volume  Month_1  Month_2  ...  RSI_overbought  RSI_oversold  \\\n",
      "0   88939300        1        0  ...           False         False   \n",
      "1  116128900        1        0  ...            True         False   \n",
      "2  110145700        1        0  ...           False         False   \n",
      "3  131809300        1        0  ...           False         False   \n",
      "4   44778800        1        0  ...           False         False   \n",
      "\n",
      "   prev_hot_streak  prev_cold_streak  current_hot_streak  current_cold_streak  \\\n",
      "0              3.0               1.0                 1.0                  0.0   \n",
      "1              3.0               1.0                 2.0                  0.0   \n",
      "2              2.0               1.0                 0.0                  1.0   \n",
      "3              2.0               1.0                 0.0                  2.0   \n",
      "4              2.0               1.0                 0.0                  3.0   \n",
      "\n",
      "   prev_current_hot  prev_current_cold  current_hot_prev_cold  \\\n",
      "0               2.0                1.0                    0.0   \n",
      "1               1.0                1.0                    1.0   \n",
      "2               2.0                0.0                   -1.0   \n",
      "3               2.0               -1.0                   -1.0   \n",
      "4               2.0               -2.0                   -1.0   \n",
      "\n",
      "   current_cold_prev_hot  \n",
      "0                   -3.0  \n",
      "1                   -3.0  \n",
      "2                   -1.0  \n",
      "3                    0.0  \n",
      "4                    1.0  \n",
      "\n",
      "[5 rows x 52 columns]\n",
      "here\n",
      "naive return: -13.811392956877853\n",
      "Training Accuracy: 54.50%\n",
      "\n",
      "Optimal Parameters: {'criterion': 'gini', 'max_depth': 10, 'min_samples_leaf': 13, 'min_samples_split': 15, 'n_estimators': 100}\n",
      "{'model': 'RF', 'precision': 0.5, 'recall': 0.5, 'accuracy': 0.488, 'f1': 0.5, 'return': 8.90725077094455}\n",
      "{'model': 'Logistic', 'precision': 0.5546875, 'recall': 0.5503875968992248, 'accuracy': 0.54, 'f1': 0.5525291828793774, 'return': 14.0107189661687}\n",
      "{'model': 'SVM_poly', 'precision': 0.578125, 'recall': 0.5362318840579711, 'accuracy': 0.528, 'f1': 0.556390977443609, 'return': 3.2381463253413267}\n",
      "Fitting 5 folds for each of 400 candidates, totalling 2000 fits\n"
     ]
    },
    {
     "name": "stderr",
     "output_type": "stream",
     "text": [
      "[Parallel(n_jobs=10)]: Using backend LokyBackend with 10 concurrent workers.\n",
      "[Parallel(n_jobs=10)]: Done  30 tasks      | elapsed:    2.7s\n",
      "[Parallel(n_jobs=10)]: Done 180 tasks      | elapsed:    6.5s\n",
      "[Parallel(n_jobs=10)]: Done 430 tasks      | elapsed:   18.4s\n",
      "[Parallel(n_jobs=10)]: Done 780 tasks      | elapsed:   31.6s\n",
      "[Parallel(n_jobs=10)]: Done 1230 tasks      | elapsed:   48.5s\n",
      "[Parallel(n_jobs=10)]: Done 1780 tasks      | elapsed:  1.1min\n",
      "[Parallel(n_jobs=10)]: Done 2000 out of 2000 | elapsed:  1.3min finished\n"
     ]
    },
    {
     "name": "stdout",
     "output_type": "stream",
     "text": [
      "Training Accuracy: 52.90%\n",
      "\n",
      "Optimal Parameters: {'learning_rate': 0.1, 'max_depth': 2, 'n_estimators': 30}\n",
      "{'model': 'XGB', 'precision': 0.515625, 'recall': 0.49624060150375937, 'accuracy': 0.484, 'f1': 0.5057471264367815, 'return': 22.406157844708332}\n",
      "{'model': 'stack', 'precision': 0.3046875, 'recall': 0.46987951807228917, 'accuracy': 0.468, 'f1': 0.3696682464454976, 'return': 21.663706410380936}\n"
     ]
    },
    {
     "data": {
      "text/plain": [
       "({'model': 'RF',\n",
       "  'precision': 0.5,\n",
       "  'recall': 0.5,\n",
       "  'accuracy': 0.488,\n",
       "  'f1': 0.5,\n",
       "  'return': 8.90725077094455},\n",
       " {'model': 'Logistic',\n",
       "  'precision': 0.5546875,\n",
       "  'recall': 0.5503875968992248,\n",
       "  'accuracy': 0.54,\n",
       "  'f1': 0.5525291828793774,\n",
       "  'return': 14.0107189661687},\n",
       " {'model': 'SVM_poly',\n",
       "  'precision': 0.578125,\n",
       "  'recall': 0.5362318840579711,\n",
       "  'accuracy': 0.528,\n",
       "  'f1': 0.556390977443609,\n",
       "  'return': 3.2381463253413267},\n",
       " {'model': 'XGB',\n",
       "  'precision': 0.515625,\n",
       "  'recall': 0.49624060150375937,\n",
       "  'accuracy': 0.484,\n",
       "  'f1': 0.5057471264367815,\n",
       "  'return': 22.406157844708332},\n",
       " {'model': 'stack',\n",
       "  'precision': 0.3046875,\n",
       "  'recall': 0.46987951807228917,\n",
       "  'accuracy': 0.468,\n",
       "  'f1': 0.3696682464454976,\n",
       "  'return': 21.663706410380936})"
      ]
     },
     "execution_count": 17,
     "metadata": {},
     "output_type": "execute_result"
    }
   ],
   "source": [
    "fname = os.path.join(os.path.abspath(os.getcwd()),'data','10_ETF','random3.csv')\n",
    "daily_prediction_analysis(fname)"
   ]
  },
  {
   "cell_type": "code",
   "execution_count": 18,
   "metadata": {},
   "outputs": [
    {
     "name": "stdout",
     "output_type": "stream",
     "text": [
      "   Unnamed: 0       Date  Adj Close     Close      Open      High       Low  \\\n",
      "0           7 2015-01-12   1.012496  1.012496  1.008585  1.013507  1.010236   \n",
      "1           8 2015-01-13   1.010802  1.010802  1.009623  1.011213  1.010111   \n",
      "2           9 2015-01-14   1.006021  1.006021  1.009614  1.008938  0.992522   \n",
      "3          10 2015-01-15   1.006034  1.006034  0.998142  1.024376  1.003465   \n",
      "4          11 2015-01-16   1.010403  1.010403  1.016840  1.010523  1.008183   \n",
      "\n",
      "      Volume  Month_1  Month_2  ...  RSI_overbought  RSI_oversold  \\\n",
      "0  211003300        1        0  ...           False         False   \n",
      "1  153100200        1        0  ...           False         False   \n",
      "2   78448500        1        0  ...           False         False   \n",
      "3   95555300        1        0  ...           False         False   \n",
      "4   91230900        1        0  ...           False         False   \n",
      "\n",
      "   prev_hot_streak  prev_cold_streak  current_hot_streak  current_cold_streak  \\\n",
      "0              4.0               2.0                 0.0                  2.0   \n",
      "1              4.0               2.0                 0.0                  3.0   \n",
      "2              4.0               2.0                 0.0                  4.0   \n",
      "3              4.0               4.0                 1.0                  0.0   \n",
      "4              4.0               4.0                 2.0                  0.0   \n",
      "\n",
      "   prev_current_hot  prev_current_cold  current_hot_prev_cold  \\\n",
      "0               4.0                0.0                   -2.0   \n",
      "1               4.0               -1.0                   -2.0   \n",
      "2               4.0               -2.0                   -2.0   \n",
      "3               3.0                4.0                   -3.0   \n",
      "4               2.0                4.0                   -2.0   \n",
      "\n",
      "   current_cold_prev_hot  \n",
      "0                   -2.0  \n",
      "1                   -1.0  \n",
      "2                    0.0  \n",
      "3                   -4.0  \n",
      "4                   -4.0  \n",
      "\n",
      "[5 rows x 52 columns]\n",
      "here\n",
      "naive return: 12.599487136180608\n",
      "Training Accuracy: 50.80%\n",
      "\n",
      "Optimal Parameters: {'criterion': 'entropy', 'max_depth': 2, 'min_samples_leaf': 9, 'min_samples_split': 5, 'n_estimators': 100}\n",
      "{'model': 'RF', 'precision': 0.6029411764705882, 'recall': 0.5466666666666666, 'accuracy': 0.512, 'f1': 0.5734265734265734, 'return': -5.168798137838634}\n",
      "{'model': 'Logistic', 'precision': 0.4338235294117647, 'recall': 0.5, 'accuracy': 0.456, 'f1': 0.4645669291338583, 'return': -14.128312822502458}\n",
      "{'model': 'SVM_poly', 'precision': 1.0, 'recall': 0.544, 'accuracy': 0.544, 'f1': 0.7046632124352332, 'return': 12.599487136180608}\n",
      "Fitting 5 folds for each of 400 candidates, totalling 2000 fits\n"
     ]
    },
    {
     "name": "stderr",
     "output_type": "stream",
     "text": [
      "[Parallel(n_jobs=10)]: Using backend LokyBackend with 10 concurrent workers.\n",
      "[Parallel(n_jobs=10)]: Done  30 tasks      | elapsed:    2.6s\n",
      "[Parallel(n_jobs=10)]: Done 180 tasks      | elapsed:    6.5s\n",
      "[Parallel(n_jobs=10)]: Done 430 tasks      | elapsed:   18.5s\n",
      "[Parallel(n_jobs=10)]: Done 780 tasks      | elapsed:   32.4s\n",
      "[Parallel(n_jobs=10)]: Done 1230 tasks      | elapsed:   50.1s\n",
      "[Parallel(n_jobs=10)]: Done 1780 tasks      | elapsed:  1.2min\n",
      "[Parallel(n_jobs=10)]: Done 2000 out of 2000 | elapsed:  1.3min finished\n"
     ]
    },
    {
     "name": "stdout",
     "output_type": "stream",
     "text": [
      "Training Accuracy: 53.00%\n",
      "\n",
      "Optimal Parameters: {'learning_rate': 0.001, 'max_depth': 9, 'n_estimators': 70}\n",
      "{'model': 'XGB', 'precision': 0.4852941176470588, 'recall': 0.5196850393700787, 'accuracy': 0.476, 'f1': 0.5019011406844106, 'return': -1.1071965918696438}\n",
      "{'model': 'stack', 'precision': 0.9705882352941176, 'recall': 0.5387755102040817, 'accuracy': 0.532, 'f1': 0.6929133858267718, 'return': 17.45304166851533}\n"
     ]
    },
    {
     "data": {
      "text/plain": [
       "({'model': 'RF',\n",
       "  'precision': 0.6029411764705882,\n",
       "  'recall': 0.5466666666666666,\n",
       "  'accuracy': 0.512,\n",
       "  'f1': 0.5734265734265734,\n",
       "  'return': -5.168798137838634},\n",
       " {'model': 'Logistic',\n",
       "  'precision': 0.4338235294117647,\n",
       "  'recall': 0.5,\n",
       "  'accuracy': 0.456,\n",
       "  'f1': 0.4645669291338583,\n",
       "  'return': -14.128312822502458},\n",
       " {'model': 'SVM_poly',\n",
       "  'precision': 1.0,\n",
       "  'recall': 0.544,\n",
       "  'accuracy': 0.544,\n",
       "  'f1': 0.7046632124352332,\n",
       "  'return': 12.599487136180608},\n",
       " {'model': 'XGB',\n",
       "  'precision': 0.4852941176470588,\n",
       "  'recall': 0.5196850393700787,\n",
       "  'accuracy': 0.476,\n",
       "  'f1': 0.5019011406844106,\n",
       "  'return': -1.1071965918696438},\n",
       " {'model': 'stack',\n",
       "  'precision': 0.9705882352941176,\n",
       "  'recall': 0.5387755102040817,\n",
       "  'accuracy': 0.532,\n",
       "  'f1': 0.6929133858267718,\n",
       "  'return': 17.45304166851533})"
      ]
     },
     "execution_count": 18,
     "metadata": {},
     "output_type": "execute_result"
    }
   ],
   "source": [
    "fname = os.path.join(os.path.abspath(os.getcwd()),'data','10_ETF','random4.csv')\n",
    "daily_prediction_analysis(fname)"
   ]
  },
  {
   "cell_type": "code",
   "execution_count": 20,
   "metadata": {},
   "outputs": [
    {
     "name": "stdout",
     "output_type": "stream",
     "text": [
      "   Unnamed: 0       Date  Adj Close     Close      Open      High       Low  \\\n",
      "0           7 2015-01-12   0.991296  0.991296  1.001737  0.991937  0.989771   \n",
      "1           8 2015-01-13   0.982143  0.982143  0.982011  0.983178  0.973299   \n",
      "2           9 2015-01-14   0.991240  0.991240  0.989458  0.992168  0.990060   \n",
      "3          10 2015-01-15   0.972708  0.972708  0.966780  0.974191  0.967375   \n",
      "4          11 2015-01-16   0.968842  0.968842  0.964362  0.971277  0.965113   \n",
      "\n",
      "      Volume  Month_1  Month_2  ...  RSI_overbought  RSI_oversold  \\\n",
      "0   91366500        1        0  ...           False         False   \n",
      "1  124384200        1        0  ...           False          True   \n",
      "2   57751000        1        0  ...           False         False   \n",
      "3  172946000        1        0  ...           False          True   \n",
      "4  106949700        1        0  ...           False          True   \n",
      "\n",
      "   prev_hot_streak  prev_cold_streak  current_hot_streak  current_cold_streak  \\\n",
      "0              1.0               3.0                 0.0                  1.0   \n",
      "1              1.0               3.0                 0.0                  2.0   \n",
      "2              1.0               2.0                 1.0                  0.0   \n",
      "3              1.0               2.0                 0.0                  1.0   \n",
      "4              1.0               2.0                 0.0                  2.0   \n",
      "\n",
      "   prev_current_hot  prev_current_cold  current_hot_prev_cold  \\\n",
      "0               1.0                2.0                   -3.0   \n",
      "1               1.0                1.0                   -3.0   \n",
      "2               0.0                2.0                   -1.0   \n",
      "3               1.0                1.0                   -2.0   \n",
      "4               1.0                0.0                   -2.0   \n",
      "\n",
      "   current_cold_prev_hot  \n",
      "0                    0.0  \n",
      "1                    1.0  \n",
      "2                   -1.0  \n",
      "3                    0.0  \n",
      "4                    1.0  \n",
      "\n",
      "[5 rows x 52 columns]\n",
      "here\n",
      "naive return: 5.730385274258476\n",
      "Training Accuracy: 52.40%\n",
      "\n",
      "Optimal Parameters: {'criterion': 'entropy', 'max_depth': 2, 'min_samples_leaf': 9, 'min_samples_split': 5, 'n_estimators': 100}\n",
      "{'model': 'RF', 'precision': 0.08264462809917356, 'recall': 0.35714285714285715, 'accuracy': 0.484, 'f1': 0.1342281879194631, 'return': -5.429547304419257}\n",
      "{'model': 'Logistic', 'precision': 0.4297520661157025, 'recall': 0.49056603773584906, 'accuracy': 0.508, 'f1': 0.4581497797356828, 'return': -17.268526438329108}\n",
      "{'model': 'SVM_poly', 'precision': 0.4628099173553719, 'recall': 0.509090909090909, 'accuracy': 0.524, 'f1': 0.4848484848484848, 'return': -16.028794939575327}\n",
      "Fitting 5 folds for each of 400 candidates, totalling 2000 fits\n"
     ]
    },
    {
     "name": "stderr",
     "output_type": "stream",
     "text": [
      "[Parallel(n_jobs=10)]: Using backend LokyBackend with 10 concurrent workers.\n",
      "[Parallel(n_jobs=10)]: Done  40 tasks      | elapsed:    0.7s\n",
      "[Parallel(n_jobs=10)]: Done 337 tasks      | elapsed:   12.1s\n",
      "[Parallel(n_jobs=10)]: Done 590 tasks      | elapsed:   20.1s\n",
      "[Parallel(n_jobs=10)]: Done 940 tasks      | elapsed:   33.6s\n",
      "[Parallel(n_jobs=10)]: Done 1390 tasks      | elapsed:   50.4s\n",
      "[Parallel(n_jobs=10)]: Done 1940 tasks      | elapsed:  1.2min\n",
      "[Parallel(n_jobs=10)]: Done 2000 out of 2000 | elapsed:  1.3min finished\n"
     ]
    },
    {
     "name": "stdout",
     "output_type": "stream",
     "text": [
      "Training Accuracy: 53.80%\n",
      "\n",
      "Optimal Parameters: {'learning_rate': 0.01, 'max_depth': 5, 'n_estimators': 70}\n",
      "{'model': 'XGB', 'precision': 0.4462809917355372, 'recall': 0.5510204081632653, 'accuracy': 0.556, 'f1': 0.4931506849315068, 'return': -7.723665902456009}\n",
      "{'model': 'stack', 'precision': 0.0, 'recall': 0.0, 'accuracy': 0.516, 'f1': 0.0, 'return': -5.730385274258476}\n"
     ]
    },
    {
     "data": {
      "text/plain": [
       "({'model': 'RF',\n",
       "  'precision': 0.08264462809917356,\n",
       "  'recall': 0.35714285714285715,\n",
       "  'accuracy': 0.484,\n",
       "  'f1': 0.1342281879194631,\n",
       "  'return': -5.429547304419257},\n",
       " {'model': 'Logistic',\n",
       "  'precision': 0.4297520661157025,\n",
       "  'recall': 0.49056603773584906,\n",
       "  'accuracy': 0.508,\n",
       "  'f1': 0.4581497797356828,\n",
       "  'return': -17.268526438329108},\n",
       " {'model': 'SVM_poly',\n",
       "  'precision': 0.4628099173553719,\n",
       "  'recall': 0.509090909090909,\n",
       "  'accuracy': 0.524,\n",
       "  'f1': 0.4848484848484848,\n",
       "  'return': -16.028794939575327},\n",
       " {'model': 'XGB',\n",
       "  'precision': 0.4462809917355372,\n",
       "  'recall': 0.5510204081632653,\n",
       "  'accuracy': 0.556,\n",
       "  'f1': 0.4931506849315068,\n",
       "  'return': -7.723665902456009},\n",
       " {'model': 'stack',\n",
       "  'precision': 0.0,\n",
       "  'recall': 0.0,\n",
       "  'accuracy': 0.516,\n",
       "  'f1': 0.0,\n",
       "  'return': -5.730385274258476})"
      ]
     },
     "execution_count": 20,
     "metadata": {},
     "output_type": "execute_result"
    }
   ],
   "source": [
    "fname = os.path.join(os.path.abspath(os.getcwd()),'data','10_ETF','random5.csv')\n",
    "daily_prediction_analysis(fname)"
   ]
  },
  {
   "cell_type": "code",
   "execution_count": 27,
   "metadata": {},
   "outputs": [
    {
     "name": "stdout",
     "output_type": "stream",
     "text": [
      "        Date        Open        High         Low       Close   Adj Close  \\\n",
      "0 2015-01-12  120.940002  121.190002  120.870003  121.129997   99.597038   \n",
      "1 2015-01-13  121.129997  121.279999  120.910004  121.239998   99.687477   \n",
      "2 2015-01-14  121.709999  121.820000  121.349998  121.449997   99.860092   \n",
      "3 2015-01-15  121.529999  122.269997  121.449997  122.080002  100.378098   \n",
      "4 2015-01-16  121.709999  121.910004  121.230003  121.400002   99.818977   \n",
      "\n",
      "    Volume  Month_1  Month_2  Month_3  ...  RSI_overbought  RSI_oversold  \\\n",
      "0  1948000        1        0        0  ...            True         False   \n",
      "1  1468300        1        0        0  ...            True         False   \n",
      "2  2457000        1        0        0  ...            True         False   \n",
      "3  2171300        1        0        0  ...            True         False   \n",
      "4  1322500        1        0        0  ...           False         False   \n",
      "\n",
      "   prev_hot_streak  prev_cold_streak  current_hot_streak  current_cold_streak  \\\n",
      "0              4.0               6.0                 2.0                  0.0   \n",
      "1              4.0               6.0                 3.0                  0.0   \n",
      "2              4.0               6.0                 4.0                  0.0   \n",
      "3              4.0               6.0                 5.0                  0.0   \n",
      "4              5.0               6.0                 0.0                  1.0   \n",
      "\n",
      "   prev_current_hot  prev_current_cold  current_hot_prev_cold  \\\n",
      "0               2.0                6.0                   -4.0   \n",
      "1               1.0                6.0                   -3.0   \n",
      "2               0.0                6.0                   -2.0   \n",
      "3              -1.0                6.0                   -1.0   \n",
      "4               5.0                5.0                   -6.0   \n",
      "\n",
      "   current_cold_prev_hot  \n",
      "0                   -4.0  \n",
      "1                   -4.0  \n",
      "2                   -4.0  \n",
      "3                   -4.0  \n",
      "4                   -4.0  \n",
      "\n",
      "[5 rows x 51 columns]\n",
      "naive return: -10.723885681251478\n",
      "Training Accuracy: 57.10%\n",
      "\n",
      "Optimal Parameters: {'criterion': 'gini', 'max_depth': 3, 'min_samples_leaf': 5, 'min_samples_split': 10, 'n_estimators': 100}\n",
      "{'model': 'RF', 'precision': 0.8732394366197183, 'recall': 0.5821596244131455, 'accuracy': 0.572, 'f1': 0.6985915492957746, 'return': -10.179795915658786}\n",
      "{'model': 'Logistic', 'precision': 0.5985915492957746, 'recall': 0.5629139072847682, 'accuracy': 0.508, 'f1': 0.5802047781569967, 'return': -20.685167158728262}\n",
      "{'model': 'SVM_poly', 'precision': 0.5492957746478874, 'recall': 0.5611510791366906, 'accuracy': 0.5, 'f1': 0.5551601423487544, 'return': 39.60870993133889}\n",
      "Fitting 5 folds for each of 400 candidates, totalling 2000 fits\n"
     ]
    },
    {
     "name": "stderr",
     "output_type": "stream",
     "text": [
      "[Parallel(n_jobs=10)]: Using backend LokyBackend with 10 concurrent workers.\n",
      "[Parallel(n_jobs=10)]: Done  40 tasks      | elapsed:    0.7s\n",
      "[Parallel(n_jobs=10)]: Done 340 tasks      | elapsed:   11.5s\n",
      "[Parallel(n_jobs=10)]: Done 600 tasks      | elapsed:   20.2s\n",
      "[Parallel(n_jobs=10)]: Done 950 tasks      | elapsed:   32.5s\n",
      "[Parallel(n_jobs=10)]: Done 1400 tasks      | elapsed:   48.3s\n",
      "[Parallel(n_jobs=10)]: Done 1950 tasks      | elapsed:  1.2min\n",
      "[Parallel(n_jobs=10)]: Done 2000 out of 2000 | elapsed:  1.2min finished\n"
     ]
    },
    {
     "name": "stdout",
     "output_type": "stream",
     "text": [
      "Training Accuracy: 55.60%\n",
      "\n",
      "Optimal Parameters: {'learning_rate': 0.01, 'max_depth': 2, 'n_estimators': 40}\n",
      "{'model': 'XGB', 'precision': 0.8661971830985915, 'recall': 0.5747663551401869, 'accuracy': 0.56, 'f1': 0.6910112359550562, 'return': -11.52340594394272}\n",
      "{'model': 'stack', 'precision': 0.9507042253521126, 'recall': 0.574468085106383, 'accuracy': 0.572, 'f1': 0.7161803713527851, 'return': -21.5946962604462}\n"
     ]
    },
    {
     "data": {
      "text/plain": [
       "({'model': 'Naive',\n",
       "  'precision': 1.0,\n",
       "  'recall': 0.568,\n",
       "  'accuracy': 0.568,\n",
       "  'f1': 0.7244897959183673,\n",
       "  'return': -10.723885681251478},\n",
       " {'model': 'RF',\n",
       "  'precision': 0.8732394366197183,\n",
       "  'recall': 0.5821596244131455,\n",
       "  'accuracy': 0.572,\n",
       "  'f1': 0.6985915492957746,\n",
       "  'return': -10.179795915658786},\n",
       " {'model': 'Logistic',\n",
       "  'precision': 0.5985915492957746,\n",
       "  'recall': 0.5629139072847682,\n",
       "  'accuracy': 0.508,\n",
       "  'f1': 0.5802047781569967,\n",
       "  'return': -20.685167158728262},\n",
       " {'model': 'SVM_poly',\n",
       "  'precision': 0.5492957746478874,\n",
       "  'recall': 0.5611510791366906,\n",
       "  'accuracy': 0.5,\n",
       "  'f1': 0.5551601423487544,\n",
       "  'return': 39.60870993133889},\n",
       " {'model': 'XGB',\n",
       "  'precision': 0.8661971830985915,\n",
       "  'recall': 0.5747663551401869,\n",
       "  'accuracy': 0.56,\n",
       "  'f1': 0.6910112359550562,\n",
       "  'return': -11.52340594394272},\n",
       " {'model': 'stack',\n",
       "  'precision': 0.9507042253521126,\n",
       "  'recall': 0.574468085106383,\n",
       "  'accuracy': 0.572,\n",
       "  'f1': 0.7161803713527851,\n",
       "  'return': -21.5946962604462})"
      ]
     },
     "execution_count": 27,
     "metadata": {},
     "output_type": "execute_result"
    }
   ],
   "source": [
    "fname = os.path.join(os.path.abspath(os.getcwd()),'data','10_ETF','LQD.csv')\n",
    "daily_prediction_analysis(fname)"
   ]
  },
  {
   "cell_type": "code",
   "execution_count": 29,
   "metadata": {},
   "outputs": [
    {
     "name": "stdout",
     "output_type": "stream",
     "text": [
      "        Date        Open        High         Low       Close   Adj Close  \\\n",
      "0 2015-01-12  117.459999  118.709999  117.320000  118.559998  118.559998   \n",
      "1 2015-01-13  118.959999  119.190002  117.870003  118.160004  118.160004   \n",
      "2 2015-01-14  119.080002  119.320000  117.900002  117.970001  117.970001   \n",
      "3 2015-01-15  120.410004  121.699997  120.339996  120.940002  120.940002   \n",
      "4 2015-01-16  121.730003  123.150002  121.709999  122.519997  122.519997   \n",
      "\n",
      "     Volume  Month_1  Month_2  Month_3  ...  RSI_overbought  RSI_oversold  \\\n",
      "0   8318200        1        0        0  ...            True         False   \n",
      "1   7693200        1        0        0  ...            True         False   \n",
      "2   7727400        1        0        0  ...            True         False   \n",
      "3  17692500        1        0        0  ...            True         False   \n",
      "4  14428200        1        0        0  ...            True         False   \n",
      "\n",
      "   prev_hot_streak  prev_cold_streak  current_hot_streak  current_cold_streak  \\\n",
      "0              3.0               3.0                 2.0                  0.0   \n",
      "1              2.0               3.0                 0.0                  1.0   \n",
      "2              2.0               3.0                 0.0                  2.0   \n",
      "3              2.0               2.0                 1.0                  0.0   \n",
      "4              2.0               2.0                 2.0                  0.0   \n",
      "\n",
      "   prev_current_hot  prev_current_cold  current_hot_prev_cold  \\\n",
      "0               1.0                3.0                   -1.0   \n",
      "1               2.0                2.0                   -3.0   \n",
      "2               2.0                1.0                   -3.0   \n",
      "3               1.0                2.0                   -1.0   \n",
      "4               0.0                2.0                    0.0   \n",
      "\n",
      "   current_cold_prev_hot  \n",
      "0                   -3.0  \n",
      "1                   -1.0  \n",
      "2                    0.0  \n",
      "3                   -2.0  \n",
      "4                   -2.0  \n",
      "\n",
      "[5 rows x 51 columns]\n",
      "naive return: -15.908782405937544\n",
      "Training Accuracy: 50.80%\n",
      "\n",
      "Optimal Parameters: {'criterion': 'gini', 'max_depth': 10, 'min_samples_leaf': 3, 'min_samples_split': 5, 'n_estimators': 100}\n",
      "{'model': 'RF', 'precision': 0.6307692307692307, 'recall': 0.5394736842105263, 'accuracy': 0.528, 'f1': 0.5815602836879432, 'return': 2.428631265962326}\n",
      "{'model': 'Logistic', 'precision': 0.5846153846153846, 'recall': 0.5588235294117647, 'accuracy': 0.544, 'f1': 0.5714285714285715, 'return': 45.06371395545608}\n",
      "{'model': 'SVM_poly', 'precision': 0.823076923076923, 'recall': 0.535, 'accuracy': 0.536, 'f1': 0.6484848484848486, 'return': 10.625251167163063}\n",
      "Fitting 5 folds for each of 400 candidates, totalling 2000 fits\n"
     ]
    },
    {
     "name": "stderr",
     "output_type": "stream",
     "text": [
      "[Parallel(n_jobs=10)]: Using backend LokyBackend with 10 concurrent workers.\n",
      "[Parallel(n_jobs=10)]: Done  40 tasks      | elapsed:    0.8s\n",
      "[Parallel(n_jobs=10)]: Done 340 tasks      | elapsed:   11.4s\n",
      "[Parallel(n_jobs=10)]: Done 600 tasks      | elapsed:   19.6s\n",
      "[Parallel(n_jobs=10)]: Done 950 tasks      | elapsed:   32.7s\n",
      "[Parallel(n_jobs=10)]: Done 1400 tasks      | elapsed:   48.8s\n",
      "[Parallel(n_jobs=10)]: Done 1950 tasks      | elapsed:  1.2min\n",
      "[Parallel(n_jobs=10)]: Done 2000 out of 2000 | elapsed:  1.2min finished\n"
     ]
    },
    {
     "name": "stdout",
     "output_type": "stream",
     "text": [
      "Training Accuracy: 54.10%\n",
      "\n",
      "Optimal Parameters: {'learning_rate': 0.001, 'max_depth': 7, 'n_estimators': 50}\n",
      "{'model': 'XGB', 'precision': 0.6692307692307692, 'recall': 0.5087719298245614, 'accuracy': 0.492, 'f1': 0.5780730897009966, 'return': 10.914556063929005}\n",
      "{'model': 'stack', 'precision': 1.0, 'recall': 0.52, 'accuracy': 0.52, 'f1': 0.6842105263157895, 'return': -15.908782405937544}\n"
     ]
    },
    {
     "data": {
      "text/plain": [
       "({'model': 'Naive',\n",
       "  'precision': 1.0,\n",
       "  'recall': 0.52,\n",
       "  'accuracy': 0.52,\n",
       "  'f1': 0.6842105263157895,\n",
       "  'return': -15.908782405937544},\n",
       " {'model': 'RF',\n",
       "  'precision': 0.6307692307692307,\n",
       "  'recall': 0.5394736842105263,\n",
       "  'accuracy': 0.528,\n",
       "  'f1': 0.5815602836879432,\n",
       "  'return': 2.428631265962326},\n",
       " {'model': 'Logistic',\n",
       "  'precision': 0.5846153846153846,\n",
       "  'recall': 0.5588235294117647,\n",
       "  'accuracy': 0.544,\n",
       "  'f1': 0.5714285714285715,\n",
       "  'return': 45.06371395545608},\n",
       " {'model': 'SVM_poly',\n",
       "  'precision': 0.823076923076923,\n",
       "  'recall': 0.535,\n",
       "  'accuracy': 0.536,\n",
       "  'f1': 0.6484848484848486,\n",
       "  'return': 10.625251167163063},\n",
       " {'model': 'XGB',\n",
       "  'precision': 0.6692307692307692,\n",
       "  'recall': 0.5087719298245614,\n",
       "  'accuracy': 0.492,\n",
       "  'f1': 0.5780730897009966,\n",
       "  'return': 10.914556063929005},\n",
       " {'model': 'stack',\n",
       "  'precision': 1.0,\n",
       "  'recall': 0.52,\n",
       "  'accuracy': 0.52,\n",
       "  'f1': 0.6842105263157895,\n",
       "  'return': -15.908782405937544})"
      ]
     },
     "execution_count": 29,
     "metadata": {},
     "output_type": "execute_result"
    }
   ],
   "source": [
    "fname = os.path.join(os.path.abspath(os.getcwd()),'data','10_ETF','GLD.csv')\n",
    "daily_prediction_analysis(fname)"
   ]
  },
  {
   "cell_type": "code",
   "execution_count": 30,
   "metadata": {},
   "outputs": [
    {
     "name": "stdout",
     "output_type": "stream",
     "text": [
      "        Date        Open        High         Low       Close   Adj Close  \\\n",
      "0 2015-01-12  112.959999  113.150002  112.839996  113.050003  102.817947   \n",
      "1 2015-01-13  112.580002  112.959999  112.500000  112.870003  102.654274   \n",
      "2 2015-01-14  113.250000  113.680000  113.250000  113.540001  103.263618   \n",
      "3 2015-01-15  113.709999  114.459999  113.690002  114.440002  104.082130   \n",
      "4 2015-01-16  114.260002  114.430000  113.800003  113.800003  103.500061   \n",
      "\n",
      "    Volume  Month_1  Month_2  Month_3  ...  RSI_overbought  RSI_oversold  \\\n",
      "0   421600        1        0        0  ...            True         False   \n",
      "1   345300        1        0        0  ...           False         False   \n",
      "2   450900        1        0        0  ...            True         False   \n",
      "3   691300        1        0        0  ...            True         False   \n",
      "4  1520200        1        0        0  ...           False         False   \n",
      "\n",
      "   prev_hot_streak  prev_cold_streak  current_hot_streak  current_cold_streak  \\\n",
      "0              1.0               5.0                 0.0                  1.0   \n",
      "1              1.0               5.0                 0.0                  2.0   \n",
      "2              1.0               2.0                 1.0                  0.0   \n",
      "3              1.0               2.0                 2.0                  0.0   \n",
      "4              2.0               2.0                 0.0                  1.0   \n",
      "\n",
      "   prev_current_hot  prev_current_cold  current_hot_prev_cold  \\\n",
      "0               1.0                4.0                   -5.0   \n",
      "1               1.0                3.0                   -5.0   \n",
      "2               0.0                2.0                   -1.0   \n",
      "3              -1.0                2.0                    0.0   \n",
      "4               2.0                1.0                   -2.0   \n",
      "\n",
      "   current_cold_prev_hot  \n",
      "0                    0.0  \n",
      "1                    1.0  \n",
      "2                   -1.0  \n",
      "3                   -1.0  \n",
      "4                   -1.0  \n",
      "\n",
      "[5 rows x 51 columns]\n",
      "naive return: -11.718808045381294\n",
      "Training Accuracy: 55.70%\n",
      "\n",
      "Optimal Parameters: {'criterion': 'entropy', 'max_depth': None, 'min_samples_leaf': 3, 'min_samples_split': 15, 'n_estimators': 100}\n",
      "{'model': 'RF', 'precision': 0.5373134328358209, 'recall': 0.5034965034965035, 'accuracy': 0.468, 'f1': 0.5198555956678701, 'return': 8.528374052064368}\n",
      "{'model': 'Logistic', 'precision': 0.5447761194029851, 'recall': 0.5367647058823529, 'accuracy': 0.504, 'f1': 0.5407407407407407, 'return': 8.62978260247619}\n",
      "{'model': 'SVM_poly', 'precision': 0.5447761194029851, 'recall': 0.5703125, 'accuracy': 0.536, 'f1': 0.5572519083969467, 'return': 2.1988111741047836}\n",
      "Fitting 5 folds for each of 400 candidates, totalling 2000 fits\n"
     ]
    },
    {
     "name": "stderr",
     "output_type": "stream",
     "text": [
      "[Parallel(n_jobs=10)]: Using backend LokyBackend with 10 concurrent workers.\n",
      "[Parallel(n_jobs=10)]: Done  40 tasks      | elapsed:    0.8s\n",
      "[Parallel(n_jobs=10)]: Done 330 tasks      | elapsed:   11.3s\n",
      "[Parallel(n_jobs=10)]: Done 580 tasks      | elapsed:   20.1s\n",
      "[Parallel(n_jobs=10)]: Done 930 tasks      | elapsed:   34.2s\n",
      "[Parallel(n_jobs=10)]: Done 1380 tasks      | elapsed:   51.4s\n",
      "[Parallel(n_jobs=10)]: Done 1930 tasks      | elapsed:  1.3min\n",
      "[Parallel(n_jobs=10)]: Done 2000 out of 2000 | elapsed:  1.3min finished\n"
     ]
    },
    {
     "name": "stdout",
     "output_type": "stream",
     "text": [
      "Training Accuracy: 54.50%\n",
      "\n",
      "Optimal Parameters: {'learning_rate': 0.1, 'max_depth': 9, 'n_estimators': 110}\n",
      "{'model': 'XGB', 'precision': 0.5149253731343284, 'recall': 0.5307692307692308, 'accuracy': 0.496, 'f1': 0.5227272727272727, 'return': 26.51687006463979}\n",
      "{'model': 'stack', 'precision': 0.6044776119402985, 'recall': 0.525974025974026, 'accuracy': 0.496, 'f1': 0.5625, 'return': 27.787048352209414}\n"
     ]
    },
    {
     "data": {
      "text/plain": [
       "({'model': 'Naive',\n",
       "  'precision': 1.0,\n",
       "  'recall': 0.536,\n",
       "  'accuracy': 0.536,\n",
       "  'f1': 0.6979166666666667,\n",
       "  'return': -11.718808045381294},\n",
       " {'model': 'RF',\n",
       "  'precision': 0.5373134328358209,\n",
       "  'recall': 0.5034965034965035,\n",
       "  'accuracy': 0.468,\n",
       "  'f1': 0.5198555956678701,\n",
       "  'return': 8.528374052064368},\n",
       " {'model': 'Logistic',\n",
       "  'precision': 0.5447761194029851,\n",
       "  'recall': 0.5367647058823529,\n",
       "  'accuracy': 0.504,\n",
       "  'f1': 0.5407407407407407,\n",
       "  'return': 8.62978260247619},\n",
       " {'model': 'SVM_poly',\n",
       "  'precision': 0.5447761194029851,\n",
       "  'recall': 0.5703125,\n",
       "  'accuracy': 0.536,\n",
       "  'f1': 0.5572519083969467,\n",
       "  'return': 2.1988111741047836},\n",
       " {'model': 'XGB',\n",
       "  'precision': 0.5149253731343284,\n",
       "  'recall': 0.5307692307692308,\n",
       "  'accuracy': 0.496,\n",
       "  'f1': 0.5227272727272727,\n",
       "  'return': 26.51687006463979},\n",
       " {'model': 'stack',\n",
       "  'precision': 0.6044776119402985,\n",
       "  'recall': 0.525974025974026,\n",
       "  'accuracy': 0.496,\n",
       "  'f1': 0.5625,\n",
       "  'return': 27.787048352209414})"
      ]
     },
     "execution_count": 30,
     "metadata": {},
     "output_type": "execute_result"
    }
   ],
   "source": [
    "fname = os.path.join(os.path.abspath(os.getcwd()),'data','10_ETF','TIP.csv')\n",
    "daily_prediction_analysis(fname)"
   ]
  },
  {
   "cell_type": "code",
   "execution_count": 31,
   "metadata": {},
   "outputs": [
    {
     "name": "stdout",
     "output_type": "stream",
     "text": [
      "        Date        Open        High         Low       Close   Adj Close  \\\n",
      "0 2015-01-12  116.349998  116.629997  116.269997  116.529999  116.529999   \n",
      "1 2015-01-13  115.860001  116.169998  115.720001  115.879997  115.879997   \n",
      "2 2015-01-14  116.209999  116.309998  115.900002  116.059998  116.059998   \n",
      "3 2015-01-15  114.879997  114.919998  113.889999  114.400002  114.400002   \n",
      "4 2015-01-16  113.620003  114.089996  112.830002  113.910004  113.910004   \n",
      "\n",
      "    Volume  Month_1  Month_2  Month_3  ...  RSI_overbought  RSI_oversold  \\\n",
      "0   670600        1        0        0  ...           False          True   \n",
      "1   736000        1        0        0  ...           False          True   \n",
      "2   762800        1        0        0  ...           False          True   \n",
      "3  2081100        1        0        0  ...           False          True   \n",
      "4  2506600        1        0        0  ...           False          True   \n",
      "\n",
      "   prev_hot_streak  prev_cold_streak  current_hot_streak  current_cold_streak  \\\n",
      "0              1.0               8.0                 0.0                  1.0   \n",
      "1              1.0               8.0                 0.0                  2.0   \n",
      "2              1.0               2.0                 1.0                  0.0   \n",
      "3              1.0               2.0                 0.0                  1.0   \n",
      "4              1.0               2.0                 0.0                  2.0   \n",
      "\n",
      "   prev_current_hot  prev_current_cold  current_hot_prev_cold  \\\n",
      "0               1.0                7.0                   -8.0   \n",
      "1               1.0                6.0                   -8.0   \n",
      "2               0.0                2.0                   -1.0   \n",
      "3               1.0                1.0                   -2.0   \n",
      "4               1.0                0.0                   -2.0   \n",
      "\n",
      "   current_cold_prev_hot  \n",
      "0                    0.0  \n",
      "1                    1.0  \n",
      "2                   -1.0  \n",
      "3                    0.0  \n",
      "4                    1.0  \n",
      "\n",
      "[5 rows x 51 columns]\n",
      "naive return: -18.929165597995\n",
      "Training Accuracy: 51.20%\n",
      "\n",
      "Optimal Parameters: {'criterion': 'gini', 'max_depth': 10, 'min_samples_leaf': 13, 'min_samples_split': 5, 'n_estimators': 100}\n",
      "{'model': 'RF', 'precision': 0.48760330578512395, 'recall': 0.5221238938053098, 'accuracy': 0.536, 'f1': 0.5042735042735043, 'return': 10.553909119726484}\n",
      "{'model': 'Logistic', 'precision': 0.5454545454545454, 'recall': 0.5409836065573771, 'accuracy': 0.556, 'f1': 0.54320987654321, 'return': 19.320227536333974}\n",
      "{'model': 'SVM_poly', 'precision': 0.4628099173553719, 'recall': 0.509090909090909, 'accuracy': 0.524, 'f1': 0.4848484848484848, 'return': -33.82748808526969}\n",
      "Fitting 5 folds for each of 400 candidates, totalling 2000 fits\n"
     ]
    },
    {
     "name": "stderr",
     "output_type": "stream",
     "text": [
      "[Parallel(n_jobs=10)]: Using backend LokyBackend with 10 concurrent workers.\n",
      "[Parallel(n_jobs=10)]: Done  40 tasks      | elapsed:    0.7s\n",
      "[Parallel(n_jobs=10)]: Done 338 tasks      | elapsed:   12.0s\n",
      "[Parallel(n_jobs=10)]: Done 590 tasks      | elapsed:   20.9s\n",
      "[Parallel(n_jobs=10)]: Done 940 tasks      | elapsed:   35.5s\n",
      "[Parallel(n_jobs=10)]: Done 1390 tasks      | elapsed:   52.3s\n",
      "[Parallel(n_jobs=10)]: Done 1940 tasks      | elapsed:  1.2min\n",
      "[Parallel(n_jobs=10)]: Done 2000 out of 2000 | elapsed:  1.3min finished\n"
     ]
    },
    {
     "name": "stdout",
     "output_type": "stream",
     "text": [
      "Training Accuracy: 52.50%\n",
      "\n",
      "Optimal Parameters: {'learning_rate': 0.1, 'max_depth': 3, 'n_estimators': 110}\n",
      "{'model': 'XGB', 'precision': 0.4793388429752066, 'recall': 0.46774193548387094, 'accuracy': 0.484, 'f1': 0.473469387755102, 'return': -20.55838953747723}\n",
      "{'model': 'stack', 'precision': 0.35537190082644626, 'recall': 0.4673913043478261, 'accuracy': 0.492, 'f1': 0.40375586854460094, 'return': 4.926469300411999}\n"
     ]
    },
    {
     "data": {
      "text/plain": [
       "({'model': 'Naive',\n",
       "  'precision': 1.0,\n",
       "  'recall': 0.484,\n",
       "  'accuracy': 0.484,\n",
       "  'f1': 0.6522911051212937,\n",
       "  'return': -18.929165597995},\n",
       " {'model': 'RF',\n",
       "  'precision': 0.48760330578512395,\n",
       "  'recall': 0.5221238938053098,\n",
       "  'accuracy': 0.536,\n",
       "  'f1': 0.5042735042735043,\n",
       "  'return': 10.553909119726484},\n",
       " {'model': 'Logistic',\n",
       "  'precision': 0.5454545454545454,\n",
       "  'recall': 0.5409836065573771,\n",
       "  'accuracy': 0.556,\n",
       "  'f1': 0.54320987654321,\n",
       "  'return': 19.320227536333974},\n",
       " {'model': 'SVM_poly',\n",
       "  'precision': 0.4628099173553719,\n",
       "  'recall': 0.509090909090909,\n",
       "  'accuracy': 0.524,\n",
       "  'f1': 0.4848484848484848,\n",
       "  'return': -33.82748808526969},\n",
       " {'model': 'XGB',\n",
       "  'precision': 0.4793388429752066,\n",
       "  'recall': 0.46774193548387094,\n",
       "  'accuracy': 0.484,\n",
       "  'f1': 0.473469387755102,\n",
       "  'return': -20.55838953747723},\n",
       " {'model': 'stack',\n",
       "  'precision': 0.35537190082644626,\n",
       "  'recall': 0.4673913043478261,\n",
       "  'accuracy': 0.492,\n",
       "  'f1': 0.40375586854460094,\n",
       "  'return': 4.926469300411999})"
      ]
     },
     "execution_count": 31,
     "metadata": {},
     "output_type": "execute_result"
    }
   ],
   "source": [
    "fname = os.path.join(os.path.abspath(os.getcwd()),'data','10_ETF','FXE.csv')\n",
    "daily_prediction_analysis(fname)"
   ]
  },
  {
   "cell_type": "code",
   "execution_count": 32,
   "metadata": {},
   "outputs": [
    {
     "name": "stdout",
     "output_type": "stream",
     "text": [
      "        Date       Open       High        Low      Close  Adj Close    Volume  \\\n",
      "0 2015-01-12  39.150002  39.200001  38.900002  38.950001  34.271629  55381800   \n",
      "1 2015-01-13  39.450001  39.650002  38.970001  39.290001  34.570793  55565600   \n",
      "2 2015-01-14  38.860001  39.160000  38.759998  39.070000  34.377213  83761000   \n",
      "3 2015-01-15  39.590000  39.730000  39.099998  39.160000  34.456406  57441600   \n",
      "4 2015-01-16  39.130001  39.540001  39.070000  39.490002  34.746761  72675200   \n",
      "\n",
      "   Month_1  Month_2  Month_3  ...  RSI_overbought  RSI_oversold  \\\n",
      "0        1        0        0  ...           False         False   \n",
      "1        1        0        0  ...           False         False   \n",
      "2        1        0        0  ...           False         False   \n",
      "3        1        0        0  ...           False         False   \n",
      "4        1        0        0  ...           False         False   \n",
      "\n",
      "   prev_hot_streak  prev_cold_streak  current_hot_streak  current_cold_streak  \\\n",
      "0              2.0               3.0                 0.0                  2.0   \n",
      "1              2.0               2.0                 1.0                  0.0   \n",
      "2              1.0               2.0                 0.0                  1.0   \n",
      "3              1.0               1.0                 1.0                  0.0   \n",
      "4              1.0               1.0                 2.0                  0.0   \n",
      "\n",
      "   prev_current_hot  prev_current_cold  current_hot_prev_cold  \\\n",
      "0               2.0                1.0                   -3.0   \n",
      "1               1.0                2.0                   -1.0   \n",
      "2               1.0                1.0                   -2.0   \n",
      "3               0.0                1.0                    0.0   \n",
      "4              -1.0                1.0                    1.0   \n",
      "\n",
      "   current_cold_prev_hot  \n",
      "0                    0.0  \n",
      "1                   -2.0  \n",
      "2                    0.0  \n",
      "3                   -1.0  \n",
      "4                   -1.0  \n",
      "\n",
      "[5 rows x 51 columns]\n",
      "naive return: 10.998891745985489\n",
      "Training Accuracy: 55.10%\n",
      "\n",
      "Optimal Parameters: {'criterion': 'gini', 'max_depth': 5, 'min_samples_leaf': 5, 'min_samples_split': 15, 'n_estimators': 100}\n",
      "{'model': 'RF', 'precision': 0.7377049180327869, 'recall': 0.48128342245989303, 'accuracy': 0.484, 'f1': 0.5825242718446602, 'return': -7.575704907132585}\n",
      "{'model': 'Logistic', 'precision': 0.6229508196721312, 'recall': 0.49673202614379086, 'accuracy': 0.508, 'f1': 0.5527272727272727, 'return': 4.6010384448577835}\n",
      "{'model': 'SVM_poly', 'precision': 0.4918032786885246, 'recall': 0.47244094488188976, 'accuracy': 0.484, 'f1': 0.48192771084337355, 'return': 6.692642362935221}\n",
      "Fitting 5 folds for each of 400 candidates, totalling 2000 fits\n"
     ]
    },
    {
     "name": "stderr",
     "output_type": "stream",
     "text": [
      "[Parallel(n_jobs=10)]: Using backend LokyBackend with 10 concurrent workers.\n",
      "[Parallel(n_jobs=10)]: Done  40 tasks      | elapsed:    0.8s\n",
      "[Parallel(n_jobs=10)]: Done 338 tasks      | elapsed:   12.3s\n",
      "[Parallel(n_jobs=10)]: Done 590 tasks      | elapsed:   20.5s\n",
      "[Parallel(n_jobs=10)]: Done 940 tasks      | elapsed:   34.4s\n",
      "[Parallel(n_jobs=10)]: Done 1390 tasks      | elapsed:   51.3s\n",
      "[Parallel(n_jobs=10)]: Done 1940 tasks      | elapsed:  1.2min\n",
      "[Parallel(n_jobs=10)]: Done 2000 out of 2000 | elapsed:  1.3min finished\n"
     ]
    },
    {
     "name": "stdout",
     "output_type": "stream",
     "text": [
      "Training Accuracy: 55.90%\n",
      "\n",
      "Optimal Parameters: {'learning_rate': 0.03, 'max_depth': 7, 'n_estimators': 50}\n",
      "{'model': 'XGB', 'precision': 0.5901639344262295, 'recall': 0.496551724137931, 'accuracy': 0.508, 'f1': 0.5393258426966292, 'return': 16.32292858364545}\n",
      "{'model': 'stack', 'precision': 0.8852459016393442, 'recall': 0.4778761061946903, 'accuracy': 0.472, 'f1': 0.6206896551724138, 'return': 2.8685664045791484}\n"
     ]
    },
    {
     "data": {
      "text/plain": [
       "({'model': 'Naive',\n",
       "  'precision': 1.0,\n",
       "  'recall': 0.488,\n",
       "  'accuracy': 0.488,\n",
       "  'f1': 0.6559139784946236,\n",
       "  'return': 10.998891745985489},\n",
       " {'model': 'RF',\n",
       "  'precision': 0.7377049180327869,\n",
       "  'recall': 0.48128342245989303,\n",
       "  'accuracy': 0.484,\n",
       "  'f1': 0.5825242718446602,\n",
       "  'return': -7.575704907132585},\n",
       " {'model': 'Logistic',\n",
       "  'precision': 0.6229508196721312,\n",
       "  'recall': 0.49673202614379086,\n",
       "  'accuracy': 0.508,\n",
       "  'f1': 0.5527272727272727,\n",
       "  'return': 4.6010384448577835},\n",
       " {'model': 'SVM_poly',\n",
       "  'precision': 0.4918032786885246,\n",
       "  'recall': 0.47244094488188976,\n",
       "  'accuracy': 0.484,\n",
       "  'f1': 0.48192771084337355,\n",
       "  'return': 6.692642362935221},\n",
       " {'model': 'XGB',\n",
       "  'precision': 0.5901639344262295,\n",
       "  'recall': 0.496551724137931,\n",
       "  'accuracy': 0.508,\n",
       "  'f1': 0.5393258426966292,\n",
       "  'return': 16.32292858364545},\n",
       " {'model': 'stack',\n",
       "  'precision': 0.8852459016393442,\n",
       "  'recall': 0.4778761061946903,\n",
       "  'accuracy': 0.472,\n",
       "  'f1': 0.6206896551724138,\n",
       "  'return': 2.8685664045791484})"
      ]
     },
     "execution_count": 32,
     "metadata": {},
     "output_type": "execute_result"
    }
   ],
   "source": [
    "fname = os.path.join(os.path.abspath(os.getcwd()),'data','10_ETF','EEM.csv')\n",
    "daily_prediction_analysis(fname)"
   ]
  },
  {
   "cell_type": "code",
   "execution_count": 33,
   "metadata": {},
   "outputs": [
    {
     "name": "stdout",
     "output_type": "stream",
     "text": [
      "   Unnamed: 0       Date  Adj Close     Close      Open      High       Low  \\\n",
      "0           7 2015-01-12   0.991195  0.991195  1.000550  0.994688  0.985314   \n",
      "1           8 2015-01-13   0.995615  0.995615  1.000200  0.999193  0.992750   \n",
      "2           9 2015-01-14   0.999490  0.999490  1.001010  1.001477  0.997761   \n",
      "3          10 2015-01-15   1.005221  1.005221  1.011141  1.020030  1.000606   \n",
      "4          11 2015-01-16   1.018237  1.018237  1.018951  1.018803  1.001674   \n",
      "\n",
      "      Volume  Month_1  Month_2  ...  RSI_overbought  RSI_oversold  \\\n",
      "0  101275600        1        0  ...           False         False   \n",
      "1   61903800        1        0  ...           False         False   \n",
      "2   86265800        1        0  ...           False         False   \n",
      "3   65838700        1        0  ...           False         False   \n",
      "4  162401500        1        0  ...           False         False   \n",
      "\n",
      "   prev_hot_streak  prev_cold_streak  current_hot_streak  current_cold_streak  \\\n",
      "0              3.0               3.0                 0.0                  2.0   \n",
      "1              3.0               2.0                 1.0                  0.0   \n",
      "2              3.0               2.0                 2.0                  0.0   \n",
      "3              3.0               2.0                 3.0                  0.0   \n",
      "4              3.0               2.0                 4.0                  0.0   \n",
      "\n",
      "   prev_current_hot  prev_current_cold  current_hot_prev_cold  \\\n",
      "0               3.0                1.0                   -3.0   \n",
      "1               2.0                2.0                   -1.0   \n",
      "2               1.0                2.0                    0.0   \n",
      "3               0.0                2.0                    1.0   \n",
      "4              -1.0                2.0                    2.0   \n",
      "\n",
      "   current_cold_prev_hot  \n",
      "0                   -1.0  \n",
      "1                   -3.0  \n",
      "2                   -3.0  \n",
      "3                   -3.0  \n",
      "4                   -3.0  \n",
      "\n",
      "[5 rows x 52 columns]\n",
      "naive return: 2.2716294840055884\n",
      "Training Accuracy: 54.30%\n",
      "\n",
      "Optimal Parameters: {'criterion': 'entropy', 'max_depth': 5, 'min_samples_leaf': 3, 'min_samples_split': 5, 'n_estimators': 100}\n",
      "{'model': 'RF', 'precision': 0.6015037593984962, 'recall': 0.5161290322580645, 'accuracy': 0.488, 'f1': 0.5555555555555555, 'return': -10.644749152976857}\n",
      "{'model': 'Logistic', 'precision': 0.5413533834586466, 'recall': 0.5454545454545454, 'accuracy': 0.516, 'f1': 0.5433962264150943, 'return': 3.4088335572279136}\n",
      "{'model': 'SVM_poly', 'precision': 0.5263157894736842, 'recall': 0.48951048951048953, 'accuracy': 0.456, 'f1': 0.5072463768115942, 'return': 14.793546088379149}\n",
      "Fitting 5 folds for each of 400 candidates, totalling 2000 fits\n"
     ]
    },
    {
     "name": "stderr",
     "output_type": "stream",
     "text": [
      "[Parallel(n_jobs=10)]: Using backend LokyBackend with 10 concurrent workers.\n",
      "[Parallel(n_jobs=10)]: Done  40 tasks      | elapsed:    0.8s\n",
      "[Parallel(n_jobs=10)]: Done 340 tasks      | elapsed:   11.7s\n",
      "[Parallel(n_jobs=10)]: Done 600 tasks      | elapsed:   20.4s\n",
      "[Parallel(n_jobs=10)]: Done 950 tasks      | elapsed:   35.3s\n",
      "[Parallel(n_jobs=10)]: Done 1400 tasks      | elapsed:   53.5s\n",
      "[Parallel(n_jobs=10)]: Done 1950 tasks      | elapsed:  1.3min\n",
      "[Parallel(n_jobs=10)]: Done 2000 out of 2000 | elapsed:  1.3min finished\n"
     ]
    },
    {
     "name": "stdout",
     "output_type": "stream",
     "text": [
      "Training Accuracy: 54.30%\n",
      "\n",
      "Optimal Parameters: {'learning_rate': 0.1, 'max_depth': 8, 'n_estimators': 100}\n",
      "{'model': 'XGB', 'precision': 0.5037593984962406, 'recall': 0.536, 'accuracy': 0.504, 'f1': 0.5193798449612403, 'return': -6.325186316147557}\n",
      "{'model': 'stack', 'precision': 0.6917293233082706, 'recall': 0.5476190476190477, 'accuracy': 0.532, 'f1': 0.6112956810631229, 'return': -5.8913155176908765}\n"
     ]
    },
    {
     "data": {
      "text/plain": [
       "({'model': 'Naive',\n",
       "  'precision': 1.0,\n",
       "  'recall': 0.532,\n",
       "  'accuracy': 0.532,\n",
       "  'f1': 0.6945169712793734,\n",
       "  'return': 2.2716294840055884},\n",
       " {'model': 'RF',\n",
       "  'precision': 0.6015037593984962,\n",
       "  'recall': 0.5161290322580645,\n",
       "  'accuracy': 0.488,\n",
       "  'f1': 0.5555555555555555,\n",
       "  'return': -10.644749152976857},\n",
       " {'model': 'Logistic',\n",
       "  'precision': 0.5413533834586466,\n",
       "  'recall': 0.5454545454545454,\n",
       "  'accuracy': 0.516,\n",
       "  'f1': 0.5433962264150943,\n",
       "  'return': 3.4088335572279136},\n",
       " {'model': 'SVM_poly',\n",
       "  'precision': 0.5263157894736842,\n",
       "  'recall': 0.48951048951048953,\n",
       "  'accuracy': 0.456,\n",
       "  'f1': 0.5072463768115942,\n",
       "  'return': 14.793546088379149},\n",
       " {'model': 'XGB',\n",
       "  'precision': 0.5037593984962406,\n",
       "  'recall': 0.536,\n",
       "  'accuracy': 0.504,\n",
       "  'f1': 0.5193798449612403,\n",
       "  'return': -6.325186316147557},\n",
       " {'model': 'stack',\n",
       "  'precision': 0.6917293233082706,\n",
       "  'recall': 0.5476190476190477,\n",
       "  'accuracy': 0.532,\n",
       "  'f1': 0.6112956810631229,\n",
       "  'return': -5.8913155176908765})"
      ]
     },
     "execution_count": 33,
     "metadata": {},
     "output_type": "execute_result"
    }
   ],
   "source": [
    "fname = os.path.join(os.path.abspath(os.getcwd()),'data','10_ETF','random1.csv')\n",
    "daily_prediction_analysis(fname)"
   ]
  },
  {
   "cell_type": "code",
   "execution_count": 34,
   "metadata": {},
   "outputs": [
    {
     "name": "stdout",
     "output_type": "stream",
     "text": [
      "   Unnamed: 0       Date  Adj Close     Close      Open      High       Low  \\\n",
      "0           7 2015-01-12   1.000883  1.000883  0.996297  1.007041  1.000831   \n",
      "1           8 2015-01-13   1.000305  1.000305  1.001973  1.001205  0.996635   \n",
      "2           9 2015-01-14   1.000858  1.000858  0.996747  1.001598  0.990011   \n",
      "3          10 2015-01-15   0.994789  0.994789  0.995467  0.998964  0.988048   \n",
      "4          11 2015-01-16   1.004490  1.004490  0.996246  1.012518  1.003691   \n",
      "\n",
      "     Volume  Month_1  Month_2  ...  RSI_overbought  RSI_oversold  \\\n",
      "0  97307400        1        0  ...           False         False   \n",
      "1  60067000        1        0  ...           False         False   \n",
      "2  58892500        1        0  ...           False         False   \n",
      "3  81503900        1        0  ...           False         False   \n",
      "4  64211200        1        0  ...           False         False   \n",
      "\n",
      "   prev_hot_streak  prev_cold_streak  current_hot_streak  current_cold_streak  \\\n",
      "0              1.0               3.0                 1.0                  0.0   \n",
      "1              1.0               3.0                 0.0                  1.0   \n",
      "2              1.0               1.0                 1.0                  0.0   \n",
      "3              1.0               1.0                 0.0                  1.0   \n",
      "4              1.0               1.0                 1.0                  0.0   \n",
      "\n",
      "   prev_current_hot  prev_current_cold  current_hot_prev_cold  \\\n",
      "0               0.0                3.0                   -2.0   \n",
      "1               1.0                2.0                   -3.0   \n",
      "2               0.0                1.0                    0.0   \n",
      "3               1.0                0.0                   -1.0   \n",
      "4               0.0                1.0                    0.0   \n",
      "\n",
      "   current_cold_prev_hot  \n",
      "0                   -1.0  \n",
      "1                    0.0  \n",
      "2                   -1.0  \n",
      "3                    0.0  \n",
      "4                   -1.0  \n",
      "\n",
      "[5 rows x 52 columns]\n",
      "naive return: 7.78053317874085\n",
      "Training Accuracy: 53.60%\n",
      "\n",
      "Optimal Parameters: {'criterion': 'gini', 'max_depth': 3, 'min_samples_leaf': 5, 'min_samples_split': 5, 'n_estimators': 100}\n",
      "{'model': 'RF', 'precision': 0.608, 'recall': 0.5314685314685315, 'accuracy': 0.536, 'f1': 0.5671641791044776, 'return': -11.799192735490038}\n",
      "{'model': 'Logistic', 'precision': 0.52, 'recall': 0.5241935483870968, 'accuracy': 0.524, 'f1': 0.5220883534136547, 'return': 8.127272995157957}\n",
      "{'model': 'SVM_poly', 'precision': 0.88, 'recall': 0.4954954954954955, 'accuracy': 0.492, 'f1': 0.6340057636887608, 'return': 15.883007274135629}\n",
      "Fitting 5 folds for each of 400 candidates, totalling 2000 fits\n"
     ]
    },
    {
     "name": "stderr",
     "output_type": "stream",
     "text": [
      "[Parallel(n_jobs=10)]: Using backend LokyBackend with 10 concurrent workers.\n",
      "[Parallel(n_jobs=10)]: Done  30 tasks      | elapsed:    2.7s\n",
      "[Parallel(n_jobs=10)]: Done 180 tasks      | elapsed:    6.4s\n",
      "[Parallel(n_jobs=10)]: Done 430 tasks      | elapsed:   17.6s\n",
      "[Parallel(n_jobs=10)]: Done 780 tasks      | elapsed:   30.7s\n",
      "[Parallel(n_jobs=10)]: Done 1230 tasks      | elapsed:   47.5s\n",
      "[Parallel(n_jobs=10)]: Done 1780 tasks      | elapsed:  1.1min\n",
      "[Parallel(n_jobs=10)]: Done 2000 out of 2000 | elapsed:  1.3min finished\n"
     ]
    },
    {
     "name": "stdout",
     "output_type": "stream",
     "text": [
      "Training Accuracy: 55.00%\n",
      "\n",
      "Optimal Parameters: {'learning_rate': 0.01, 'max_depth': 6, 'n_estimators': 110}\n",
      "{'model': 'XGB', 'precision': 0.496, 'recall': 0.512396694214876, 'accuracy': 0.512, 'f1': 0.5040650406504064, 'return': 8.395649334171173}\n",
      "{'model': 'stack', 'precision': 0.632, 'recall': 0.5, 'accuracy': 0.5, 'f1': 0.558303886925795, 'return': 2.6760897728172335}\n"
     ]
    },
    {
     "data": {
      "text/plain": [
       "({'model': 'Naive',\n",
       "  'precision': 1.0,\n",
       "  'recall': 0.5,\n",
       "  'accuracy': 0.5,\n",
       "  'f1': 0.6666666666666666,\n",
       "  'return': 7.78053317874085},\n",
       " {'model': 'RF',\n",
       "  'precision': 0.608,\n",
       "  'recall': 0.5314685314685315,\n",
       "  'accuracy': 0.536,\n",
       "  'f1': 0.5671641791044776,\n",
       "  'return': -11.799192735490038},\n",
       " {'model': 'Logistic',\n",
       "  'precision': 0.52,\n",
       "  'recall': 0.5241935483870968,\n",
       "  'accuracy': 0.524,\n",
       "  'f1': 0.5220883534136547,\n",
       "  'return': 8.127272995157957},\n",
       " {'model': 'SVM_poly',\n",
       "  'precision': 0.88,\n",
       "  'recall': 0.4954954954954955,\n",
       "  'accuracy': 0.492,\n",
       "  'f1': 0.6340057636887608,\n",
       "  'return': 15.883007274135629},\n",
       " {'model': 'XGB',\n",
       "  'precision': 0.496,\n",
       "  'recall': 0.512396694214876,\n",
       "  'accuracy': 0.512,\n",
       "  'f1': 0.5040650406504064,\n",
       "  'return': 8.395649334171173},\n",
       " {'model': 'stack',\n",
       "  'precision': 0.632,\n",
       "  'recall': 0.5,\n",
       "  'accuracy': 0.5,\n",
       "  'f1': 0.558303886925795,\n",
       "  'return': 2.6760897728172335})"
      ]
     },
     "execution_count": 34,
     "metadata": {},
     "output_type": "execute_result"
    }
   ],
   "source": [
    "fname = os.path.join(os.path.abspath(os.getcwd()),'data','10_ETF','random2.csv')\n",
    "daily_prediction_analysis(fname)"
   ]
  },
  {
   "cell_type": "code",
   "execution_count": 35,
   "metadata": {},
   "outputs": [
    {
     "name": "stdout",
     "output_type": "stream",
     "text": [
      "   Unnamed: 0       Date  Adj Close     Close      Open      High       Low  \\\n",
      "0           7 2015-01-12   1.003139  1.003139  0.989520  1.004266  0.995814   \n",
      "1           8 2015-01-13   1.018927  1.018927  1.023671  1.039766  1.016016   \n",
      "2           9 2015-01-14   1.006923  1.006923  0.996372  1.007353  1.004622   \n",
      "3          10 2015-01-15   0.998862  0.998862  1.002532  1.016135  0.996185   \n",
      "4          11 2015-01-16   0.994704  0.994704  0.990677  0.994799  0.993024   \n",
      "\n",
      "      Volume  Month_1  Month_2  ...  RSI_overbought  RSI_oversold  \\\n",
      "0   88939300        1        0  ...           False         False   \n",
      "1  116128900        1        0  ...            True         False   \n",
      "2  110145700        1        0  ...           False         False   \n",
      "3  131809300        1        0  ...           False         False   \n",
      "4   44778800        1        0  ...           False         False   \n",
      "\n",
      "   prev_hot_streak  prev_cold_streak  current_hot_streak  current_cold_streak  \\\n",
      "0              3.0               1.0                 1.0                  0.0   \n",
      "1              3.0               1.0                 2.0                  0.0   \n",
      "2              2.0               1.0                 0.0                  1.0   \n",
      "3              2.0               1.0                 0.0                  2.0   \n",
      "4              2.0               1.0                 0.0                  3.0   \n",
      "\n",
      "   prev_current_hot  prev_current_cold  current_hot_prev_cold  \\\n",
      "0               2.0                1.0                    0.0   \n",
      "1               1.0                1.0                    1.0   \n",
      "2               2.0                0.0                   -1.0   \n",
      "3               2.0               -1.0                   -1.0   \n",
      "4               2.0               -2.0                   -1.0   \n",
      "\n",
      "   current_cold_prev_hot  \n",
      "0                   -3.0  \n",
      "1                   -3.0  \n",
      "2                   -1.0  \n",
      "3                    0.0  \n",
      "4                    1.0  \n",
      "\n",
      "[5 rows x 52 columns]\n",
      "naive return: -13.811392956877853\n",
      "Training Accuracy: 54.10%\n",
      "\n",
      "Optimal Parameters: {'criterion': 'entropy', 'max_depth': 3, 'min_samples_leaf': 5, 'min_samples_split': 5, 'n_estimators': 100}\n",
      "{'model': 'RF', 'precision': 0.4296875, 'recall': 0.4954954954954955, 'accuracy': 0.484, 'f1': 0.4602510460251046, 'return': 13.754122882656393}\n",
      "{'model': 'Logistic', 'precision': 0.5546875, 'recall': 0.5503875968992248, 'accuracy': 0.54, 'f1': 0.5525291828793774, 'return': 14.0107189661687}\n",
      "{'model': 'SVM_poly', 'precision': 0.578125, 'recall': 0.5362318840579711, 'accuracy': 0.528, 'f1': 0.556390977443609, 'return': 3.2381463253413267}\n",
      "Fitting 5 folds for each of 400 candidates, totalling 2000 fits\n"
     ]
    },
    {
     "name": "stderr",
     "output_type": "stream",
     "text": [
      "[Parallel(n_jobs=10)]: Using backend LokyBackend with 10 concurrent workers.\n",
      "[Parallel(n_jobs=10)]: Done  30 tasks      | elapsed:    2.7s\n",
      "[Parallel(n_jobs=10)]: Done 180 tasks      | elapsed:    6.5s\n",
      "[Parallel(n_jobs=10)]: Done 430 tasks      | elapsed:   17.8s\n",
      "[Parallel(n_jobs=10)]: Done 780 tasks      | elapsed:   31.0s\n",
      "[Parallel(n_jobs=10)]: Done 1230 tasks      | elapsed:   47.5s\n",
      "[Parallel(n_jobs=10)]: Done 1780 tasks      | elapsed:  1.1min\n",
      "[Parallel(n_jobs=10)]: Done 2000 out of 2000 | elapsed:  1.3min finished\n"
     ]
    },
    {
     "name": "stdout",
     "output_type": "stream",
     "text": [
      "Training Accuracy: 52.90%\n",
      "\n",
      "Optimal Parameters: {'learning_rate': 0.1, 'max_depth': 2, 'n_estimators': 30}\n",
      "{'model': 'XGB', 'precision': 0.515625, 'recall': 0.49624060150375937, 'accuracy': 0.484, 'f1': 0.5057471264367815, 'return': 22.406157844708332}\n",
      "{'model': 'stack', 'precision': 0.3515625, 'recall': 0.45, 'accuracy': 0.448, 'f1': 0.39473684210526316, 'return': 24.149008506191503}\n"
     ]
    },
    {
     "data": {
      "text/plain": [
       "({'model': 'Naive',\n",
       "  'precision': 1.0,\n",
       "  'recall': 0.512,\n",
       "  'accuracy': 0.512,\n",
       "  'f1': 0.6772486772486772,\n",
       "  'return': -13.811392956877853},\n",
       " {'model': 'RF',\n",
       "  'precision': 0.4296875,\n",
       "  'recall': 0.4954954954954955,\n",
       "  'accuracy': 0.484,\n",
       "  'f1': 0.4602510460251046,\n",
       "  'return': 13.754122882656393},\n",
       " {'model': 'Logistic',\n",
       "  'precision': 0.5546875,\n",
       "  'recall': 0.5503875968992248,\n",
       "  'accuracy': 0.54,\n",
       "  'f1': 0.5525291828793774,\n",
       "  'return': 14.0107189661687},\n",
       " {'model': 'SVM_poly',\n",
       "  'precision': 0.578125,\n",
       "  'recall': 0.5362318840579711,\n",
       "  'accuracy': 0.528,\n",
       "  'f1': 0.556390977443609,\n",
       "  'return': 3.2381463253413267},\n",
       " {'model': 'XGB',\n",
       "  'precision': 0.515625,\n",
       "  'recall': 0.49624060150375937,\n",
       "  'accuracy': 0.484,\n",
       "  'f1': 0.5057471264367815,\n",
       "  'return': 22.406157844708332},\n",
       " {'model': 'stack',\n",
       "  'precision': 0.3515625,\n",
       "  'recall': 0.45,\n",
       "  'accuracy': 0.448,\n",
       "  'f1': 0.39473684210526316,\n",
       "  'return': 24.149008506191503})"
      ]
     },
     "execution_count": 35,
     "metadata": {},
     "output_type": "execute_result"
    }
   ],
   "source": [
    "fname = os.path.join(os.path.abspath(os.getcwd()),'data','10_ETF','random3.csv')\n",
    "daily_prediction_analysis(fname)"
   ]
  },
  {
   "cell_type": "code",
   "execution_count": 36,
   "metadata": {},
   "outputs": [
    {
     "name": "stdout",
     "output_type": "stream",
     "text": [
      "   Unnamed: 0       Date  Adj Close     Close      Open      High       Low  \\\n",
      "0           7 2015-01-12   1.012496  1.012496  1.008585  1.013507  1.010236   \n",
      "1           8 2015-01-13   1.010802  1.010802  1.009623  1.011213  1.010111   \n",
      "2           9 2015-01-14   1.006021  1.006021  1.009614  1.008938  0.992522   \n",
      "3          10 2015-01-15   1.006034  1.006034  0.998142  1.024376  1.003465   \n",
      "4          11 2015-01-16   1.010403  1.010403  1.016840  1.010523  1.008183   \n",
      "\n",
      "      Volume  Month_1  Month_2  ...  RSI_overbought  RSI_oversold  \\\n",
      "0  211003300        1        0  ...           False         False   \n",
      "1  153100200        1        0  ...           False         False   \n",
      "2   78448500        1        0  ...           False         False   \n",
      "3   95555300        1        0  ...           False         False   \n",
      "4   91230900        1        0  ...           False         False   \n",
      "\n",
      "   prev_hot_streak  prev_cold_streak  current_hot_streak  current_cold_streak  \\\n",
      "0              4.0               2.0                 0.0                  2.0   \n",
      "1              4.0               2.0                 0.0                  3.0   \n",
      "2              4.0               2.0                 0.0                  4.0   \n",
      "3              4.0               4.0                 1.0                  0.0   \n",
      "4              4.0               4.0                 2.0                  0.0   \n",
      "\n",
      "   prev_current_hot  prev_current_cold  current_hot_prev_cold  \\\n",
      "0               4.0                0.0                   -2.0   \n",
      "1               4.0               -1.0                   -2.0   \n",
      "2               4.0               -2.0                   -2.0   \n",
      "3               3.0                4.0                   -3.0   \n",
      "4               2.0                4.0                   -2.0   \n",
      "\n",
      "   current_cold_prev_hot  \n",
      "0                   -2.0  \n",
      "1                   -1.0  \n",
      "2                    0.0  \n",
      "3                   -4.0  \n",
      "4                   -4.0  \n",
      "\n",
      "[5 rows x 52 columns]\n",
      "naive return: 12.599487136180608\n",
      "Training Accuracy: 51.00%\n",
      "\n",
      "Optimal Parameters: {'criterion': 'gini', 'max_depth': None, 'min_samples_leaf': 5, 'min_samples_split': 5, 'n_estimators': 100}\n",
      "{'model': 'RF', 'precision': 0.5220588235294118, 'recall': 0.5590551181102362, 'accuracy': 0.516, 'f1': 0.5399239543726235, 'return': 29.31910029917687}\n",
      "{'model': 'Logistic', 'precision': 0.4338235294117647, 'recall': 0.5, 'accuracy': 0.456, 'f1': 0.4645669291338583, 'return': -14.128312822502458}\n",
      "{'model': 'SVM_poly', 'precision': 1.0, 'recall': 0.544, 'accuracy': 0.544, 'f1': 0.7046632124352332, 'return': 12.599487136180608}\n",
      "Fitting 5 folds for each of 400 candidates, totalling 2000 fits\n"
     ]
    },
    {
     "name": "stderr",
     "output_type": "stream",
     "text": [
      "[Parallel(n_jobs=10)]: Using backend LokyBackend with 10 concurrent workers.\n",
      "[Parallel(n_jobs=10)]: Done  30 tasks      | elapsed:    2.8s\n",
      "[Parallel(n_jobs=10)]: Done 180 tasks      | elapsed:    6.5s\n",
      "[Parallel(n_jobs=10)]: Done 430 tasks      | elapsed:   18.1s\n",
      "[Parallel(n_jobs=10)]: Done 780 tasks      | elapsed:   31.5s\n",
      "[Parallel(n_jobs=10)]: Done 1230 tasks      | elapsed:   48.3s\n",
      "[Parallel(n_jobs=10)]: Done 1780 tasks      | elapsed:  1.1min\n",
      "[Parallel(n_jobs=10)]: Done 2000 out of 2000 | elapsed:  1.3min finished\n"
     ]
    },
    {
     "name": "stdout",
     "output_type": "stream",
     "text": [
      "Training Accuracy: 53.00%\n",
      "\n",
      "Optimal Parameters: {'learning_rate': 0.001, 'max_depth': 9, 'n_estimators': 70}\n",
      "{'model': 'XGB', 'precision': 0.4852941176470588, 'recall': 0.5196850393700787, 'accuracy': 0.476, 'f1': 0.5019011406844106, 'return': -1.1071965918696438}\n",
      "{'model': 'stack', 'precision': 0.6397058823529411, 'recall': 0.5209580838323353, 'accuracy': 0.484, 'f1': 0.5742574257425742, 'return': 18.082581567177776}\n"
     ]
    },
    {
     "data": {
      "text/plain": [
       "({'model': 'Naive',\n",
       "  'precision': 1.0,\n",
       "  'recall': 0.544,\n",
       "  'accuracy': 0.544,\n",
       "  'f1': 0.7046632124352332,\n",
       "  'return': 12.599487136180608},\n",
       " {'model': 'RF',\n",
       "  'precision': 0.5220588235294118,\n",
       "  'recall': 0.5590551181102362,\n",
       "  'accuracy': 0.516,\n",
       "  'f1': 0.5399239543726235,\n",
       "  'return': 29.31910029917687},\n",
       " {'model': 'Logistic',\n",
       "  'precision': 0.4338235294117647,\n",
       "  'recall': 0.5,\n",
       "  'accuracy': 0.456,\n",
       "  'f1': 0.4645669291338583,\n",
       "  'return': -14.128312822502458},\n",
       " {'model': 'SVM_poly',\n",
       "  'precision': 1.0,\n",
       "  'recall': 0.544,\n",
       "  'accuracy': 0.544,\n",
       "  'f1': 0.7046632124352332,\n",
       "  'return': 12.599487136180608},\n",
       " {'model': 'XGB',\n",
       "  'precision': 0.4852941176470588,\n",
       "  'recall': 0.5196850393700787,\n",
       "  'accuracy': 0.476,\n",
       "  'f1': 0.5019011406844106,\n",
       "  'return': -1.1071965918696438},\n",
       " {'model': 'stack',\n",
       "  'precision': 0.6397058823529411,\n",
       "  'recall': 0.5209580838323353,\n",
       "  'accuracy': 0.484,\n",
       "  'f1': 0.5742574257425742,\n",
       "  'return': 18.082581567177776})"
      ]
     },
     "execution_count": 36,
     "metadata": {},
     "output_type": "execute_result"
    }
   ],
   "source": [
    "fname = os.path.join(os.path.abspath(os.getcwd()),'data','10_ETF','random4.csv')\n",
    "daily_prediction_analysis(fname)"
   ]
  },
  {
   "cell_type": "code",
   "execution_count": null,
   "metadata": {},
   "outputs": [],
   "source": []
  }
 ],
 "metadata": {
  "kernelspec": {
   "display_name": "Python 3",
   "language": "python",
   "name": "python3"
  },
  "language_info": {
   "codemirror_mode": {
    "name": "ipython",
    "version": 3
   },
   "file_extension": ".py",
   "mimetype": "text/x-python",
   "name": "python",
   "nbconvert_exporter": "python",
   "pygments_lexer": "ipython3",
   "version": "3.8.5"
  }
 },
 "nbformat": 4,
 "nbformat_minor": 2
}
